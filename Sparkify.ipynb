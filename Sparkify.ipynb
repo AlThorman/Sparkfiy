{
 "cells": [
  {
   "cell_type": "markdown",
   "metadata": {},
   "source": [
    "# Sparkify Churn  \n",
    "\n",
    "\n",
    "\n",
    "\n",
    "\n",
    "## Table of Contents\n",
    "* [Introduction](#int)\n",
    "* [Load and Clean Dataset](#load)\n",
    "* [Exploratory Data Analysis](#eda)\n",
    "* [Feature Engineering](#eng)\n",
    "* [Modelling](#model)\n",
    "* [Conclusions](#con)\n",
    "\n",
    "## Introduction\n",
    "<a class=\"anchor\" id=\"int\"></a>\n",
    "\n",
    "In this project, I'll use Spark to process a Spotify-like music app dataset. The goal is to create predictive features for identifying churn, which means customers cancelling their service. By detecting potential churners in advance, the business can provide incentives to retain them and potentially save revenue. This workspace has a 128MB subset of the full 12GB dataset."
   ]
  },
  {
   "cell_type": "markdown",
   "metadata": {},
   "source": [
    "First let's import the necessary libraries."
   ]
  },
  {
   "cell_type": "code",
   "execution_count": 1,
   "metadata": {},
   "outputs": [],
   "source": [
    "# import libraries\n",
    "import pyspark\n",
    "from pyspark import SparkConf\n",
    "from pyspark.sql import SparkSession\n",
    "from pyspark.sql.functions import udf\n",
    "from pyspark.sql.types import StringType\n",
    "from pyspark.sql.types import IntegerType\n",
    "from pyspark.sql.functions import isnan, count, when, col, desc, udf, col, sort_array, asc, avg\n",
    "from pyspark.sql.functions import sum as Fsum\n",
    "from pyspark.sql.window import Window\n",
    "from pyspark.sql import Row\n",
    "from pyspark.sql import functions as F\n",
    "from pyspark.sql.functions import *\n",
    "\n",
    "from pyspark.ml import Pipeline\n",
    "from pyspark.ml.classification import LogisticRegression, RandomForestClassifier, GBTClassifier, LinearSVC, NaiveBayes\n",
    "from pyspark.ml.evaluation import MulticlassClassificationEvaluator\n",
    "from pyspark.ml.feature import CountVectorizer, IDF, PCA, RegexTokenizer, VectorAssembler, Normalizer, StandardScaler\n",
    "from pyspark.ml.regression import LinearRegression\n",
    "from pyspark.ml.tuning import CrossValidator, ParamGridBuilder\n",
    "\n",
    "import datetime\n",
    "import time\n",
    "\n",
    "import pandas as pd\n",
    "import numpy as np\n",
    "import re\n",
    "%matplotlib inline\n",
    "import matplotlib.pyplot as plt\n",
    "import seaborn as sns\n",
    "sns.set()"
   ]
  },
  {
   "cell_type": "markdown",
   "metadata": {},
   "source": [
    "We can now create a Spark Session."
   ]
  },
  {
   "cell_type": "code",
   "execution_count": 4,
   "metadata": {},
   "outputs": [],
   "source": [
    "# Initialize Spark session\n",
    "spark = SparkSession.builder \\\n",
    "    .appName(\"Sparkify Project\") \\\n",
    "    .getOrCreate()"
   ]
  },
  {
   "cell_type": "code",
   "execution_count": 5,
   "metadata": {},
   "outputs": [
    {
     "data": {
      "text/plain": [
       "[('spark.sql.warehouse.dir',\n",
       "  'file:/Users/althorman/Projects/DSND/Sparkfiy/spark-warehouse'),\n",
       " ('spark.app.submitTime', '1695372040257'),\n",
       " ('spark.driver.host', 'macbook-pro-2'),\n",
       " ('spark.executor.id', 'driver'),\n",
       " ('spark.app.startTime', '1695372040509'),\n",
       " ('spark.driver.extraJavaOptions',\n",
       "  '-Djava.net.preferIPv6Addresses=false -XX:+IgnoreUnrecognizedVMOptions --add-opens=java.base/java.lang=ALL-UNNAMED --add-opens=java.base/java.lang.invoke=ALL-UNNAMED --add-opens=java.base/java.lang.reflect=ALL-UNNAMED --add-opens=java.base/java.io=ALL-UNNAMED --add-opens=java.base/java.net=ALL-UNNAMED --add-opens=java.base/java.nio=ALL-UNNAMED --add-opens=java.base/java.util=ALL-UNNAMED --add-opens=java.base/java.util.concurrent=ALL-UNNAMED --add-opens=java.base/java.util.concurrent.atomic=ALL-UNNAMED --add-opens=java.base/sun.nio.ch=ALL-UNNAMED --add-opens=java.base/sun.nio.cs=ALL-UNNAMED --add-opens=java.base/sun.security.action=ALL-UNNAMED --add-opens=java.base/sun.util.calendar=ALL-UNNAMED --add-opens=java.security.jgss/sun.security.krb5=ALL-UNNAMED -Djdk.reflect.useDirectMethodHandle=false'),\n",
       " ('spark.rdd.compress', 'True'),\n",
       " ('spark.serializer.objectStreamReset', '100'),\n",
       " ('spark.driver.port', '64636'),\n",
       " ('spark.master', 'local[*]'),\n",
       " ('spark.submit.pyFiles', ''),\n",
       " ('spark.submit.deployMode', 'client'),\n",
       " ('spark.app.id', 'local-1695372041535'),\n",
       " ('spark.ui.showConsoleProgress', 'true'),\n",
       " ('spark.executor.extraJavaOptions',\n",
       "  '-Djava.net.preferIPv6Addresses=false -XX:+IgnoreUnrecognizedVMOptions --add-opens=java.base/java.lang=ALL-UNNAMED --add-opens=java.base/java.lang.invoke=ALL-UNNAMED --add-opens=java.base/java.lang.reflect=ALL-UNNAMED --add-opens=java.base/java.io=ALL-UNNAMED --add-opens=java.base/java.net=ALL-UNNAMED --add-opens=java.base/java.nio=ALL-UNNAMED --add-opens=java.base/java.util=ALL-UNNAMED --add-opens=java.base/java.util.concurrent=ALL-UNNAMED --add-opens=java.base/java.util.concurrent.atomic=ALL-UNNAMED --add-opens=java.base/sun.nio.ch=ALL-UNNAMED --add-opens=java.base/sun.nio.cs=ALL-UNNAMED --add-opens=java.base/sun.security.action=ALL-UNNAMED --add-opens=java.base/sun.util.calendar=ALL-UNNAMED --add-opens=java.security.jgss/sun.security.krb5=ALL-UNNAMED -Djdk.reflect.useDirectMethodHandle=false'),\n",
       " ('spark.app.name', 'Sparkify Project')]"
      ]
     },
     "execution_count": 5,
     "metadata": {},
     "output_type": "execute_result"
    }
   ],
   "source": [
    "# Retrieve Spark configuration\n",
    "spark_conf = spark.sparkContext.getConf().getAll()\n",
    "spark_conf"
   ]
  },
  {
   "cell_type": "markdown",
   "metadata": {},
   "source": [
    "## Load and Clean Dataset\n",
    "<a class=\"anchor\" id=\"load\"></a>\n",
    "The dataset, named `mini_sparkify_event_data.json`, is initially loaded. Subsequently, a check is performed to identify and address any issues related to invalid or missing data. This involves examining records for instances where `userId` or `sessionId` is absent and taking appropriate action."
   ]
  },
  {
   "cell_type": "code",
   "execution_count": 6,
   "metadata": {},
   "outputs": [
    {
     "name": "stderr",
     "output_type": "stream",
     "text": [
      "                                                                                \r"
     ]
    }
   ],
   "source": [
    "# Load the dataset\n",
    "df = spark.read.json(\"mini_sparkify_event_data.json\")\n"
   ]
  },
  {
   "cell_type": "code",
   "execution_count": 7,
   "metadata": {},
   "outputs": [
    {
     "name": "stdout",
     "output_type": "stream",
     "text": [
      "root\n",
      " |-- artist: string (nullable = true)\n",
      " |-- auth: string (nullable = true)\n",
      " |-- firstName: string (nullable = true)\n",
      " |-- gender: string (nullable = true)\n",
      " |-- itemInSession: long (nullable = true)\n",
      " |-- lastName: string (nullable = true)\n",
      " |-- length: double (nullable = true)\n",
      " |-- level: string (nullable = true)\n",
      " |-- location: string (nullable = true)\n",
      " |-- method: string (nullable = true)\n",
      " |-- page: string (nullable = true)\n",
      " |-- registration: long (nullable = true)\n",
      " |-- sessionId: long (nullable = true)\n",
      " |-- song: string (nullable = true)\n",
      " |-- status: long (nullable = true)\n",
      " |-- ts: long (nullable = true)\n",
      " |-- userAgent: string (nullable = true)\n",
      " |-- userId: string (nullable = true)\n",
      "\n"
     ]
    }
   ],
   "source": [
    "# Print the schema\n",
    "df.printSchema()"
   ]
  },
  {
   "cell_type": "code",
   "execution_count": 8,
   "metadata": {},
   "outputs": [
    {
     "name": "stderr",
     "output_type": "stream",
     "text": [
      "23/09/22 11:44:53 WARN package: Truncated the string representation of a plan since it was too large. This behavior can be adjusted by setting 'spark.sql.debug.maxToStringFields'.\n",
      "[Stage 1:====>                                                    (1 + 11) / 12]\r"
     ]
    },
    {
     "name": "stdout",
     "output_type": "stream",
     "text": [
      "+-------+------------------+----------+---------+------+------------------+--------+------------------+------+-----------------+------+-------+--------------------+-----------------+--------------------+------------------+--------------------+--------------------+------------------+\n",
      "|summary|            artist|      auth|firstName|gender|     itemInSession|lastName|            length| level|         location|method|   page|        registration|        sessionId|                song|            status|                  ts|           userAgent|            userId|\n",
      "+-------+------------------+----------+---------+------+------------------+--------+------------------+------+-----------------+------+-------+--------------------+-----------------+--------------------+------------------+--------------------+--------------------+------------------+\n",
      "|  count|            228108|    286500|   278154|278154|            286500|  278154|            228108|286500|           278154|286500| 286500|              278154|           286500|              228108|            286500|              286500|              278154|            286500|\n",
      "|   mean| 551.0852017937219|      null|     null|  null|114.41421291448516|    null|249.11718197783478|  null|             null|  null|   null|1.535358834085557...|1041.526554973822|            Infinity|210.05459685863875|1.540956889810471...|                null| 59682.02278593872|\n",
      "| stddev|1217.7693079161377|      null|     null|  null|129.76726201141113|    null| 99.23517921058324|  null|             null|  null|   null|3.2913216163276587E9|726.7762634630808|                 NaN|31.505078488422033| 1.507543960823119E9|                null|109091.94999910604|\n",
      "|    min|               !!!| Cancelled| Adelaida|     F|                 0|   Adams|           0.78322|  free|       Albany, OR|   GET|  About|       1521380675000|                1|\u001c",
      "ÃÂg ÃÂtti Gr...|               200|       1538352117000|\"Mozilla/5.0 (Mac...|                  |\n",
      "|    max| ÃÂlafur Arnalds|Logged Out|   Zyonna|     M|              1321|  Wright|        3024.66567|  paid|Winston-Salem, NC|   PUT|Upgrade|       1543247354000|             2474|ÃÂau hafa slopp...|               404|       1543799476000|Mozilla/5.0 (comp...|                99|\n",
      "+-------+------------------+----------+---------+------+------------------+--------+------------------+------+-----------------+------+-------+--------------------+-----------------+--------------------+------------------+--------------------+--------------------+------------------+\n",
      "\n"
     ]
    },
    {
     "name": "stderr",
     "output_type": "stream",
     "text": [
      "\r",
      "                                                                                \r"
     ]
    }
   ],
   "source": [
    "# Generate summary statistics for the DataFrame\n",
    "df.describe().show()"
   ]
  },
  {
   "cell_type": "markdown",
   "metadata": {},
   "source": [
    "The current datatypes are appropriate for this stage, and no adjustments are needed."
   ]
  },
  {
   "cell_type": "code",
   "execution_count": 9,
   "metadata": {},
   "outputs": [
    {
     "data": {
      "text/plain": [
       "[Row(artist='Martha Tilston', auth='Logged In', firstName='Colin', gender='M', itemInSession=50, lastName='Freeman', length=277.89016, level='paid', location='Bakersfield, CA', method='PUT', page='NextSong', registration=1538173362000, sessionId=29, song='Rockpools', status=200, ts=1538352117000, userAgent='Mozilla/5.0 (Windows NT 6.1; WOW64; rv:31.0) Gecko/20100101 Firefox/31.0', userId='30'),\n",
       " Row(artist='Five Iron Frenzy', auth='Logged In', firstName='Micah', gender='M', itemInSession=79, lastName='Long', length=236.09424, level='free', location='Boston-Cambridge-Newton, MA-NH', method='PUT', page='NextSong', registration=1538331630000, sessionId=8, song='Canada', status=200, ts=1538352180000, userAgent='\"Mozilla/5.0 (Windows NT 6.1; WOW64) AppleWebKit/537.36 (KHTML, like Gecko) Chrome/37.0.2062.103 Safari/537.36\"', userId='9')]"
      ]
     },
     "execution_count": 9,
     "metadata": {},
     "output_type": "execute_result"
    }
   ],
   "source": [
    "# Display the first two rows of the DataFrame\n",
    "df.take(2)\n"
   ]
  },
  {
   "cell_type": "code",
   "execution_count": 10,
   "metadata": {},
   "outputs": [
    {
     "data": {
      "text/plain": [
       "286500"
      ]
     },
     "execution_count": 10,
     "metadata": {},
     "output_type": "execute_result"
    }
   ],
   "source": [
    "# Get the count of the dataset before any cleaning (should be 286500)\n",
    "df.count()"
   ]
  },
  {
   "cell_type": "markdown",
   "metadata": {},
   "source": [
    "The dataset, prior to any cleaning operations, contains 286,500 rows."
   ]
  },
  {
   "cell_type": "markdown",
   "metadata": {},
   "source": [
    "### Drop Rows with Missing Values"
   ]
  },
  {
   "cell_type": "markdown",
   "metadata": {},
   "source": [
    "First we will drop any rows with missing values in the userid or sessionid."
   ]
  },
  {
   "cell_type": "code",
   "execution_count": 11,
   "metadata": {},
   "outputs": [],
   "source": [
    "# Drop rows with missing values in userId or sessionId\n",
    "df = df.dropna(how='any', subset=[\"userId\", \"sessionId\"])"
   ]
  },
  {
   "cell_type": "code",
   "execution_count": 12,
   "metadata": {},
   "outputs": [
    {
     "name": "stderr",
     "output_type": "stream",
     "text": [
      "\r",
      "[Stage 8:====>                                                    (1 + 11) / 12]\r",
      "\r",
      "                                                                                \r"
     ]
    },
    {
     "data": {
      "text/plain": [
       "286500"
      ]
     },
     "execution_count": 12,
     "metadata": {},
     "output_type": "execute_result"
    }
   ],
   "source": [
    "# Get the count of the dataset before any cleaning (should be 286500)\n",
    "df.count()"
   ]
  },
  {
   "cell_type": "markdown",
   "metadata": {},
   "source": [
    "As we can see from the above, the row count is still the same at 286500. Let's take a closer look."
   ]
  },
  {
   "cell_type": "code",
   "execution_count": 13,
   "metadata": {},
   "outputs": [
    {
     "name": "stdout",
     "output_type": "stream",
     "text": [
      "+------+\n",
      "|userId|\n",
      "+------+\n",
      "|      |\n",
      "|    10|\n",
      "|   100|\n",
      "|100001|\n",
      "|100002|\n",
      "|100003|\n",
      "|100004|\n",
      "|100005|\n",
      "|100006|\n",
      "|100007|\n",
      "|100008|\n",
      "|100009|\n",
      "|100010|\n",
      "|100011|\n",
      "|100012|\n",
      "|100013|\n",
      "|100014|\n",
      "|100015|\n",
      "|100016|\n",
      "|100017|\n",
      "+------+\n",
      "only showing top 20 rows\n",
      "\n"
     ]
    }
   ],
   "source": [
    "# Drop duplicate userIds\n",
    "df.select(\"userId\").dropDuplicates().sort(\"userId\").show()"
   ]
  },
  {
   "cell_type": "markdown",
   "metadata": {},
   "source": [
    "From the above output, it's evident that some entries have empty strings as userIds. We'll address this issue after conducting a thorough investigation of the sessionId."
   ]
  },
  {
   "cell_type": "code",
   "execution_count": 14,
   "metadata": {},
   "outputs": [
    {
     "name": "stdout",
     "output_type": "stream",
     "text": [
      "+---------+\n",
      "|sessionId|\n",
      "+---------+\n",
      "|        1|\n",
      "|        2|\n",
      "|        3|\n",
      "|        4|\n",
      "|        5|\n",
      "|        6|\n",
      "|        7|\n",
      "|        8|\n",
      "|        9|\n",
      "|       10|\n",
      "|       11|\n",
      "|       12|\n",
      "|       13|\n",
      "|       15|\n",
      "|       16|\n",
      "|       17|\n",
      "|       18|\n",
      "|       19|\n",
      "|       20|\n",
      "|       21|\n",
      "+---------+\n",
      "only showing top 20 rows\n",
      "\n"
     ]
    }
   ],
   "source": [
    "# Display unique sessionIds in ascending order\n",
    "df.select(\"sessionId\").dropDuplicates().sort(\"sessionId\").show()"
   ]
  },
  {
   "cell_type": "markdown",
   "metadata": {},
   "source": [
    "The sessionId appears to be in order. However, as observed earlier, there are entries with empty strings for the userId. These entries should now be removed."
   ]
  },
  {
   "cell_type": "code",
   "execution_count": 15,
   "metadata": {},
   "outputs": [],
   "source": [
    "# Remove rows with empty string userId\n",
    "df = df.filter(df[\"userId\"] != \"\")"
   ]
  },
  {
   "cell_type": "code",
   "execution_count": 16,
   "metadata": {},
   "outputs": [
    {
     "data": {
      "text/plain": [
       "278154"
      ]
     },
     "execution_count": 16,
     "metadata": {},
     "output_type": "execute_result"
    }
   ],
   "source": [
    "# Get the count of the dataset before any cleaning (should be 286500)\n",
    "df.count()"
   ]
  },
  {
   "cell_type": "markdown",
   "metadata": {},
   "source": [
    "In this cleaning step, we have removed 8346 rows, resulting in a dataset size of 278154 rows."
   ]
  },
  {
   "cell_type": "code",
   "execution_count": 17,
   "metadata": {},
   "outputs": [
    {
     "name": "stderr",
     "output_type": "stream",
     "text": [
      "                                                                                \r"
     ]
    },
    {
     "data": {
      "text/html": [
       "<div>\n",
       "<style scoped>\n",
       "    .dataframe tbody tr th:only-of-type {\n",
       "        vertical-align: middle;\n",
       "    }\n",
       "\n",
       "    .dataframe tbody tr th {\n",
       "        vertical-align: top;\n",
       "    }\n",
       "\n",
       "    .dataframe thead th {\n",
       "        text-align: right;\n",
       "    }\n",
       "</style>\n",
       "<table border=\"1\" class=\"dataframe\">\n",
       "  <thead>\n",
       "    <tr style=\"text-align: right;\">\n",
       "      <th></th>\n",
       "      <th>artist</th>\n",
       "      <th>auth</th>\n",
       "      <th>firstName</th>\n",
       "      <th>gender</th>\n",
       "      <th>itemInSession</th>\n",
       "      <th>lastName</th>\n",
       "      <th>length</th>\n",
       "      <th>level</th>\n",
       "      <th>location</th>\n",
       "      <th>method</th>\n",
       "      <th>page</th>\n",
       "      <th>registration</th>\n",
       "      <th>sessionId</th>\n",
       "      <th>song</th>\n",
       "      <th>status</th>\n",
       "      <th>ts</th>\n",
       "      <th>userAgent</th>\n",
       "      <th>userId</th>\n",
       "    </tr>\n",
       "  </thead>\n",
       "  <tbody>\n",
       "    <tr>\n",
       "      <th>0</th>\n",
       "      <td>Martha Tilston</td>\n",
       "      <td>Logged In</td>\n",
       "      <td>Colin</td>\n",
       "      <td>M</td>\n",
       "      <td>50</td>\n",
       "      <td>Freeman</td>\n",
       "      <td>277.89016</td>\n",
       "      <td>paid</td>\n",
       "      <td>Bakersfield, CA</td>\n",
       "      <td>PUT</td>\n",
       "      <td>NextSong</td>\n",
       "      <td>1538173362000</td>\n",
       "      <td>29</td>\n",
       "      <td>Rockpools</td>\n",
       "      <td>200</td>\n",
       "      <td>1538352117000</td>\n",
       "      <td>Mozilla/5.0 (Windows NT 6.1; WOW64; rv:31.0) G...</td>\n",
       "      <td>30</td>\n",
       "    </tr>\n",
       "    <tr>\n",
       "      <th>1</th>\n",
       "      <td>Five Iron Frenzy</td>\n",
       "      <td>Logged In</td>\n",
       "      <td>Micah</td>\n",
       "      <td>M</td>\n",
       "      <td>79</td>\n",
       "      <td>Long</td>\n",
       "      <td>236.09424</td>\n",
       "      <td>free</td>\n",
       "      <td>Boston-Cambridge-Newton, MA-NH</td>\n",
       "      <td>PUT</td>\n",
       "      <td>NextSong</td>\n",
       "      <td>1538331630000</td>\n",
       "      <td>8</td>\n",
       "      <td>Canada</td>\n",
       "      <td>200</td>\n",
       "      <td>1538352180000</td>\n",
       "      <td>\"Mozilla/5.0 (Windows NT 6.1; WOW64) AppleWebK...</td>\n",
       "      <td>9</td>\n",
       "    </tr>\n",
       "    <tr>\n",
       "      <th>2</th>\n",
       "      <td>Adam Lambert</td>\n",
       "      <td>Logged In</td>\n",
       "      <td>Colin</td>\n",
       "      <td>M</td>\n",
       "      <td>51</td>\n",
       "      <td>Freeman</td>\n",
       "      <td>282.82730</td>\n",
       "      <td>paid</td>\n",
       "      <td>Bakersfield, CA</td>\n",
       "      <td>PUT</td>\n",
       "      <td>NextSong</td>\n",
       "      <td>1538173362000</td>\n",
       "      <td>29</td>\n",
       "      <td>Time For Miracles</td>\n",
       "      <td>200</td>\n",
       "      <td>1538352394000</td>\n",
       "      <td>Mozilla/5.0 (Windows NT 6.1; WOW64; rv:31.0) G...</td>\n",
       "      <td>30</td>\n",
       "    </tr>\n",
       "    <tr>\n",
       "      <th>3</th>\n",
       "      <td>Enigma</td>\n",
       "      <td>Logged In</td>\n",
       "      <td>Micah</td>\n",
       "      <td>M</td>\n",
       "      <td>80</td>\n",
       "      <td>Long</td>\n",
       "      <td>262.71302</td>\n",
       "      <td>free</td>\n",
       "      <td>Boston-Cambridge-Newton, MA-NH</td>\n",
       "      <td>PUT</td>\n",
       "      <td>NextSong</td>\n",
       "      <td>1538331630000</td>\n",
       "      <td>8</td>\n",
       "      <td>Knocking On Forbidden Doors</td>\n",
       "      <td>200</td>\n",
       "      <td>1538352416000</td>\n",
       "      <td>\"Mozilla/5.0 (Windows NT 6.1; WOW64) AppleWebK...</td>\n",
       "      <td>9</td>\n",
       "    </tr>\n",
       "    <tr>\n",
       "      <th>4</th>\n",
       "      <td>Daft Punk</td>\n",
       "      <td>Logged In</td>\n",
       "      <td>Colin</td>\n",
       "      <td>M</td>\n",
       "      <td>52</td>\n",
       "      <td>Freeman</td>\n",
       "      <td>223.60771</td>\n",
       "      <td>paid</td>\n",
       "      <td>Bakersfield, CA</td>\n",
       "      <td>PUT</td>\n",
       "      <td>NextSong</td>\n",
       "      <td>1538173362000</td>\n",
       "      <td>29</td>\n",
       "      <td>Harder Better Faster Stronger</td>\n",
       "      <td>200</td>\n",
       "      <td>1538352676000</td>\n",
       "      <td>Mozilla/5.0 (Windows NT 6.1; WOW64; rv:31.0) G...</td>\n",
       "      <td>30</td>\n",
       "    </tr>\n",
       "    <tr>\n",
       "      <th>...</th>\n",
       "      <td>...</td>\n",
       "      <td>...</td>\n",
       "      <td>...</td>\n",
       "      <td>...</td>\n",
       "      <td>...</td>\n",
       "      <td>...</td>\n",
       "      <td>...</td>\n",
       "      <td>...</td>\n",
       "      <td>...</td>\n",
       "      <td>...</td>\n",
       "      <td>...</td>\n",
       "      <td>...</td>\n",
       "      <td>...</td>\n",
       "      <td>...</td>\n",
       "      <td>...</td>\n",
       "      <td>...</td>\n",
       "      <td>...</td>\n",
       "      <td>...</td>\n",
       "    </tr>\n",
       "    <tr>\n",
       "      <th>278149</th>\n",
       "      <td>Iron Maiden</td>\n",
       "      <td>Logged In</td>\n",
       "      <td>Emilia</td>\n",
       "      <td>F</td>\n",
       "      <td>38</td>\n",
       "      <td>House</td>\n",
       "      <td>258.66404</td>\n",
       "      <td>paid</td>\n",
       "      <td>New York-Newark-Jersey City, NY-NJ-PA</td>\n",
       "      <td>PUT</td>\n",
       "      <td>NextSong</td>\n",
       "      <td>1538336771000</td>\n",
       "      <td>500</td>\n",
       "      <td>Murders In The Rue Morgue (1998 Digital Remaster)</td>\n",
       "      <td>200</td>\n",
       "      <td>1543622121000</td>\n",
       "      <td>Mozilla/5.0 (compatible; MSIE 9.0; Windows NT ...</td>\n",
       "      <td>300011</td>\n",
       "    </tr>\n",
       "    <tr>\n",
       "      <th>278150</th>\n",
       "      <td>None</td>\n",
       "      <td>Logged In</td>\n",
       "      <td>Emilia</td>\n",
       "      <td>F</td>\n",
       "      <td>39</td>\n",
       "      <td>House</td>\n",
       "      <td>NaN</td>\n",
       "      <td>paid</td>\n",
       "      <td>New York-Newark-Jersey City, NY-NJ-PA</td>\n",
       "      <td>PUT</td>\n",
       "      <td>Logout</td>\n",
       "      <td>1538336771000</td>\n",
       "      <td>500</td>\n",
       "      <td>None</td>\n",
       "      <td>307</td>\n",
       "      <td>1543622122000</td>\n",
       "      <td>Mozilla/5.0 (compatible; MSIE 9.0; Windows NT ...</td>\n",
       "      <td>300011</td>\n",
       "    </tr>\n",
       "    <tr>\n",
       "      <th>278151</th>\n",
       "      <td>None</td>\n",
       "      <td>Logged In</td>\n",
       "      <td>Emilia</td>\n",
       "      <td>F</td>\n",
       "      <td>43</td>\n",
       "      <td>House</td>\n",
       "      <td>NaN</td>\n",
       "      <td>paid</td>\n",
       "      <td>New York-Newark-Jersey City, NY-NJ-PA</td>\n",
       "      <td>GET</td>\n",
       "      <td>Home</td>\n",
       "      <td>1538336771000</td>\n",
       "      <td>500</td>\n",
       "      <td>None</td>\n",
       "      <td>200</td>\n",
       "      <td>1543622248000</td>\n",
       "      <td>Mozilla/5.0 (compatible; MSIE 9.0; Windows NT ...</td>\n",
       "      <td>300011</td>\n",
       "    </tr>\n",
       "    <tr>\n",
       "      <th>278152</th>\n",
       "      <td>None</td>\n",
       "      <td>Logged In</td>\n",
       "      <td>Emilia</td>\n",
       "      <td>F</td>\n",
       "      <td>44</td>\n",
       "      <td>House</td>\n",
       "      <td>NaN</td>\n",
       "      <td>paid</td>\n",
       "      <td>New York-Newark-Jersey City, NY-NJ-PA</td>\n",
       "      <td>GET</td>\n",
       "      <td>About</td>\n",
       "      <td>1538336771000</td>\n",
       "      <td>500</td>\n",
       "      <td>None</td>\n",
       "      <td>200</td>\n",
       "      <td>1543622398000</td>\n",
       "      <td>Mozilla/5.0 (compatible; MSIE 9.0; Windows NT ...</td>\n",
       "      <td>300011</td>\n",
       "    </tr>\n",
       "    <tr>\n",
       "      <th>278153</th>\n",
       "      <td>Camera Obscura</td>\n",
       "      <td>Logged In</td>\n",
       "      <td>Emilia</td>\n",
       "      <td>F</td>\n",
       "      <td>45</td>\n",
       "      <td>House</td>\n",
       "      <td>170.89261</td>\n",
       "      <td>paid</td>\n",
       "      <td>New York-Newark-Jersey City, NY-NJ-PA</td>\n",
       "      <td>PUT</td>\n",
       "      <td>NextSong</td>\n",
       "      <td>1538336771000</td>\n",
       "      <td>500</td>\n",
       "      <td>The Sun On His Back</td>\n",
       "      <td>200</td>\n",
       "      <td>1543622411000</td>\n",
       "      <td>Mozilla/5.0 (compatible; MSIE 9.0; Windows NT ...</td>\n",
       "      <td>300011</td>\n",
       "    </tr>\n",
       "  </tbody>\n",
       "</table>\n",
       "<p>278154 rows × 18 columns</p>\n",
       "</div>"
      ],
      "text/plain": [
       "                  artist       auth firstName gender  itemInSession lastName  \\\n",
       "0         Martha Tilston  Logged In     Colin      M             50  Freeman   \n",
       "1       Five Iron Frenzy  Logged In     Micah      M             79     Long   \n",
       "2           Adam Lambert  Logged In     Colin      M             51  Freeman   \n",
       "3                 Enigma  Logged In     Micah      M             80     Long   \n",
       "4              Daft Punk  Logged In     Colin      M             52  Freeman   \n",
       "...                  ...        ...       ...    ...            ...      ...   \n",
       "278149       Iron Maiden  Logged In    Emilia      F             38    House   \n",
       "278150              None  Logged In    Emilia      F             39    House   \n",
       "278151              None  Logged In    Emilia      F             43    House   \n",
       "278152              None  Logged In    Emilia      F             44    House   \n",
       "278153    Camera Obscura  Logged In    Emilia      F             45    House   \n",
       "\n",
       "           length level                               location method  \\\n",
       "0       277.89016  paid                        Bakersfield, CA    PUT   \n",
       "1       236.09424  free         Boston-Cambridge-Newton, MA-NH    PUT   \n",
       "2       282.82730  paid                        Bakersfield, CA    PUT   \n",
       "3       262.71302  free         Boston-Cambridge-Newton, MA-NH    PUT   \n",
       "4       223.60771  paid                        Bakersfield, CA    PUT   \n",
       "...           ...   ...                                    ...    ...   \n",
       "278149  258.66404  paid  New York-Newark-Jersey City, NY-NJ-PA    PUT   \n",
       "278150        NaN  paid  New York-Newark-Jersey City, NY-NJ-PA    PUT   \n",
       "278151        NaN  paid  New York-Newark-Jersey City, NY-NJ-PA    GET   \n",
       "278152        NaN  paid  New York-Newark-Jersey City, NY-NJ-PA    GET   \n",
       "278153  170.89261  paid  New York-Newark-Jersey City, NY-NJ-PA    PUT   \n",
       "\n",
       "            page   registration  sessionId  \\\n",
       "0       NextSong  1538173362000         29   \n",
       "1       NextSong  1538331630000          8   \n",
       "2       NextSong  1538173362000         29   \n",
       "3       NextSong  1538331630000          8   \n",
       "4       NextSong  1538173362000         29   \n",
       "...          ...            ...        ...   \n",
       "278149  NextSong  1538336771000        500   \n",
       "278150    Logout  1538336771000        500   \n",
       "278151      Home  1538336771000        500   \n",
       "278152     About  1538336771000        500   \n",
       "278153  NextSong  1538336771000        500   \n",
       "\n",
       "                                                     song  status  \\\n",
       "0                                               Rockpools     200   \n",
       "1                                                  Canada     200   \n",
       "2                                       Time For Miracles     200   \n",
       "3                             Knocking On Forbidden Doors     200   \n",
       "4                           Harder Better Faster Stronger     200   \n",
       "...                                                   ...     ...   \n",
       "278149  Murders In The Rue Morgue (1998 Digital Remaster)     200   \n",
       "278150                                               None     307   \n",
       "278151                                               None     200   \n",
       "278152                                               None     200   \n",
       "278153                                The Sun On His Back     200   \n",
       "\n",
       "                   ts                                          userAgent  \\\n",
       "0       1538352117000  Mozilla/5.0 (Windows NT 6.1; WOW64; rv:31.0) G...   \n",
       "1       1538352180000  \"Mozilla/5.0 (Windows NT 6.1; WOW64) AppleWebK...   \n",
       "2       1538352394000  Mozilla/5.0 (Windows NT 6.1; WOW64; rv:31.0) G...   \n",
       "3       1538352416000  \"Mozilla/5.0 (Windows NT 6.1; WOW64) AppleWebK...   \n",
       "4       1538352676000  Mozilla/5.0 (Windows NT 6.1; WOW64; rv:31.0) G...   \n",
       "...               ...                                                ...   \n",
       "278149  1543622121000  Mozilla/5.0 (compatible; MSIE 9.0; Windows NT ...   \n",
       "278150  1543622122000  Mozilla/5.0 (compatible; MSIE 9.0; Windows NT ...   \n",
       "278151  1543622248000  Mozilla/5.0 (compatible; MSIE 9.0; Windows NT ...   \n",
       "278152  1543622398000  Mozilla/5.0 (compatible; MSIE 9.0; Windows NT ...   \n",
       "278153  1543622411000  Mozilla/5.0 (compatible; MSIE 9.0; Windows NT ...   \n",
       "\n",
       "        userId  \n",
       "0           30  \n",
       "1            9  \n",
       "2           30  \n",
       "3            9  \n",
       "4           30  \n",
       "...        ...  \n",
       "278149  300011  \n",
       "278150  300011  \n",
       "278151  300011  \n",
       "278152  300011  \n",
       "278153  300011  \n",
       "\n",
       "[278154 rows x 18 columns]"
      ]
     },
     "execution_count": 17,
     "metadata": {},
     "output_type": "execute_result"
    }
   ],
   "source": [
    "# Convert Spark DataFrame to Pandas DataFrame\n",
    "df_pandas = df.toPandas()\n",
    "df_pandas"
   ]
  },
  {
   "cell_type": "markdown",
   "metadata": {},
   "source": [
    "## Exploratory Data Analysis\n",
    "\n",
    "### Define Churn\n",
    "\n",
    "A new column `Churn` will be created to serve as the label for our model. Churn will be defined using `Cancellation Confirmation` events, which occur for both paid and free users. A value of 1 will be assigned where a user has churned, and 0 where they have not.\n",
    "\n",
    "### Explore Data\n",
    "\n",
    "The exploratory data analysis will involve observing the behavior of users who stayed versus users who churned. This will begin by examining aggregates for these two groups of users, including how frequently they performed specific actions over a certain time period or number of songs played.\n"
   ]
  },
  {
   "cell_type": "markdown",
   "metadata": {},
   "source": [
    "### Identify users who have churned"
   ]
  },
  {
   "cell_type": "markdown",
   "metadata": {},
   "source": [
    "First, we will identify the users who have churned using the `Cancellation Confirmation` event under the `page` column."
   ]
  },
  {
   "cell_type": "code",
   "execution_count": 18,
   "metadata": {},
   "outputs": [
    {
     "name": "stdout",
     "output_type": "stream",
     "text": [
      "+--------------------+\n",
      "|                page|\n",
      "+--------------------+\n",
      "|              Cancel|\n",
      "|    Submit Downgrade|\n",
      "|         Thumbs Down|\n",
      "|                Home|\n",
      "|           Downgrade|\n",
      "|         Roll Advert|\n",
      "|              Logout|\n",
      "|       Save Settings|\n",
      "|Cancellation Conf...|\n",
      "|               About|\n",
      "|            Settings|\n",
      "|     Add to Playlist|\n",
      "|          Add Friend|\n",
      "|            NextSong|\n",
      "|           Thumbs Up|\n",
      "|                Help|\n",
      "|             Upgrade|\n",
      "|               Error|\n",
      "|      Submit Upgrade|\n",
      "+--------------------+\n",
      "\n"
     ]
    }
   ],
   "source": [
    "# Check the unique pages, including \"Cancellation Confirmation\"\n",
    "df.select(\"page\").dropDuplicates().show()"
   ]
  },
  {
   "cell_type": "markdown",
   "metadata": {},
   "source": [
    "From the above output, it's evident that the \"Cancellation Confirmation\" page is where a user is directed after confirming their decision to cancel the service. This page serves as our identifier for churn."
   ]
  },
  {
   "cell_type": "code",
   "execution_count": 19,
   "metadata": {},
   "outputs": [
    {
     "data": {
      "text/plain": [
       "52"
      ]
     },
     "execution_count": 19,
     "metadata": {},
     "output_type": "execute_result"
    }
   ],
   "source": [
    "# Count the number of users who churned\n",
    "df.select([\"userId\", \"page\"]).where(df.page == \"Cancellation Confirmation\").count()"
   ]
  },
  {
   "cell_type": "markdown",
   "metadata": {},
   "source": [
    "From the above cell we can see that there are 52 users in our dataset that have churned. We can take a closer look at the userids that churned."
   ]
  },
  {
   "cell_type": "code",
   "execution_count": 20,
   "metadata": {},
   "outputs": [
    {
     "name": "stdout",
     "output_type": "stream",
     "text": [
      "+------+--------------------+\n",
      "|userId|                page|\n",
      "+------+--------------------+\n",
      "|    18|Cancellation Conf...|\n",
      "|    32|Cancellation Conf...|\n",
      "|   125|Cancellation Conf...|\n",
      "|   105|Cancellation Conf...|\n",
      "|    17|Cancellation Conf...|\n",
      "|   143|Cancellation Conf...|\n",
      "|   101|Cancellation Conf...|\n",
      "|   129|Cancellation Conf...|\n",
      "|   121|Cancellation Conf...|\n",
      "|    51|Cancellation Conf...|\n",
      "|    87|Cancellation Conf...|\n",
      "|   122|Cancellation Conf...|\n",
      "|    12|Cancellation Conf...|\n",
      "|    58|Cancellation Conf...|\n",
      "|    73|Cancellation Conf...|\n",
      "|     3|Cancellation Conf...|\n",
      "|   106|Cancellation Conf...|\n",
      "|   103|Cancellation Conf...|\n",
      "|    28|Cancellation Conf...|\n",
      "|    54|Cancellation Conf...|\n",
      "+------+--------------------+\n",
      "only showing top 20 rows\n",
      "\n"
     ]
    }
   ],
   "source": [
    "# Show the userIds and page for users who confirmed cancellation\n",
    "df.select([\"userId\", \"page\"]).where(df.page == \"Cancellation Confirmation\").show()"
   ]
  },
  {
   "cell_type": "markdown",
   "metadata": {},
   "source": [
    "We will now create the flag for churned users who will be assigned a 1 if churned and a 0 where they have not churned. This flag will be added to the dataset as a column named \"churn\"."
   ]
  },
  {
   "cell_type": "code",
   "execution_count": 21,
   "metadata": {},
   "outputs": [],
   "source": [
    "# Define a user-defined function to flag Cancellation Confirmation events\n",
    "churn_event = udf(lambda x: 1 if x == \"Cancellation Confirmation\" else 0, IntegerType())"
   ]
  },
  {
   "cell_type": "code",
   "execution_count": 22,
   "metadata": {},
   "outputs": [],
   "source": [
    "# Creating Churn Column\n",
    "df = df.withColumn(\"churn\", churn_event(\"page\"))"
   ]
  },
  {
   "cell_type": "code",
   "execution_count": 23,
   "metadata": {},
   "outputs": [
    {
     "name": "stderr",
     "output_type": "stream",
     "text": [
      "                                                                                \r"
     ]
    },
    {
     "data": {
      "text/plain": [
       "Row(artist='Martha Tilston', auth='Logged In', firstName='Colin', gender='M', itemInSession=50, lastName='Freeman', length=277.89016, level='paid', location='Bakersfield, CA', method='PUT', page='NextSong', registration=1538173362000, sessionId=29, song='Rockpools', status=200, ts=1538352117000, userAgent='Mozilla/5.0 (Windows NT 6.1; WOW64; rv:31.0) Gecko/20100101 Firefox/31.0', userId='30', churn=0)"
      ]
     },
     "execution_count": 23,
     "metadata": {},
     "output_type": "execute_result"
    }
   ],
   "source": [
    "df.head()"
   ]
  },
  {
   "cell_type": "markdown",
   "metadata": {},
   "source": [
    "From the above example, it is evident that the churn column has been successfully incorporated into the dataframe, and a value of 0 has been assigned for this specific userId. We can now proceed to sort our records for a given userId in reverse time order and sum up the values in the churn column."
   ]
  },
  {
   "cell_type": "code",
   "execution_count": 24,
   "metadata": {},
   "outputs": [],
   "source": [
    "# Sort records for a user in reverse time order to facilitate summing up values in the churn column\n",
    "windowval = Window.partitionBy(\"userId\").orderBy(desc(\"ts\")).rangeBetween(Window.unboundedPreceding, 0)"
   ]
  },
  {
   "cell_type": "code",
   "execution_count": 25,
   "metadata": {},
   "outputs": [],
   "source": [
    "# Create Churn Column\n",
    "df = df.withColumn(\"churn\", Fsum(\"churn\").over(windowval))"
   ]
  },
  {
   "cell_type": "code",
   "execution_count": 26,
   "metadata": {},
   "outputs": [],
   "source": [
    "# Group by churn to get counts\n",
    "df_churn = df.select(['userId', 'churn']).dropDuplicates().groupBy('churn').count()"
   ]
  },
  {
   "cell_type": "code",
   "execution_count": 27,
   "metadata": {},
   "outputs": [
    {
     "name": "stderr",
     "output_type": "stream",
     "text": [
      "[Stage 31:====>                                                   (1 + 11) / 12]\r"
     ]
    },
    {
     "name": "stdout",
     "output_type": "stream",
     "text": [
      "+-----+-----+\n",
      "|churn|count|\n",
      "+-----+-----+\n",
      "|    0|  173|\n",
      "|    1|   52|\n",
      "+-----+-----+\n",
      "\n"
     ]
    },
    {
     "name": "stderr",
     "output_type": "stream",
     "text": [
      "\r",
      "[Stage 33:>                                                         (0 + 1) / 1]\r",
      "\r",
      "                                                                                \r"
     ]
    }
   ],
   "source": [
    "df_churn.show()"
   ]
  },
  {
   "cell_type": "markdown",
   "metadata": {},
   "source": [
    "### EDA for Users that Stayed vs Users that Churned"
   ]
  },
  {
   "cell_type": "markdown",
   "metadata": {},
   "source": [
    "Now we can examine behaviour of those who churned vs those who did not churn. First we will visualise those who churned vs those who stayed."
   ]
  },
  {
   "cell_type": "code",
   "execution_count": 28,
   "metadata": {},
   "outputs": [
    {
     "name": "stderr",
     "output_type": "stream",
     "text": [
      "                                                                                \r"
     ]
    }
   ],
   "source": [
    "# Convert to Pandas for visualization\n",
    "df_churn = df_churn.toPandas()"
   ]
  },
  {
   "cell_type": "code",
   "execution_count": 29,
   "metadata": {},
   "outputs": [
    {
     "data": {
      "text/plain": [
       "Text(0.5, 1.0, 'Number of Users That Churned')"
      ]
     },
     "execution_count": 29,
     "metadata": {},
     "output_type": "execute_result"
    },
    {
     "data": {
      "image/png": "[encoded data removed]",
      "text/plain": [
       "<Figure size 800x600 with 1 Axes>"
      ]
     },
     "metadata": {},
     "output_type": "display_data"
    }
   ],
   "source": [
    "# Plot the number of users that churned\n",
    "plt.figure(figsize=[8, 6])\n",
    "ax = sns.barplot(data=df_churn, x='churn', y='count')\n",
    "plt.title(\"Number of Users That Churned\")"
   ]
  },
  {
   "cell_type": "code",
   "execution_count": 30,
   "metadata": {},
   "outputs": [
    {
     "data": {
      "text/plain": [
       "23.11111111111111"
      ]
     },
     "execution_count": 30,
     "metadata": {},
     "output_type": "execute_result"
    }
   ],
   "source": [
    "# Calculate the churn rate\n",
    "churned = 52\n",
    "retained = 173\n",
    "churn_rate = (churned / (churned + retained)) * 100\n",
    "churn_rate\n"
   ]
  },
  {
   "cell_type": "markdown",
   "metadata": {},
   "source": [
    "From the above, we can observe that out of the total users, 173 chose to stay while 52 decided to churn. Consequently, this indicates that 23% of our users churned. It's crucial to acknowledge that this represents an imbalance in our dataset, which should be taken into consideration in further analysis."
   ]
  },
  {
   "cell_type": "markdown",
   "metadata": {},
   "source": [
    "### Length of time: Users that Churned vs. Users that Stayed"
   ]
  },
  {
   "cell_type": "markdown",
   "metadata": {},
   "source": [
    "We can now look at the length distribution for customers who stayed and those which churned. "
   ]
  },
  {
   "cell_type": "code",
   "execution_count": 31,
   "metadata": {},
   "outputs": [],
   "source": [
    "# Get the customers who churned\n",
    "df_churned = df.filter(df.churn == 1)"
   ]
  },
  {
   "cell_type": "code",
   "execution_count": 32,
   "metadata": {},
   "outputs": [
    {
     "name": "stderr",
     "output_type": "stream",
     "text": [
      "                                                                                \r"
     ]
    }
   ],
   "source": [
    "# Convert to Pandas DataFrame\n",
    "df_pd = df_churned.toPandas()"
   ]
  },
  {
   "cell_type": "code",
   "execution_count": 33,
   "metadata": {},
   "outputs": [],
   "source": [
    "# Drop null values from the 'length' column\n",
    "df_pd['length'].dropna(inplace=True)"
   ]
  },
  {
   "cell_type": "code",
   "execution_count": 34,
   "metadata": {},
   "outputs": [
    {
     "data": {
      "text/plain": [
       "Text(0, 0.5, 'Frequency')"
      ]
     },
     "execution_count": 34,
     "metadata": {},
     "output_type": "execute_result"
    },
    {
     "data": {
      "image/png": "[encoded data removed]",
      "text/plain": [
       "<Figure size 640x480 with 1 Axes>"
      ]
     },
     "metadata": {},
     "output_type": "display_data"
    }
   ],
   "source": [
    "# Plot the distribution of 'length'\n",
    "bin_edges = np.arange(10, df_pd['length'].max() + 25, 25)\n",
    "plt.hist(data=df_pd, x='length', bins=bin_edges)\n",
    "plt.xlim(0, 700)\n",
    "plt.xlabel('Length')\n",
    "plt.ylabel('Frequency')\n"
   ]
  },
  {
   "cell_type": "markdown",
   "metadata": {},
   "source": [
    "Now we can do the same process for customers who didn't churn."
   ]
  },
  {
   "cell_type": "code",
   "execution_count": 35,
   "metadata": {},
   "outputs": [],
   "source": [
    "# Get the users who stayed\n",
    "df_stayed = df.filter(df.churn == 0)"
   ]
  },
  {
   "cell_type": "code",
   "execution_count": 36,
   "metadata": {},
   "outputs": [
    {
     "name": "stderr",
     "output_type": "stream",
     "text": [
      "                                                                                \r"
     ]
    }
   ],
   "source": [
    "# Convert to Pandas DataFrame\n",
    "df_pd = df_stayed.toPandas()"
   ]
  },
  {
   "cell_type": "code",
   "execution_count": 37,
   "metadata": {},
   "outputs": [],
   "source": [
    "# Drop null values from the 'length' column\n",
    "df_pd['length'].dropna(inplace=True)"
   ]
  },
  {
   "cell_type": "code",
   "execution_count": 38,
   "metadata": {},
   "outputs": [
    {
     "data": {
      "text/plain": [
       "Text(0, 0.5, 'Frequency')"
      ]
     },
     "execution_count": 38,
     "metadata": {},
     "output_type": "execute_result"
    },
    {
     "data": {
      "image/png": "[encoded data removed]",
      "text/plain": [
       "<Figure size 640x480 with 1 Axes>"
      ]
     },
     "metadata": {},
     "output_type": "display_data"
    }
   ],
   "source": [
    "# Plot the distribution of 'length' for users who stayed\n",
    "bin_edges = np.arange(10, df_pd['length'].max() + 25, 25)\n",
    "plt.hist(data=df_pd, x='length', bins=bin_edges)\n",
    "plt.xlim(0, 700)\n",
    "plt.xlabel('Length')\n",
    "plt.ylabel('Frequency')"
   ]
  },
  {
   "cell_type": "markdown",
   "metadata": {},
   "source": [
    "From the above plots, it's evident that the length distribution is very similar for users who churned and those who stayed. This similarity suggests that length alone may not be very useful for predicting customer churn. Let's explore a categorical feature instead, such as gender."
   ]
  },
  {
   "cell_type": "markdown",
   "metadata": {},
   "source": [
    "###  Gender - Users who Churned vs Users who Stayed"
   ]
  },
  {
   "cell_type": "markdown",
   "metadata": {},
   "source": [
    "Now we can examine if gender had an effect on users that churned vs. those that stayed."
   ]
  },
  {
   "cell_type": "code",
   "execution_count": 39,
   "metadata": {},
   "outputs": [],
   "source": [
    "# Create a DataFrame for gender grouped by churn and gender\n",
    "df_gender = df.select(['userId', 'churn', 'gender']).dropDuplicates().groupBy('gender', 'churn').count()"
   ]
  },
  {
   "cell_type": "code",
   "execution_count": 40,
   "metadata": {},
   "outputs": [
    {
     "name": "stderr",
     "output_type": "stream",
     "text": [
      "\r",
      "[Stage 49:===================>                                     (4 + 8) / 12]\r"
     ]
    },
    {
     "name": "stdout",
     "output_type": "stream",
     "text": [
      "+------+-----+-----+\n",
      "|gender|churn|count|\n",
      "+------+-----+-----+\n",
      "|     F|    0|   84|\n",
      "|     F|    1|   20|\n",
      "|     M|    0|   89|\n",
      "|     M|    1|   32|\n",
      "+------+-----+-----+\n",
      "\n"
     ]
    },
    {
     "name": "stderr",
     "output_type": "stream",
     "text": [
      "\r",
      "[Stage 51:>                                                         (0 + 1) / 1]\r",
      "\r",
      "                                                                                \r"
     ]
    }
   ],
   "source": [
    "# Show the gender DataFrame\n",
    "df_gender.show()"
   ]
  },
  {
   "cell_type": "code",
   "execution_count": 41,
   "metadata": {},
   "outputs": [
    {
     "name": "stderr",
     "output_type": "stream",
     "text": [
      "                                                                                \r"
     ]
    }
   ],
   "source": [
    "# Convert to Pandas DataFrame for visualization\n",
    "df_gender = df_gender.toPandas()"
   ]
  },
  {
   "cell_type": "code",
   "execution_count": 42,
   "metadata": {},
   "outputs": [],
   "source": [
    "# Order the DataFrame for visualization\n",
    "df_gender = df_gender.sort_values('count', ascending=False)"
   ]
  },
  {
   "cell_type": "code",
   "execution_count": 43,
   "metadata": {},
   "outputs": [
    {
     "data": {
      "text/plain": [
       "Text(0.5, 1.0, 'Number of Users That Churned by Gender')"
      ]
     },
     "execution_count": 43,
     "metadata": {},
     "output_type": "execute_result"
    },
    {
     "data": {
      "image/png": "[encoded data removed]",
      "text/plain": [
       "<Figure size 800x600 with 1 Axes>"
      ]
     },
     "metadata": {},
     "output_type": "display_data"
    }
   ],
   "source": [
    "# Seaborn barplot for churn by gender\n",
    "plt.figure(figsize=[8, 6])\n",
    "ax = sns.barplot(data=df_gender, x='churn', y='count', hue='gender')\n",
    "ax.legend(loc=1, ncol=2, framealpha=1, title='Gender')\n",
    "plt.title(\"Number of Users That Churned by Gender\")"
   ]
  },
  {
   "cell_type": "code",
   "execution_count": 44,
   "metadata": {},
   "outputs": [
    {
     "data": {
      "text/plain": [
       "26.446280991735538"
      ]
     },
     "execution_count": 44,
     "metadata": {},
     "output_type": "execute_result"
    }
   ],
   "source": [
    "# male churn rate\n",
    "\n",
    "male_churned = 32\n",
    "male_retained = 89\n",
    "male_churn_rate = (male_churned / (male_churned + male_retained)) * 100\n",
    "male_churn_rate\n"
   ]
  },
  {
   "cell_type": "code",
   "execution_count": 45,
   "metadata": {},
   "outputs": [
    {
     "data": {
      "text/plain": [
       "19.230769230769234"
      ]
     },
     "execution_count": 45,
     "metadata": {},
     "output_type": "execute_result"
    }
   ],
   "source": [
    "# female churn rate\n",
    "female_churned = 20\n",
    "female_retained = 84\n",
    "female_churn_rate = (female_churned / (female_churned + female_retained)) * 100\n",
    "female_churn_rate"
   ]
  },
  {
   "cell_type": "markdown",
   "metadata": {},
   "source": [
    "From the above chart, we can see that more male users churned(rate of 0.264) compared to female users (rate of 0.192)."
   ]
  },
  {
   "cell_type": "markdown",
   "metadata": {},
   "source": [
    "### Users who Churned vs Stayed by Level"
   ]
  },
  {
   "cell_type": "markdown",
   "metadata": {},
   "source": [
    "Next we can examine if level has an effect on whether a user will churn or not. By level here we mean if the user paid for the app or if they used it for free with ads."
   ]
  },
  {
   "cell_type": "code",
   "execution_count": 46,
   "metadata": {},
   "outputs": [],
   "source": [
    "# Create a DataFrame for user level grouped by churn and level\n",
    "df_level = df.select(['userId', 'churn', 'level']).dropDuplicates().groupBy('level', 'churn').count()"
   ]
  },
  {
   "cell_type": "code",
   "execution_count": 47,
   "metadata": {},
   "outputs": [
    {
     "name": "stderr",
     "output_type": "stream",
     "text": [
      "[Stage 61:=========>                                              (2 + 10) / 12]\r"
     ]
    },
    {
     "name": "stdout",
     "output_type": "stream",
     "text": [
      "+-----+-----+-----+\n",
      "|level|churn|count|\n",
      "+-----+-----+-----+\n",
      "| free|    0|  149|\n",
      "| paid|    0|  129|\n",
      "| free|    1|   46|\n",
      "| paid|    1|   36|\n",
      "+-----+-----+-----+\n",
      "\n"
     ]
    },
    {
     "name": "stderr",
     "output_type": "stream",
     "text": [
      "\r",
      "                                                                                \r"
     ]
    }
   ],
   "source": [
    "df_level.show()"
   ]
  },
  {
   "cell_type": "code",
   "execution_count": 48,
   "metadata": {},
   "outputs": [
    {
     "name": "stderr",
     "output_type": "stream",
     "text": [
      "                                                                                \r"
     ]
    }
   ],
   "source": [
    "# Convert to Pandas DataFrame for visualization\n",
    "df_level = df_level.toPandas()"
   ]
  },
  {
   "cell_type": "code",
   "execution_count": 49,
   "metadata": {},
   "outputs": [
    {
     "data": {
      "text/plain": [
       "Text(0.5, 1.0, 'Number of Users That Churned by Level')"
      ]
     },
     "execution_count": 49,
     "metadata": {},
     "output_type": "execute_result"
    },
    {
     "data": {
      "image/png": "[encoded data removed]",
      "text/plain": [
       "<Figure size 800x600 with 1 Axes>"
      ]
     },
     "metadata": {},
     "output_type": "display_data"
    }
   ],
   "source": [
    "# Seaborn barplot for churn by user level\n",
    "plt.figure(figsize=[8, 6])\n",
    "ax = sns.barplot(data=df_level, x='churn', y='count', hue='level')\n",
    "ax.legend(loc=1, ncol=2, framealpha=1, title='Level')\n",
    "plt.title(\"Number of Users That Churned by Level\")"
   ]
  },
  {
   "cell_type": "code",
   "execution_count": 50,
   "metadata": {},
   "outputs": [
    {
     "data": {
      "text/plain": [
       "23.589743589743588"
      ]
     },
     "execution_count": 50,
     "metadata": {},
     "output_type": "execute_result"
    }
   ],
   "source": [
    "# free churn rate\n",
    "free_churned = 46\n",
    "free_retained = 149\n",
    "free_churn_rate = (free_churned / (free_churned + free_retained)) * 100\n",
    "free_churn_rate"
   ]
  },
  {
   "cell_type": "code",
   "execution_count": 51,
   "metadata": {},
   "outputs": [
    {
     "data": {
      "text/plain": [
       "21.818181818181817"
      ]
     },
     "execution_count": 51,
     "metadata": {},
     "output_type": "execute_result"
    }
   ],
   "source": [
    "# paid churn rate\n",
    "paid_churned = 36\n",
    "paid_retained = 129\n",
    "paid_churn_rate = (paid_churned / (paid_churned + paid_retained)) * 100\n",
    "paid_churn_rate\n"
   ]
  },
  {
   "cell_type": "markdown",
   "metadata": {},
   "source": [
    "We can see from the above chart that more users who used the service for free were slightly more likely to churn (rate of 0.236) compared to those who paid for the app (0.218)."
   ]
  },
  {
   "cell_type": "markdown",
   "metadata": {},
   "source": [
    "### Pages Visited by Those that Churned vs. Those That Stayed"
   ]
  },
  {
   "cell_type": "markdown",
   "metadata": {},
   "source": [
    "Next we can examine if there were different pages visited by users that churned compared to those that remained."
   ]
  },
  {
   "cell_type": "code",
   "execution_count": 52,
   "metadata": {},
   "outputs": [],
   "source": [
    "# Create a DataFrame for page interactions grouped by churn and page\n",
    "df_page = df.select(['userId', 'churn', 'page']).groupBy('page', 'churn').count()"
   ]
  },
  {
   "cell_type": "code",
   "execution_count": 53,
   "metadata": {},
   "outputs": [
    {
     "name": "stderr",
     "output_type": "stream",
     "text": [
      "\r",
      "[Stage 73:=========>                                              (2 + 10) / 12]\r"
     ]
    },
    {
     "name": "stdout",
     "output_type": "stream",
     "text": [
      "+--------------------+-----+------+\n",
      "|                page|churn| count|\n",
      "+--------------------+-----+------+\n",
      "|            Settings|    0|  1244|\n",
      "|         Thumbs Down|    1|   496|\n",
      "|           Thumbs Up|    1|  1859|\n",
      "|     Add to Playlist|    1|  1038|\n",
      "|               Error|    1|    32|\n",
      "|               About|    1|    56|\n",
      "|         Thumbs Down|    0|  2050|\n",
      "|         Roll Advert|    1|   967|\n",
      "|                Home|    0|  8410|\n",
      "|Cancellation Conf...|    1|    52|\n",
      "|               Error|    0|   220|\n",
      "|              Cancel|    1|    52|\n",
      "|            Settings|    1|   270|\n",
      "|          Add Friend|    1|   636|\n",
      "|             Upgrade|    0|   387|\n",
      "|           Downgrade|    1|   337|\n",
      "|              Logout|    1|   553|\n",
      "|    Submit Downgrade|    1|     9|\n",
      "|       Save Settings|    0|   252|\n",
      "|           Thumbs Up|    0| 10692|\n",
      "|           Downgrade|    0|  1718|\n",
      "|      Submit Upgrade|    0|   127|\n",
      "|         Roll Advert|    0|  2966|\n",
      "|    Submit Downgrade|    0|    54|\n",
      "|              Logout|    0|  2673|\n",
      "|                Home|    1|  1672|\n",
      "|          Add Friend|    0|  3641|\n",
      "|             Upgrade|    1|   112|\n",
      "|      Submit Upgrade|    1|    32|\n",
      "|               About|    0|   439|\n",
      "|     Add to Playlist|    0|  5488|\n",
      "|       Save Settings|    1|    58|\n",
      "|                Help|    1|   239|\n",
      "|            NextSong|    1| 36394|\n",
      "|            NextSong|    0|191714|\n",
      "|                Help|    0|  1215|\n",
      "+--------------------+-----+------+\n",
      "\n"
     ]
    },
    {
     "name": "stderr",
     "output_type": "stream",
     "text": [
      "\r",
      "                                                                                \r"
     ]
    }
   ],
   "source": [
    "df_page.show(40)"
   ]
  },
  {
   "cell_type": "code",
   "execution_count": 54,
   "metadata": {},
   "outputs": [
    {
     "name": "stderr",
     "output_type": "stream",
     "text": [
      "                                                                                \r"
     ]
    }
   ],
   "source": [
    "# Convert to Pandas DataFrame for visualization\n",
    "df_page = df_page.toPandas()"
   ]
  },
  {
   "cell_type": "code",
   "execution_count": 55,
   "metadata": {},
   "outputs": [],
   "source": [
    "# Create counts for those who churned and those who stayed\n",
    "churn_count = df_page[df_page['churn'] == 1].sum()\n",
    "stay_count = df_page[df_page['churn'] == 0].sum()"
   ]
  },
  {
   "cell_type": "markdown",
   "metadata": {},
   "source": [
    "Now that we have a count of the number of customers who churned and those that stayed we can calculate the rate and create this as a column on our dataFrame."
   ]
  },
  {
   "cell_type": "code",
   "execution_count": 56,
   "metadata": {},
   "outputs": [],
   "source": [
    "# Calculate the rate of pages visited by those who churned vs. those who stayed\n",
    "df_page['rate'] = np.where(\n",
    "    df_page['churn'] == 0, df_page['count'] / stay_count['count'], \n",
    "    np.where(df_page['churn'] == 1, df_page['count'] / churn_count['count'], df_page['count'] / churn_count['count'])\n",
    ")"
   ]
  },
  {
   "cell_type": "code",
   "execution_count": 57,
   "metadata": {},
   "outputs": [
    {
     "data": {
      "text/html": [
       "<div>\n",
       "<style scoped>\n",
       "    .dataframe tbody tr th:only-of-type {\n",
       "        vertical-align: middle;\n",
       "    }\n",
       "\n",
       "    .dataframe tbody tr th {\n",
       "        vertical-align: top;\n",
       "    }\n",
       "\n",
       "    .dataframe thead th {\n",
       "        text-align: right;\n",
       "    }\n",
       "</style>\n",
       "<table border=\"1\" class=\"dataframe\">\n",
       "  <thead>\n",
       "    <tr style=\"text-align: right;\">\n",
       "      <th></th>\n",
       "      <th>page</th>\n",
       "      <th>churn</th>\n",
       "      <th>count</th>\n",
       "      <th>rate</th>\n",
       "    </tr>\n",
       "  </thead>\n",
       "  <tbody>\n",
       "    <tr>\n",
       "      <th>0</th>\n",
       "      <td>Settings</td>\n",
       "      <td>0</td>\n",
       "      <td>1244</td>\n",
       "      <td>0.005332</td>\n",
       "    </tr>\n",
       "    <tr>\n",
       "      <th>1</th>\n",
       "      <td>Thumbs Down</td>\n",
       "      <td>1</td>\n",
       "      <td>496</td>\n",
       "      <td>0.011056</td>\n",
       "    </tr>\n",
       "    <tr>\n",
       "      <th>2</th>\n",
       "      <td>Thumbs Up</td>\n",
       "      <td>1</td>\n",
       "      <td>1859</td>\n",
       "      <td>0.041436</td>\n",
       "    </tr>\n",
       "    <tr>\n",
       "      <th>3</th>\n",
       "      <td>Add to Playlist</td>\n",
       "      <td>1</td>\n",
       "      <td>1038</td>\n",
       "      <td>0.023137</td>\n",
       "    </tr>\n",
       "    <tr>\n",
       "      <th>4</th>\n",
       "      <td>Error</td>\n",
       "      <td>1</td>\n",
       "      <td>32</td>\n",
       "      <td>0.000713</td>\n",
       "    </tr>\n",
       "    <tr>\n",
       "      <th>5</th>\n",
       "      <td>About</td>\n",
       "      <td>1</td>\n",
       "      <td>56</td>\n",
       "      <td>0.001248</td>\n",
       "    </tr>\n",
       "    <tr>\n",
       "      <th>6</th>\n",
       "      <td>Thumbs Down</td>\n",
       "      <td>0</td>\n",
       "      <td>2050</td>\n",
       "      <td>0.008787</td>\n",
       "    </tr>\n",
       "    <tr>\n",
       "      <th>7</th>\n",
       "      <td>Roll Advert</td>\n",
       "      <td>1</td>\n",
       "      <td>967</td>\n",
       "      <td>0.021554</td>\n",
       "    </tr>\n",
       "    <tr>\n",
       "      <th>8</th>\n",
       "      <td>Home</td>\n",
       "      <td>0</td>\n",
       "      <td>8410</td>\n",
       "      <td>0.036050</td>\n",
       "    </tr>\n",
       "    <tr>\n",
       "      <th>9</th>\n",
       "      <td>Cancellation Confirmation</td>\n",
       "      <td>1</td>\n",
       "      <td>52</td>\n",
       "      <td>0.001159</td>\n",
       "    </tr>\n",
       "    <tr>\n",
       "      <th>10</th>\n",
       "      <td>Error</td>\n",
       "      <td>0</td>\n",
       "      <td>220</td>\n",
       "      <td>0.000943</td>\n",
       "    </tr>\n",
       "    <tr>\n",
       "      <th>11</th>\n",
       "      <td>Cancel</td>\n",
       "      <td>1</td>\n",
       "      <td>52</td>\n",
       "      <td>0.001159</td>\n",
       "    </tr>\n",
       "    <tr>\n",
       "      <th>12</th>\n",
       "      <td>Settings</td>\n",
       "      <td>1</td>\n",
       "      <td>270</td>\n",
       "      <td>0.006018</td>\n",
       "    </tr>\n",
       "    <tr>\n",
       "      <th>13</th>\n",
       "      <td>Add Friend</td>\n",
       "      <td>1</td>\n",
       "      <td>636</td>\n",
       "      <td>0.014176</td>\n",
       "    </tr>\n",
       "    <tr>\n",
       "      <th>14</th>\n",
       "      <td>Upgrade</td>\n",
       "      <td>0</td>\n",
       "      <td>387</td>\n",
       "      <td>0.001659</td>\n",
       "    </tr>\n",
       "    <tr>\n",
       "      <th>15</th>\n",
       "      <td>Downgrade</td>\n",
       "      <td>1</td>\n",
       "      <td>337</td>\n",
       "      <td>0.007512</td>\n",
       "    </tr>\n",
       "    <tr>\n",
       "      <th>16</th>\n",
       "      <td>Logout</td>\n",
       "      <td>1</td>\n",
       "      <td>553</td>\n",
       "      <td>0.012326</td>\n",
       "    </tr>\n",
       "    <tr>\n",
       "      <th>17</th>\n",
       "      <td>Submit Downgrade</td>\n",
       "      <td>1</td>\n",
       "      <td>9</td>\n",
       "      <td>0.000201</td>\n",
       "    </tr>\n",
       "    <tr>\n",
       "      <th>18</th>\n",
       "      <td>Save Settings</td>\n",
       "      <td>0</td>\n",
       "      <td>252</td>\n",
       "      <td>0.001080</td>\n",
       "    </tr>\n",
       "    <tr>\n",
       "      <th>19</th>\n",
       "      <td>Thumbs Up</td>\n",
       "      <td>0</td>\n",
       "      <td>10692</td>\n",
       "      <td>0.045831</td>\n",
       "    </tr>\n",
       "    <tr>\n",
       "      <th>20</th>\n",
       "      <td>Downgrade</td>\n",
       "      <td>0</td>\n",
       "      <td>1718</td>\n",
       "      <td>0.007364</td>\n",
       "    </tr>\n",
       "    <tr>\n",
       "      <th>21</th>\n",
       "      <td>Submit Upgrade</td>\n",
       "      <td>0</td>\n",
       "      <td>127</td>\n",
       "      <td>0.000544</td>\n",
       "    </tr>\n",
       "    <tr>\n",
       "      <th>22</th>\n",
       "      <td>Roll Advert</td>\n",
       "      <td>0</td>\n",
       "      <td>2966</td>\n",
       "      <td>0.012714</td>\n",
       "    </tr>\n",
       "    <tr>\n",
       "      <th>23</th>\n",
       "      <td>Submit Downgrade</td>\n",
       "      <td>0</td>\n",
       "      <td>54</td>\n",
       "      <td>0.000231</td>\n",
       "    </tr>\n",
       "    <tr>\n",
       "      <th>24</th>\n",
       "      <td>Logout</td>\n",
       "      <td>0</td>\n",
       "      <td>2673</td>\n",
       "      <td>0.011458</td>\n",
       "    </tr>\n",
       "    <tr>\n",
       "      <th>25</th>\n",
       "      <td>Home</td>\n",
       "      <td>1</td>\n",
       "      <td>1672</td>\n",
       "      <td>0.037268</td>\n",
       "    </tr>\n",
       "    <tr>\n",
       "      <th>26</th>\n",
       "      <td>Add Friend</td>\n",
       "      <td>0</td>\n",
       "      <td>3641</td>\n",
       "      <td>0.015607</td>\n",
       "    </tr>\n",
       "    <tr>\n",
       "      <th>27</th>\n",
       "      <td>Upgrade</td>\n",
       "      <td>1</td>\n",
       "      <td>112</td>\n",
       "      <td>0.002496</td>\n",
       "    </tr>\n",
       "    <tr>\n",
       "      <th>28</th>\n",
       "      <td>Submit Upgrade</td>\n",
       "      <td>1</td>\n",
       "      <td>32</td>\n",
       "      <td>0.000713</td>\n",
       "    </tr>\n",
       "    <tr>\n",
       "      <th>29</th>\n",
       "      <td>About</td>\n",
       "      <td>0</td>\n",
       "      <td>439</td>\n",
       "      <td>0.001882</td>\n",
       "    </tr>\n",
       "    <tr>\n",
       "      <th>30</th>\n",
       "      <td>Add to Playlist</td>\n",
       "      <td>0</td>\n",
       "      <td>5488</td>\n",
       "      <td>0.023524</td>\n",
       "    </tr>\n",
       "    <tr>\n",
       "      <th>31</th>\n",
       "      <td>Save Settings</td>\n",
       "      <td>1</td>\n",
       "      <td>58</td>\n",
       "      <td>0.001293</td>\n",
       "    </tr>\n",
       "    <tr>\n",
       "      <th>32</th>\n",
       "      <td>Help</td>\n",
       "      <td>1</td>\n",
       "      <td>239</td>\n",
       "      <td>0.005327</td>\n",
       "    </tr>\n",
       "    <tr>\n",
       "      <th>33</th>\n",
       "      <td>NextSong</td>\n",
       "      <td>1</td>\n",
       "      <td>36394</td>\n",
       "      <td>0.811207</td>\n",
       "    </tr>\n",
       "    <tr>\n",
       "      <th>34</th>\n",
       "      <td>NextSong</td>\n",
       "      <td>0</td>\n",
       "      <td>191714</td>\n",
       "      <td>0.821784</td>\n",
       "    </tr>\n",
       "    <tr>\n",
       "      <th>35</th>\n",
       "      <td>Help</td>\n",
       "      <td>0</td>\n",
       "      <td>1215</td>\n",
       "      <td>0.005208</td>\n",
       "    </tr>\n",
       "  </tbody>\n",
       "</table>\n",
       "</div>"
      ],
      "text/plain": [
       "                         page  churn   count      rate\n",
       "0                    Settings      0    1244  0.005332\n",
       "1                 Thumbs Down      1     496  0.011056\n",
       "2                   Thumbs Up      1    1859  0.041436\n",
       "3             Add to Playlist      1    1038  0.023137\n",
       "4                       Error      1      32  0.000713\n",
       "5                       About      1      56  0.001248\n",
       "6                 Thumbs Down      0    2050  0.008787\n",
       "7                 Roll Advert      1     967  0.021554\n",
       "8                        Home      0    8410  0.036050\n",
       "9   Cancellation Confirmation      1      52  0.001159\n",
       "10                      Error      0     220  0.000943\n",
       "11                     Cancel      1      52  0.001159\n",
       "12                   Settings      1     270  0.006018\n",
       "13                 Add Friend      1     636  0.014176\n",
       "14                    Upgrade      0     387  0.001659\n",
       "15                  Downgrade      1     337  0.007512\n",
       "16                     Logout      1     553  0.012326\n",
       "17           Submit Downgrade      1       9  0.000201\n",
       "18              Save Settings      0     252  0.001080\n",
       "19                  Thumbs Up      0   10692  0.045831\n",
       "20                  Downgrade      0    1718  0.007364\n",
       "21             Submit Upgrade      0     127  0.000544\n",
       "22                Roll Advert      0    2966  0.012714\n",
       "23           Submit Downgrade      0      54  0.000231\n",
       "24                     Logout      0    2673  0.011458\n",
       "25                       Home      1    1672  0.037268\n",
       "26                 Add Friend      0    3641  0.015607\n",
       "27                    Upgrade      1     112  0.002496\n",
       "28             Submit Upgrade      1      32  0.000713\n",
       "29                      About      0     439  0.001882\n",
       "30            Add to Playlist      0    5488  0.023524\n",
       "31              Save Settings      1      58  0.001293\n",
       "32                       Help      1     239  0.005327\n",
       "33                   NextSong      1   36394  0.811207\n",
       "34                   NextSong      0  191714  0.821784\n",
       "35                       Help      0    1215  0.005208"
      ]
     },
     "execution_count": 57,
     "metadata": {},
     "output_type": "execute_result"
    }
   ],
   "source": [
    "df_page.head(40)"
   ]
  },
  {
   "cell_type": "code",
   "execution_count": 58,
   "metadata": {},
   "outputs": [
    {
     "data": {
      "text/plain": [
       "Text(0.5, 1.0, 'Rate of Pages Navigated to by Users that Churned vs. Users that Stayed')"
      ]
     },
     "execution_count": 58,
     "metadata": {},
     "output_type": "execute_result"
    },
    {
     "data": {
      "image/png": "[encoded data removed]",
      "text/plain": [
       "<Figure size 2000x1600 with 1 Axes>"
      ]
     },
     "metadata": {},
     "output_type": "display_data"
    }
   ],
   "source": [
    "# Plot the pages by churn\n",
    "plt.figure(figsize=[20,16])\n",
    "sns.barplot(data=df_page, x='rate', y='page', hue='churn')\n",
    "plt.title('Rate of Pages Navigated to by Users that Churned vs. Users that Stayed')"
   ]
  },
  {
   "cell_type": "markdown",
   "metadata": {},
   "source": [
    "From the above chart, we observe that the most popular action for both users who stayed and those who churned was to skip to the next song. Additionally, churned users were more likely to interact with advertisements and give thumbs down to songs. On the other hand, users who were more likely to stay tended to perform more thumbs up actions, add friends, and add songs to their playlists."
   ]
  },
  {
   "cell_type": "markdown",
   "metadata": {},
   "source": [
    "### Calculating Songs per Hour"
   ]
  },
  {
   "cell_type": "markdown",
   "metadata": {},
   "source": [
    "We can now turn our attention to calculating the number of songs listened to by churn and non churn users per hour. "
   ]
  },
  {
   "cell_type": "code",
   "execution_count": 59,
   "metadata": {},
   "outputs": [],
   "source": [
    "# Define a user-defined function to extract the hour from the timestamp\n",
    "get_hour = udf(lambda x: datetime.datetime.fromtimestamp(x / 1000.0).hour)"
   ]
  },
  {
   "cell_type": "code",
   "execution_count": 60,
   "metadata": {},
   "outputs": [],
   "source": [
    "# Create an 'hour' column\n",
    "df = df.withColumn(\"hour\", get_hour(df.ts))"
   ]
  },
  {
   "cell_type": "code",
   "execution_count": 61,
   "metadata": {},
   "outputs": [
    {
     "name": "stderr",
     "output_type": "stream",
     "text": [
      "                                                                                \r"
     ]
    },
    {
     "data": {
      "text/plain": [
       "Row(artist=None, auth='Logged In', firstName='Darianna', gender='F', itemInSession=34, lastName='Carpenter', length=None, level='free', location='Bridgeport-Stamford-Norwalk, CT', method='PUT', page='Logout', registration=1538016340000, sessionId=187, song=None, status=307, ts=1542823952000, userAgent='\"Mozilla/5.0 (iPhone; CPU iPhone OS 7_1_2 like Mac OS X) AppleWebKit/537.51.2 (KHTML, like Gecko) Version/7.0 Mobile/11D257 Safari/9537.53\"', userId='100010', churn=0, hour='21')"
      ]
     },
     "execution_count": 61,
     "metadata": {},
     "output_type": "execute_result"
    }
   ],
   "source": [
    "df.head()"
   ]
  },
  {
   "cell_type": "markdown",
   "metadata": {},
   "source": [
    "First we can look at those who didn't churn."
   ]
  },
  {
   "cell_type": "code",
   "execution_count": 62,
   "metadata": {},
   "outputs": [],
   "source": [
    "# Create a DataFrame with users who didn't churn and count when user goes to the next song page\n",
    "songs_in_hour_stay = df.filter((df.page == \"NextSong\") & (df.churn == 0)).groupby(df.hour).count().orderBy(df.hour.cast(\"float\"))"
   ]
  },
  {
   "cell_type": "code",
   "execution_count": 63,
   "metadata": {},
   "outputs": [
    {
     "name": "stderr",
     "output_type": "stream",
     "text": [
      "[Stage 90:=============================>                            (1 + 1) / 2]\r"
     ]
    },
    {
     "name": "stdout",
     "output_type": "stream",
     "text": [
      "+----+-----+\n",
      "|hour|count|\n",
      "+----+-----+\n",
      "|   0| 8853|\n",
      "|   1| 8526|\n",
      "|   2| 8085|\n",
      "|   3| 7527|\n",
      "|   4| 7035|\n",
      "|   5| 7014|\n",
      "|   6| 7063|\n",
      "|   7| 6914|\n",
      "|   8| 6960|\n",
      "|   9| 6836|\n",
      "|  10| 6873|\n",
      "|  11| 7023|\n",
      "|  12| 7268|\n",
      "|  13| 7502|\n",
      "|  14| 7440|\n",
      "|  15| 7918|\n",
      "|  16| 8073|\n",
      "|  17| 8792|\n",
      "|  18| 9462|\n",
      "|  19| 9721|\n",
      "|  20| 9464|\n",
      "|  21| 9146|\n",
      "|  22| 9112|\n",
      "|  23| 9107|\n",
      "+----+-----+\n",
      "\n"
     ]
    },
    {
     "name": "stderr",
     "output_type": "stream",
     "text": [
      "\r",
      "                                                                                \r"
     ]
    }
   ],
   "source": [
    "songs_in_hour_stay.show(24)"
   ]
  },
  {
   "cell_type": "code",
   "execution_count": 64,
   "metadata": {},
   "outputs": [
    {
     "name": "stderr",
     "output_type": "stream",
     "text": [
      "                                                                                \r"
     ]
    }
   ],
   "source": [
    "# Convert to Pandas DataFrame and then to numeric\n",
    "songs_in_hour_stay_pd = songs_in_hour_stay.toPandas()\n",
    "songs_in_hour_stay_pd['hour'] = pd.to_numeric(songs_in_hour_stay_pd['hour'])"
   ]
  },
  {
   "cell_type": "code",
   "execution_count": 65,
   "metadata": {},
   "outputs": [
    {
     "data": {
      "text/html": [
       "<div>\n",
       "<style scoped>\n",
       "    .dataframe tbody tr th:only-of-type {\n",
       "        vertical-align: middle;\n",
       "    }\n",
       "\n",
       "    .dataframe tbody tr th {\n",
       "        vertical-align: top;\n",
       "    }\n",
       "\n",
       "    .dataframe thead th {\n",
       "        text-align: right;\n",
       "    }\n",
       "</style>\n",
       "<table border=\"1\" class=\"dataframe\">\n",
       "  <thead>\n",
       "    <tr style=\"text-align: right;\">\n",
       "      <th></th>\n",
       "      <th>hour</th>\n",
       "      <th>count</th>\n",
       "    </tr>\n",
       "  </thead>\n",
       "  <tbody>\n",
       "    <tr>\n",
       "      <th>0</th>\n",
       "      <td>0</td>\n",
       "      <td>8853</td>\n",
       "    </tr>\n",
       "    <tr>\n",
       "      <th>1</th>\n",
       "      <td>1</td>\n",
       "      <td>8526</td>\n",
       "    </tr>\n",
       "    <tr>\n",
       "      <th>2</th>\n",
       "      <td>2</td>\n",
       "      <td>8085</td>\n",
       "    </tr>\n",
       "    <tr>\n",
       "      <th>3</th>\n",
       "      <td>3</td>\n",
       "      <td>7527</td>\n",
       "    </tr>\n",
       "    <tr>\n",
       "      <th>4</th>\n",
       "      <td>4</td>\n",
       "      <td>7035</td>\n",
       "    </tr>\n",
       "    <tr>\n",
       "      <th>5</th>\n",
       "      <td>5</td>\n",
       "      <td>7014</td>\n",
       "    </tr>\n",
       "    <tr>\n",
       "      <th>6</th>\n",
       "      <td>6</td>\n",
       "      <td>7063</td>\n",
       "    </tr>\n",
       "    <tr>\n",
       "      <th>7</th>\n",
       "      <td>7</td>\n",
       "      <td>6914</td>\n",
       "    </tr>\n",
       "    <tr>\n",
       "      <th>8</th>\n",
       "      <td>8</td>\n",
       "      <td>6960</td>\n",
       "    </tr>\n",
       "    <tr>\n",
       "      <th>9</th>\n",
       "      <td>9</td>\n",
       "      <td>6836</td>\n",
       "    </tr>\n",
       "    <tr>\n",
       "      <th>10</th>\n",
       "      <td>10</td>\n",
       "      <td>6873</td>\n",
       "    </tr>\n",
       "    <tr>\n",
       "      <th>11</th>\n",
       "      <td>11</td>\n",
       "      <td>7023</td>\n",
       "    </tr>\n",
       "    <tr>\n",
       "      <th>12</th>\n",
       "      <td>12</td>\n",
       "      <td>7268</td>\n",
       "    </tr>\n",
       "    <tr>\n",
       "      <th>13</th>\n",
       "      <td>13</td>\n",
       "      <td>7502</td>\n",
       "    </tr>\n",
       "    <tr>\n",
       "      <th>14</th>\n",
       "      <td>14</td>\n",
       "      <td>7440</td>\n",
       "    </tr>\n",
       "    <tr>\n",
       "      <th>15</th>\n",
       "      <td>15</td>\n",
       "      <td>7918</td>\n",
       "    </tr>\n",
       "    <tr>\n",
       "      <th>16</th>\n",
       "      <td>16</td>\n",
       "      <td>8073</td>\n",
       "    </tr>\n",
       "    <tr>\n",
       "      <th>17</th>\n",
       "      <td>17</td>\n",
       "      <td>8792</td>\n",
       "    </tr>\n",
       "    <tr>\n",
       "      <th>18</th>\n",
       "      <td>18</td>\n",
       "      <td>9462</td>\n",
       "    </tr>\n",
       "    <tr>\n",
       "      <th>19</th>\n",
       "      <td>19</td>\n",
       "      <td>9721</td>\n",
       "    </tr>\n",
       "    <tr>\n",
       "      <th>20</th>\n",
       "      <td>20</td>\n",
       "      <td>9464</td>\n",
       "    </tr>\n",
       "    <tr>\n",
       "      <th>21</th>\n",
       "      <td>21</td>\n",
       "      <td>9146</td>\n",
       "    </tr>\n",
       "    <tr>\n",
       "      <th>22</th>\n",
       "      <td>22</td>\n",
       "      <td>9112</td>\n",
       "    </tr>\n",
       "    <tr>\n",
       "      <th>23</th>\n",
       "      <td>23</td>\n",
       "      <td>9107</td>\n",
       "    </tr>\n",
       "  </tbody>\n",
       "</table>\n",
       "</div>"
      ],
      "text/plain": [
       "    hour  count\n",
       "0      0   8853\n",
       "1      1   8526\n",
       "2      2   8085\n",
       "3      3   7527\n",
       "4      4   7035\n",
       "5      5   7014\n",
       "6      6   7063\n",
       "7      7   6914\n",
       "8      8   6960\n",
       "9      9   6836\n",
       "10    10   6873\n",
       "11    11   7023\n",
       "12    12   7268\n",
       "13    13   7502\n",
       "14    14   7440\n",
       "15    15   7918\n",
       "16    16   8073\n",
       "17    17   8792\n",
       "18    18   9462\n",
       "19    19   9721\n",
       "20    20   9464\n",
       "21    21   9146\n",
       "22    22   9112\n",
       "23    23   9107"
      ]
     },
     "execution_count": 65,
     "metadata": {},
     "output_type": "execute_result"
    }
   ],
   "source": [
    "songs_in_hour_stay_pd"
   ]
  },
  {
   "cell_type": "code",
   "execution_count": 66,
   "metadata": {},
   "outputs": [
    {
     "data": {
      "text/plain": [
       "Text(0.5, 1.0, 'Number of Songs Played per Hour (Non Churn Users)')"
      ]
     },
     "execution_count": 66,
     "metadata": {},
     "output_type": "execute_result"
    },
    {
     "data": {
      "image/png": "[encoded data removed]",
      "text/plain": [
       "<Figure size 800x600 with 1 Axes>"
      ]
     },
     "metadata": {},
     "output_type": "display_data"
    }
   ],
   "source": [
    "# Plot the distribution of songs played per hour for non-churn users\n",
    "plt.figure(figsize=[8, 6])\n",
    "plt.scatter(songs_in_hour_stay_pd[\"hour\"], songs_in_hour_stay_pd[\"count\"])\n",
    "plt.xlim(-1, 24)\n",
    "plt.xlabel(\"Hour\")\n",
    "plt.ylabel(\"Songs Played\")\n",
    "plt.title(\"Number of Songs Played per Hour (Non Churn Users)\")"
   ]
  },
  {
   "cell_type": "markdown",
   "metadata": {},
   "source": [
    "From above we can see that there is a peak of songs played between 3pm and 8pm. Next we will examine users who churned by using the same process."
   ]
  },
  {
   "cell_type": "code",
   "execution_count": 67,
   "metadata": {},
   "outputs": [],
   "source": [
    "# Create a DataFrame with customers who churned and count when user goes to the next song page\n",
    "songs_in_hour_churned = df.filter((df.page == \"NextSong\") & (df.churn == 1)).groupby(df.hour).count().orderBy(df.hour.cast(\"float\"))"
   ]
  },
  {
   "cell_type": "code",
   "execution_count": 68,
   "metadata": {},
   "outputs": [
    {
     "name": "stderr",
     "output_type": "stream",
     "text": [
      "[Stage 109:>                                                        (0 + 2) / 2]\r"
     ]
    },
    {
     "name": "stdout",
     "output_type": "stream",
     "text": [
      "+----+-----+\n",
      "|hour|count|\n",
      "+----+-----+\n",
      "|   0| 1605|\n",
      "|   1| 1596|\n",
      "|   2| 1545|\n",
      "|   3| 1535|\n",
      "|   4| 1353|\n",
      "|   5| 1322|\n",
      "|   6| 1292|\n",
      "|   7| 1233|\n",
      "|   8| 1218|\n",
      "|   9| 1218|\n",
      "|  10| 1218|\n",
      "|  11| 1230|\n",
      "|  12| 1230|\n",
      "|  13| 1380|\n",
      "|  14| 1390|\n",
      "|  15| 1408|\n",
      "|  16| 1571|\n",
      "|  17| 1702|\n",
      "|  18| 1892|\n",
      "|  19| 1915|\n",
      "+----+-----+\n",
      "only showing top 20 rows\n",
      "\n"
     ]
    },
    {
     "name": "stderr",
     "output_type": "stream",
     "text": [
      "\r",
      "[Stage 109:============================>                            (1 + 1) / 2]\r",
      "\r",
      "                                                                                \r"
     ]
    }
   ],
   "source": [
    "songs_in_hour_churned.show()"
   ]
  },
  {
   "cell_type": "code",
   "execution_count": 69,
   "metadata": {},
   "outputs": [
    {
     "name": "stderr",
     "output_type": "stream",
     "text": [
      "                                                                                \r"
     ]
    }
   ],
   "source": [
    "# Convert to Pandas DataFrame and then to numeric\n",
    "songs_in_hour_churned = songs_in_hour_churned.toPandas()\n",
    "songs_in_hour_churned['hour'] = pd.to_numeric(songs_in_hour_churned['hour'])"
   ]
  },
  {
   "cell_type": "code",
   "execution_count": 70,
   "metadata": {},
   "outputs": [
    {
     "data": {
      "text/plain": [
       "Text(0.5, 1.0, 'Number of Songs Played per Hour (Users who Churned)')"
      ]
     },
     "execution_count": 70,
     "metadata": {},
     "output_type": "execute_result"
    },
    {
     "data": {
      "image/png": "[encoded data removed]",
      "text/plain": [
       "<Figure size 800x600 with 1 Axes>"
      ]
     },
     "metadata": {},
     "output_type": "display_data"
    }
   ],
   "source": [
    "# Plot the distribution of songs played per hour for churned users\n",
    "plt.figure(figsize=[8, 6])\n",
    "plt.scatter(songs_in_hour_churned[\"hour\"], songs_in_hour_churned[\"count\"])\n",
    "plt.xlim(-1, 24)\n",
    "plt.xlabel(\"Hour\")\n",
    "plt.ylabel(\"Songs Played\")\n",
    "plt.title(\"Number of Songs Played per Hour (Users who Churned)\")"
   ]
  },
  {
   "cell_type": "markdown",
   "metadata": {},
   "source": [
    "We can see users that churned had a similar distribution, however they listened to fewer songs per hour than users that stayed."
   ]
  },
  {
   "cell_type": "markdown",
   "metadata": {},
   "source": [
    "### Songs Per Session for Users who Churned vs. Those who Stayed"
   ]
  },
  {
   "cell_type": "markdown",
   "metadata": {},
   "source": [
    "We can plot this in a simple way which will allow us to compare those who churned and those who stayed in a bar chart by getting the averages for both groups."
   ]
  },
  {
   "cell_type": "code",
   "execution_count": 71,
   "metadata": {},
   "outputs": [],
   "source": [
    "# Create a DataFrame for song interactions grouped by sessionId and churn\n",
    "df_songs = df.filter(df.page == \"NextSong\").dropDuplicates().groupBy('sessionId', 'churn').count()"
   ]
  },
  {
   "cell_type": "code",
   "execution_count": 72,
   "metadata": {},
   "outputs": [
    {
     "name": "stderr",
     "output_type": "stream",
     "text": [
      "[Stage 128:==================================================>    (12 + 1) / 13]\r"
     ]
    },
    {
     "name": "stdout",
     "output_type": "stream",
     "text": [
      "+-----+-----------------+\n",
      "|churn|       avg(count)|\n",
      "+-----+-----------------+\n",
      "|    0| 93.3369036027264|\n",
      "|    1|79.81140350877193|\n",
      "+-----+-----------------+\n",
      "\n"
     ]
    },
    {
     "name": "stderr",
     "output_type": "stream",
     "text": [
      "\r",
      "[Stage 131:==================================================>    (12 + 1) / 13]\r",
      "\r",
      "                                                                                \r"
     ]
    }
   ],
   "source": [
    "# Get the average count of songs played, grouped by churn\n",
    "df_songs.groupby('churn').agg({\"count\":\"avg\"}).show()"
   ]
  },
  {
   "cell_type": "code",
   "execution_count": 73,
   "metadata": {},
   "outputs": [],
   "source": [
    "# Get the average count of songs played, grouped by churn\n",
    "df_songs = df_songs.groupby('churn').agg({\"count\":\"avg\"})"
   ]
  },
  {
   "cell_type": "code",
   "execution_count": 74,
   "metadata": {},
   "outputs": [
    {
     "name": "stderr",
     "output_type": "stream",
     "text": [
      "                                                                                \r"
     ]
    }
   ],
   "source": [
    "# convert this to pandas df\n",
    "df_songs = df_songs.toPandas()"
   ]
  },
  {
   "cell_type": "code",
   "execution_count": 75,
   "metadata": {},
   "outputs": [
    {
     "data": {
      "text/plain": [
       "Text(0, 0.5, 'Average Number of Songs Played Per Session')"
      ]
     },
     "execution_count": 75,
     "metadata": {},
     "output_type": "execute_result"
    },
    {
     "data": {
      "image/png": "[encoded data removed]",
      "text/plain": [
       "<Figure size 800x600 with 1 Axes>"
      ]
     },
     "metadata": {},
     "output_type": "display_data"
    }
   ],
   "source": [
    "# Plot the average number of songs played per session for users who churned vs. users who stayed\n",
    "plt.figure(figsize=[8, 6])\n",
    "ax = sns.barplot(data=df_songs, x='churn', y='avg(count)')\n",
    "plt.title(\"Average Number of Songs Played per Session for Users that Churned vs. Users that Stayed\")\n",
    "plt.ylabel(\"Average Number of Songs Played Per Session\")"
   ]
  },
  {
   "cell_type": "markdown",
   "metadata": {},
   "source": [
    "From the chart we can see that those churned from Sparkify actually listening to fewer songs on average per session."
   ]
  },
  {
   "cell_type": "markdown",
   "metadata": {},
   "source": [
    "### Number of Unique Artists Listened to"
   ]
  },
  {
   "cell_type": "markdown",
   "metadata": {},
   "source": [
    "We can create a similar chart for the number of artists that users listened to."
   ]
  },
  {
   "cell_type": "code",
   "execution_count": 76,
   "metadata": {},
   "outputs": [],
   "source": [
    "# Create a DataFrame for artist interactions grouped by userId and churn\n",
    "df_artists = df.select(\"artist\", \"userId\", \"churn\").dropDuplicates().groupby(\"userId\", \"churn\").count()"
   ]
  },
  {
   "cell_type": "code",
   "execution_count": 77,
   "metadata": {},
   "outputs": [
    {
     "name": "stderr",
     "output_type": "stream",
     "text": [
      "\r",
      "[Stage 156:==============>                                         (3 + 9) / 12]\r"
     ]
    },
    {
     "name": "stdout",
     "output_type": "stream",
     "text": [
      "+-----+-----------------+\n",
      "|churn|       avg(count)|\n",
      "+-----+-----------------+\n",
      "|    0|750.7803468208092|\n",
      "|    1|519.6923076923077|\n",
      "+-----+-----------------+\n",
      "\n"
     ]
    },
    {
     "name": "stderr",
     "output_type": "stream",
     "text": [
      "\r",
      "                                                                                \r"
     ]
    }
   ],
   "source": [
    "# get averages\n",
    "df_artists.groupby('churn').agg({\"count\":\"avg\"}).show()"
   ]
  },
  {
   "cell_type": "code",
   "execution_count": 78,
   "metadata": {},
   "outputs": [],
   "source": [
    "# Convert to Pandas DataFrame\n",
    "df_artists = df_artists.toPandas()"
   ]
  },
  {
   "cell_type": "markdown",
   "metadata": {},
   "source": [
    "We can plot this as a boxplot to see the max and medians for both groups. "
   ]
  },
  {
   "cell_type": "code",
   "execution_count": 79,
   "metadata": {},
   "outputs": [
    {
     "data": {
      "text/plain": [
       "Text(0.5, 1.0, 'Number of Artists Listened to on Sparkify')"
      ]
     },
     "execution_count": 79,
     "metadata": {},
     "output_type": "execute_result"
    },
    {
     "data": {
      "image/png": "[encoded data removed]",
      "text/plain": [
       "<Figure size 800x600 with 1 Axes>"
      ]
     },
     "metadata": {},
     "output_type": "display_data"
    }
   ],
   "source": [
    "# Plot a boxplot for the number of artists listened to on Sparkify, grouped by churn\n",
    "plt.figure(figsize=[8, 6])\n",
    "ax = sns.boxplot(data=df_artists, x='churn', y='count')\n",
    "plt.title(\"Number of Artists Listened to on Sparkify\")"
   ]
  },
  {
   "cell_type": "markdown",
   "metadata": {},
   "source": [
    "From the above we can see that those who didn't churn listened to a larger number of different artists compared to those who churned."
   ]
  },
  {
   "cell_type": "markdown",
   "metadata": {},
   "source": [
    "### Location"
   ]
  },
  {
   "cell_type": "markdown",
   "metadata": {},
   "source": [
    "We can now examine if location had an effect on churn."
   ]
  },
  {
   "cell_type": "code",
   "execution_count": 80,
   "metadata": {},
   "outputs": [
    {
     "name": "stdout",
     "output_type": "stream",
     "text": [
      "+--------------------+-----+\n",
      "|            location|count|\n",
      "+--------------------+-----+\n",
      "|     Gainesville, FL| 1229|\n",
      "|Atlantic City-Ham...| 2176|\n",
      "|Kingsport-Bristol...| 1863|\n",
      "|New Haven-Milford...| 4007|\n",
      "|         Dubuque, IA|  651|\n",
      "|Las Vegas-Henders...| 2042|\n",
      "|Indianapolis-Carm...|  970|\n",
      "|Seattle-Tacoma-Be...|  246|\n",
      "|   Winston-Salem, NC|  819|\n",
      "|     Bakersfield, CA| 1775|\n",
      "|Los Angeles-Long ...|30131|\n",
      "|Minneapolis-St. P...| 2134|\n",
      "|San Francisco-Oak...| 2647|\n",
      "|Phoenix-Mesa-Scot...| 4846|\n",
      "|Allentown-Bethleh...|  815|\n",
      "|Miami-Fort Lauder...| 3764|\n",
      "|           Selma, AL| 2027|\n",
      "|Bridgeport-Stamfo...|  893|\n",
      "|           Price, UT| 1102|\n",
      "|Providence-Warwic...|  927|\n",
      "+--------------------+-----+\n",
      "only showing top 20 rows\n",
      "\n"
     ]
    }
   ],
   "source": [
    "# Get counts of users by location\n",
    "df.select(\"location\", \"userId\", \"churn\").groupby(\"location\").count().show()"
   ]
  },
  {
   "cell_type": "markdown",
   "metadata": {},
   "source": [
    "Let's just extract the state from the location by taking the last two characters in the location string."
   ]
  },
  {
   "cell_type": "code",
   "execution_count": 81,
   "metadata": {},
   "outputs": [],
   "source": [
    "# Define a user-defined function to get the last two characters of a string\n",
    "get_state = udf(lambda x: x[-2:])"
   ]
  },
  {
   "cell_type": "code",
   "execution_count": 82,
   "metadata": {},
   "outputs": [],
   "source": [
    "# Create a new column 'state' by extracting the last two characters from the 'location' column\n",
    "df_state = df.withColumn(\"state\", get_state(df.location))"
   ]
  },
  {
   "cell_type": "code",
   "execution_count": 83,
   "metadata": {},
   "outputs": [
    {
     "name": "stderr",
     "output_type": "stream",
     "text": [
      "                                                                                \r"
     ]
    },
    {
     "data": {
      "text/plain": [
       "[Row(artist=None, auth='Logged In', firstName='Darianna', gender='F', itemInSession=34, lastName='Carpenter', length=None, level='free', location='Bridgeport-Stamford-Norwalk, CT', method='PUT', page='Logout', registration=1538016340000, sessionId=187, song=None, status=307, ts=1542823952000, userAgent='\"Mozilla/5.0 (iPhone; CPU iPhone OS 7_1_2 like Mac OS X) AppleWebKit/537.51.2 (KHTML, like Gecko) Version/7.0 Mobile/11D257 Safari/9537.53\"', userId='100010', churn=0, hour='21', state='CT'),\n",
       " Row(artist='Lily Allen', auth='Logged In', firstName='Darianna', gender='F', itemInSession=33, lastName='Carpenter', length=185.25995, level='free', location='Bridgeport-Stamford-Norwalk, CT', method='PUT', page='NextSong', registration=1538016340000, sessionId=187, song='22', status=200, ts=1542823951000, userAgent='\"Mozilla/5.0 (iPhone; CPU iPhone OS 7_1_2 like Mac OS X) AppleWebKit/537.51.2 (KHTML, like Gecko) Version/7.0 Mobile/11D257 Safari/9537.53\"', userId='100010', churn=0, hour='21', state='CT')]"
      ]
     },
     "execution_count": 83,
     "metadata": {},
     "output_type": "execute_result"
    }
   ],
   "source": [
    "# Check if the 'state' column was created successfully\n",
    "df_state.take(2)"
   ]
  },
  {
   "cell_type": "code",
   "execution_count": 84,
   "metadata": {},
   "outputs": [],
   "source": [
    "# Create a DataFrame for state interactions grouped by state and churn\n",
    "df_state = df_state.select(\"state\", \"userId\", \"churn\").dropDuplicates().groupby(\"state\", \"churn\").count()"
   ]
  },
  {
   "cell_type": "code",
   "execution_count": 85,
   "metadata": {},
   "outputs": [
    {
     "name": "stderr",
     "output_type": "stream",
     "text": [
      "                                                                                \r"
     ]
    }
   ],
   "source": [
    "# convert to Pandas DataFrame\n",
    "df_state_pd = df_state.toPandas()"
   ]
  },
  {
   "cell_type": "code",
   "execution_count": 86,
   "metadata": {},
   "outputs": [
    {
     "data": {
      "text/plain": [
       "Text(0.5, 1.0, 'Count of Users that Churned vs. Users that Stayed by US State')"
      ]
     },
     "execution_count": 86,
     "metadata": {},
     "output_type": "execute_result"
    },
    {
     "data": {
      "image/png": "[encoded data removed]",
      "text/plain": [
       "<Figure size 2000x1600 with 1 Axes>"
      ]
     },
     "metadata": {},
     "output_type": "display_data"
    }
   ],
   "source": [
    "# Plot the count of users that churned vs. users that stayed by US State\n",
    "plt.figure(figsize=[20, 16])\n",
    "sns.barplot(data=df_state_pd, x='count', y='state', hue='churn')\n",
    "plt.title('Count of Users that Churned vs. Users that Stayed by US State')"
   ]
  },
  {
   "cell_type": "markdown",
   "metadata": {},
   "source": [
    "Most users were based in CA. More users in MI, KY, and OH states churned than stayed. This may be difficult to engineer a useful feature for when it comes to modelling. Let's leave this for now and move onto another column from our dataset; operating systems and browsers."
   ]
  },
  {
   "cell_type": "markdown",
   "metadata": {},
   "source": [
    "### UserAgent: Operating System and Browsers"
   ]
  },
  {
   "cell_type": "markdown",
   "metadata": {},
   "source": [
    "Now we can extract the Operating System a user is on to understand if this has an effect on churn."
   ]
  },
  {
   "cell_type": "code",
   "execution_count": 87,
   "metadata": {},
   "outputs": [],
   "source": [
    "# Create a DataFrame for user operating system interactions, removing duplicates based on userId\n",
    "df_opsys = df.select(\"userId\", \"userAgent\", \"churn\").dropDuplicates(['userId'])"
   ]
  },
  {
   "cell_type": "code",
   "execution_count": 88,
   "metadata": {},
   "outputs": [
    {
     "name": "stderr",
     "output_type": "stream",
     "text": [
      "\r",
      "[Stage 181:====>                                                  (1 + 11) / 12]\r",
      "\r",
      "[Stage 181:=======================>                                (5 + 7) / 12]\r"
     ]
    },
    {
     "name": "stdout",
     "output_type": "stream",
     "text": [
      "+------+--------------------+-----+\n",
      "|userId|           userAgent|churn|\n",
      "+------+--------------------+-----+\n",
      "|   100|Mozilla/5.0 (Wind...|    0|\n",
      "|100005|\"Mozilla/5.0 (Mac...|    1|\n",
      "|100006|\"Mozilla/5.0 (Win...|    1|\n",
      "|100007|\"Mozilla/5.0 (Win...|    1|\n",
      "|100008|Mozilla/5.0 (Maci...|    0|\n",
      "|100010|\"Mozilla/5.0 (iPh...|    0|\n",
      "|100014|\"Mozilla/5.0 (Win...|    1|\n",
      "|100021|\"Mozilla/5.0 (Mac...|    1|\n",
      "|100022|Mozilla/5.0 (Maci...|    1|\n",
      "|100025|\"Mozilla/5.0 (Mac...|    1|\n",
      "|   101|Mozilla/5.0 (Wind...|    1|\n",
      "|   107|Mozilla/5.0 (Wind...|    0|\n",
      "|    11|Mozilla/5.0 (Wind...|    0|\n",
      "|   110|\"Mozilla/5.0 (Mac...|    0|\n",
      "|   112|Mozilla/5.0 (Wind...|    0|\n",
      "|   113|\"Mozilla/5.0 (Mac...|    0|\n",
      "|   118|\"Mozilla/5.0 (Win...|    0|\n",
      "|   120|\"Mozilla/5.0 (Mac...|    0|\n",
      "|   124|\"Mozilla/5.0 (Mac...|    0|\n",
      "|   125|\"Mozilla/5.0 (Mac...|    1|\n",
      "+------+--------------------+-----+\n",
      "only showing top 20 rows\n",
      "\n"
     ]
    },
    {
     "name": "stderr",
     "output_type": "stream",
     "text": [
      "\r",
      "                                                                                \r"
     ]
    }
   ],
   "source": [
    "df_opsys.show()"
   ]
  },
  {
   "cell_type": "code",
   "execution_count": 89,
   "metadata": {},
   "outputs": [
    {
     "name": "stderr",
     "output_type": "stream",
     "text": [
      "                                                                                \r"
     ]
    }
   ],
   "source": [
    "# convert to Pandas DataFrame\n",
    "df_opsys = df_opsys.toPandas()"
   ]
  },
  {
   "cell_type": "code",
   "execution_count": 90,
   "metadata": {},
   "outputs": [
    {
     "data": {
      "text/plain": [
       "\"Mozilla/5.0 (Windows NT 6.1; WOW64) AppleWebKit/537.36 (KHTML, like Gecko) Chrome/36.0.1985.143 Safari/537.36\"                                24\n",
       "Mozilla/5.0 (Windows NT 6.1; WOW64; rv:31.0) Gecko/20100101 Firefox/31.0                                                                       18\n",
       "\"Mozilla/5.0 (Macintosh; Intel Mac OS X 10_9_4) AppleWebKit/537.36 (KHTML, like Gecko) Chrome/36.0.1985.125 Safari/537.36\"                     16\n",
       "\"Mozilla/5.0 (Macintosh; Intel Mac OS X 10_9_4) AppleWebKit/537.36 (KHTML, like Gecko) Chrome/36.0.1985.143 Safari/537.36\"                     12\n",
       "\"Mozilla/5.0 (Macintosh; Intel Mac OS X 10_9_4) AppleWebKit/537.77.4 (KHTML, like Gecko) Version/7.0.5 Safari/537.77.4\"                        12\n",
       "\"Mozilla/5.0 (Windows NT 6.1; WOW64) AppleWebKit/537.36 (KHTML, like Gecko) Chrome/36.0.1985.125 Safari/537.36\"                                10\n",
       "\"Mozilla/5.0 (Macintosh; Intel Mac OS X 10_9_4) AppleWebKit/537.78.2 (KHTML, like Gecko) Version/7.0.6 Safari/537.78.2\"                        10\n",
       "Mozilla/5.0 (Macintosh; Intel Mac OS X 10.9; rv:31.0) Gecko/20100101 Firefox/31.0                                                               9\n",
       "\"Mozilla/5.0 (iPhone; CPU iPhone OS 7_1_2 like Mac OS X) AppleWebKit/537.51.2 (KHTML, like Gecko) Version/7.0 Mobile/11D257 Safari/9537.53\"     8\n",
       "\"Mozilla/5.0 (Macintosh; Intel Mac OS X 10_9_4) AppleWebKit/537.36 (KHTML, like Gecko) Chrome/37.0.2062.94 Safari/537.36\"                       7\n",
       "\"Mozilla/5.0 (Windows NT 6.3; WOW64) AppleWebKit/537.36 (KHTML, like Gecko) Chrome/36.0.1985.143 Safari/537.36\"                                 7\n",
       "Mozilla/5.0 (Windows NT 6.1; WOW64; Trident/7.0; rv:11.0) like Gecko                                                                            7\n",
       "\"Mozilla/5.0 (Windows NT 6.3; WOW64) AppleWebKit/537.36 (KHTML, like Gecko) Chrome/36.0.1985.125 Safari/537.36\"                                 5\n",
       "Mozilla/5.0 (X11; Ubuntu; Linux x86_64; rv:31.0) Gecko/20100101 Firefox/31.0                                                                    4\n",
       "\"Mozilla/5.0 (iPhone; CPU iPhone OS 7_1 like Mac OS X) AppleWebKit/537.51.2 (KHTML, like Gecko) Version/7.0 Mobile/11D167 Safari/9537.53\"       4\n",
       "\"Mozilla/5.0 (Windows NT 6.1) AppleWebKit/537.36 (KHTML, like Gecko) Chrome/36.0.1985.143 Safari/537.36\"                                        4\n",
       "\"Mozilla/5.0 (X11; Linux x86_64) AppleWebKit/537.36 (KHTML, like Gecko) Chrome/36.0.1985.143 Safari/537.36\"                                     4\n",
       "\"Mozilla/5.0 (Windows NT 5.1) AppleWebKit/537.36 (KHTML, like Gecko) Chrome/36.0.1985.143 Safari/537.36\"                                        4\n",
       "Mozilla/5.0 (Windows NT 6.3; WOW64; rv:31.0) Gecko/20100101 Firefox/31.0                                                                        4\n",
       "\"Mozilla/5.0 (Windows NT 6.1; WOW64) AppleWebKit/537.36 (KHTML, like Gecko) Chrome/37.0.2062.94 Safari/537.36\"                                  4\n",
       "Mozilla/5.0 (compatible; MSIE 9.0; Windows NT 6.1; WOW64; Trident/5.0)                                                                          3\n",
       "\"Mozilla/5.0 (Windows NT 6.1; WOW64) AppleWebKit/537.36 (KHTML, like Gecko) Chrome/37.0.2062.103 Safari/537.36\"                                 3\n",
       "Mozilla/5.0 (Windows NT 6.1; rv:31.0) Gecko/20100101 Firefox/31.0                                                                               3\n",
       "Mozilla/5.0 (Macintosh; Intel Mac OS X 10.7; rv:31.0) Gecko/20100101 Firefox/31.0                                                               2\n",
       "\"Mozilla/5.0 (Windows NT 6.2; WOW64) AppleWebKit/537.36 (KHTML, like Gecko) Chrome/36.0.1985.143 Safari/537.36\"                                 2\n",
       "Mozilla/5.0 (Windows NT 6.1; WOW64; rv:32.0) Gecko/20100101 Firefox/32.0                                                                        2\n",
       "\"Mozilla/5.0 (iPad; CPU OS 7_1_2 like Mac OS X) AppleWebKit/537.51.2 (KHTML, like Gecko) Version/7.0 Mobile/11D257 Safari/9537.53\"              2\n",
       "\"Mozilla/5.0 (Windows NT 6.1; WOW64) AppleWebKit/537.36 (KHTML, like Gecko) Chrome/35.0.1916.153 Safari/537.36\"                                 2\n",
       "\"Mozilla/5.0 (Macintosh; Intel Mac OS X 10_10) AppleWebKit/600.1.8 (KHTML, like Gecko) Version/8.0 Safari/600.1.8\"                              2\n",
       "\"Mozilla/5.0 (X11; Linux x86_64) AppleWebKit/537.36 (KHTML, like Gecko) Chrome/36.0.1985.125 Safari/537.36\"                                     2\n",
       "\"Mozilla/5.0 (Macintosh; Intel Mac OS X 10_9_4) AppleWebKit/537.36 (KHTML, like Gecko) Chrome/35.0.1916.153 Safari/537.36\"                      2\n",
       "\"Mozilla/5.0 (Macintosh; Intel Mac OS X 10_9_2) AppleWebKit/537.36 (KHTML, like Gecko) Chrome/36.0.1985.125 Safari/537.36\"                      2\n",
       "\"Mozilla/5.0 (Macintosh; Intel Mac OS X 10_7_5) AppleWebKit/537.77.4 (KHTML, like Gecko) Version/6.1.5 Safari/537.77.4\"                         2\n",
       "\"Mozilla/5.0 (Macintosh; Intel Mac OS X 10_10) AppleWebKit/600.1.3 (KHTML, like Gecko) Version/8.0 Safari/600.1.3\"                              1\n",
       "Mozilla/5.0 (X11; Linux x86_64; rv:31.0) Gecko/20100101 Firefox/31.0                                                                            1\n",
       "\"Mozilla/5.0 (Macintosh; Intel Mac OS X 10_9_2) AppleWebKit/537.74.9 (KHTML, like Gecko) Version/7.0.2 Safari/537.74.9\"                         1\n",
       "\"Mozilla/5.0 (Macintosh; Intel Mac OS X 10_9_3) AppleWebKit/537.76.4 (KHTML, like Gecko) Version/7.0.4 Safari/537.76.4\"                         1\n",
       "Mozilla/5.0 (Macintosh; Intel Mac OS X 10.8; rv:31.0) Gecko/20100101 Firefox/31.0                                                               1\n",
       "Mozilla/5.0 (Windows NT 6.0; rv:31.0) Gecko/20100101 Firefox/31.0                                                                               1\n",
       "Mozilla/5.0 (X11; Ubuntu; Linux i686; rv:31.0) Gecko/20100101 Firefox/31.0                                                                      1\n",
       "\"Mozilla/5.0 (Macintosh; Intel Mac OS X 10_9_2) AppleWebKit/537.75.14 (KHTML, like Gecko) Version/7.0.3 Safari/537.75.14\"                       1\n",
       "Mozilla/5.0 (Windows NT 6.1; WOW64; rv:30.0) Gecko/20100101 Firefox/30.0                                                                        1\n",
       "\"Mozilla/5.0 (Windows NT 6.1) AppleWebKit/537.36 (KHTML, like Gecko) Chrome/36.0.1985.125 Safari/537.36\"                                        1\n",
       "Mozilla/5.0 (compatible; MSIE 9.0; Windows NT 6.1; Trident/5.0)                                                                                 1\n",
       "\"Mozilla/5.0 (Macintosh; Intel Mac OS X 10_6_8) AppleWebKit/537.36 (KHTML, like Gecko) Chrome/36.0.1985.143 Safari/537.36\"                      1\n",
       "\"Mozilla/5.0 (iPhone; CPU iPhone OS 7_1_1 like Mac OS X) AppleWebKit/537.51.2 (KHTML, like Gecko) Version/7.0 Mobile/11D201 Safari/9537.53\"     1\n",
       "Mozilla/5.0 (Macintosh; Intel Mac OS X 10.6; rv:31.0) Gecko/20100101 Firefox/31.0                                                               1\n",
       "\"Mozilla/5.0 (Macintosh; Intel Mac OS X 10_8_5) AppleWebKit/537.36 (KHTML, like Gecko) Chrome/36.0.1985.143 Safari/537.36\"                      1\n",
       "\"Mozilla/5.0 (Macintosh; Intel Mac OS X 10_7_5) AppleWebKit/537.36 (KHTML, like Gecko) Chrome/36.0.1985.125 Safari/537.36\"                      1\n",
       "\"Mozilla/5.0 (Windows NT 5.1) AppleWebKit/537.36 (KHTML, like Gecko) Chrome/36.0.1985.125 Safari/537.36\"                                        1\n",
       "Mozilla/5.0 (Windows NT 6.1; WOW64; rv:24.0) Gecko/20100101 Firefox/24.0                                                                        1\n",
       "\"Mozilla/5.0 (iPad; CPU OS 7_1_1 like Mac OS X) AppleWebKit/537.51.2 (KHTML, like Gecko) Version/7.0 Mobile/11D201 Safari/9537.53\"              1\n",
       "\"Mozilla/5.0 (Windows NT 6.2; WOW64) AppleWebKit/537.36 (KHTML, like Gecko) Chrome/36.0.1985.125 Safari/537.36\"                                 1\n",
       "\"Mozilla/5.0 (Macintosh; Intel Mac OS X 10_8_5) AppleWebKit/537.36 (KHTML, like Gecko) Chrome/37.0.2062.94 Safari/537.36\"                       1\n",
       "Mozilla/5.0 (Windows NT 6.2; WOW64; rv:31.0) Gecko/20100101 Firefox/31.0                                                                        1\n",
       "Mozilla/5.0 (compatible; MSIE 10.0; Windows NT 6.1; WOW64; Trident/6.0)                                                                         1\n",
       "Name: userAgent, dtype: int64"
      ]
     },
     "execution_count": 90,
     "metadata": {},
     "output_type": "execute_result"
    }
   ],
   "source": [
    "# get the possible list of operating systems\n",
    "df_opsys.userAgent.value_counts()"
   ]
  },
  {
   "cell_type": "code",
   "execution_count": 91,
   "metadata": {},
   "outputs": [],
   "source": [
    "# create list of operating systems\n",
    "os_list = [\"Windows\", \"Mac\", \"Linux\", \"iPhone\", \"iPad\"]"
   ]
  },
  {
   "cell_type": "code",
   "execution_count": 92,
   "metadata": {},
   "outputs": [],
   "source": [
    "# create os column and extract strings that match our os_list and add to column \n",
    "df_opsys['os'] = df_opsys.userAgent.str.extract('(?i)({0})'.format('|'.join(os_list)))"
   ]
  },
  {
   "cell_type": "code",
   "execution_count": 93,
   "metadata": {},
   "outputs": [
    {
     "data": {
      "text/html": [
       "<div>\n",
       "<style scoped>\n",
       "    .dataframe tbody tr th:only-of-type {\n",
       "        vertical-align: middle;\n",
       "    }\n",
       "\n",
       "    .dataframe tbody tr th {\n",
       "        vertical-align: top;\n",
       "    }\n",
       "\n",
       "    .dataframe thead th {\n",
       "        text-align: right;\n",
       "    }\n",
       "</style>\n",
       "<table border=\"1\" class=\"dataframe\">\n",
       "  <thead>\n",
       "    <tr style=\"text-align: right;\">\n",
       "      <th></th>\n",
       "      <th>userId</th>\n",
       "      <th>userAgent</th>\n",
       "      <th>churn</th>\n",
       "      <th>os</th>\n",
       "    </tr>\n",
       "  </thead>\n",
       "  <tbody>\n",
       "    <tr>\n",
       "      <th>0</th>\n",
       "      <td>100</td>\n",
       "      <td>Mozilla/5.0 (Windows NT 6.1; WOW64; rv:30.0) G...</td>\n",
       "      <td>0</td>\n",
       "      <td>Windows</td>\n",
       "    </tr>\n",
       "    <tr>\n",
       "      <th>1</th>\n",
       "      <td>100005</td>\n",
       "      <td>\"Mozilla/5.0 (Macintosh; Intel Mac OS X 10_9_4...</td>\n",
       "      <td>1</td>\n",
       "      <td>Mac</td>\n",
       "    </tr>\n",
       "    <tr>\n",
       "      <th>2</th>\n",
       "      <td>100006</td>\n",
       "      <td>\"Mozilla/5.0 (Windows NT 6.3; WOW64) AppleWebK...</td>\n",
       "      <td>1</td>\n",
       "      <td>Windows</td>\n",
       "    </tr>\n",
       "    <tr>\n",
       "      <th>3</th>\n",
       "      <td>100007</td>\n",
       "      <td>\"Mozilla/5.0 (Windows NT 6.3; WOW64) AppleWebK...</td>\n",
       "      <td>1</td>\n",
       "      <td>Windows</td>\n",
       "    </tr>\n",
       "    <tr>\n",
       "      <th>4</th>\n",
       "      <td>100008</td>\n",
       "      <td>Mozilla/5.0 (Macintosh; Intel Mac OS X 10.7; r...</td>\n",
       "      <td>0</td>\n",
       "      <td>Mac</td>\n",
       "    </tr>\n",
       "    <tr>\n",
       "      <th>...</th>\n",
       "      <td>...</td>\n",
       "      <td>...</td>\n",
       "      <td>...</td>\n",
       "      <td>...</td>\n",
       "    </tr>\n",
       "    <tr>\n",
       "      <th>220</th>\n",
       "      <td>92</td>\n",
       "      <td>\"Mozilla/5.0 (iPad; CPU OS 7_1_2 like Mac OS X...</td>\n",
       "      <td>0</td>\n",
       "      <td>iPad</td>\n",
       "    </tr>\n",
       "    <tr>\n",
       "      <th>221</th>\n",
       "      <td>93</td>\n",
       "      <td>Mozilla/5.0 (compatible; MSIE 10.0; Windows NT...</td>\n",
       "      <td>0</td>\n",
       "      <td>Windows</td>\n",
       "    </tr>\n",
       "    <tr>\n",
       "      <th>222</th>\n",
       "      <td>94</td>\n",
       "      <td>\"Mozilla/5.0 (Windows NT 6.2; WOW64) AppleWebK...</td>\n",
       "      <td>0</td>\n",
       "      <td>Windows</td>\n",
       "    </tr>\n",
       "    <tr>\n",
       "      <th>223</th>\n",
       "      <td>95</td>\n",
       "      <td>Mozilla/5.0 (Macintosh; Intel Mac OS X 10.9; r...</td>\n",
       "      <td>0</td>\n",
       "      <td>Mac</td>\n",
       "    </tr>\n",
       "    <tr>\n",
       "      <th>224</th>\n",
       "      <td>97</td>\n",
       "      <td>\"Mozilla/5.0 (Windows NT 5.1) AppleWebKit/537....</td>\n",
       "      <td>0</td>\n",
       "      <td>Windows</td>\n",
       "    </tr>\n",
       "  </tbody>\n",
       "</table>\n",
       "<p>225 rows × 4 columns</p>\n",
       "</div>"
      ],
      "text/plain": [
       "     userId                                          userAgent  churn       os\n",
       "0       100  Mozilla/5.0 (Windows NT 6.1; WOW64; rv:30.0) G...      0  Windows\n",
       "1    100005  \"Mozilla/5.0 (Macintosh; Intel Mac OS X 10_9_4...      1      Mac\n",
       "2    100006  \"Mozilla/5.0 (Windows NT 6.3; WOW64) AppleWebK...      1  Windows\n",
       "3    100007  \"Mozilla/5.0 (Windows NT 6.3; WOW64) AppleWebK...      1  Windows\n",
       "4    100008  Mozilla/5.0 (Macintosh; Intel Mac OS X 10.7; r...      0      Mac\n",
       "..      ...                                                ...    ...      ...\n",
       "220      92  \"Mozilla/5.0 (iPad; CPU OS 7_1_2 like Mac OS X...      0     iPad\n",
       "221      93  Mozilla/5.0 (compatible; MSIE 10.0; Windows NT...      0  Windows\n",
       "222      94  \"Mozilla/5.0 (Windows NT 6.2; WOW64) AppleWebK...      0  Windows\n",
       "223      95  Mozilla/5.0 (Macintosh; Intel Mac OS X 10.9; r...      0      Mac\n",
       "224      97  \"Mozilla/5.0 (Windows NT 5.1) AppleWebKit/537....      0  Windows\n",
       "\n",
       "[225 rows x 4 columns]"
      ]
     },
     "execution_count": 93,
     "metadata": {},
     "output_type": "execute_result"
    }
   ],
   "source": [
    "# check that worked\n",
    "df_opsys"
   ]
  },
  {
   "cell_type": "code",
   "execution_count": 94,
   "metadata": {},
   "outputs": [
    {
     "data": {
      "text/plain": [
       "Windows    111\n",
       "Mac         86\n",
       "iPhone      13\n",
       "Linux       12\n",
       "iPad         3\n",
       "Name: os, dtype: int64"
      ]
     },
     "execution_count": 94,
     "metadata": {},
     "output_type": "execute_result"
    }
   ],
   "source": [
    "df_opsys.os.value_counts()"
   ]
  },
  {
   "cell_type": "code",
   "execution_count": 95,
   "metadata": {},
   "outputs": [],
   "source": [
    "# order for the plot\n",
    "os_order = df_opsys.os.value_counts().index"
   ]
  },
  {
   "cell_type": "code",
   "execution_count": 96,
   "metadata": {},
   "outputs": [
    {
     "data": {
      "text/plain": [
       "<matplotlib.legend.Legend at 0x7fbe87ff50d0>"
      ]
     },
     "execution_count": 96,
     "metadata": {},
     "output_type": "execute_result"
    },
    {
     "data": {
      "image/png": "[encoded data removed]",
      "text/plain": [
       "<Figure size 1000x800 with 1 Axes>"
      ]
     },
     "metadata": {},
     "output_type": "display_data"
    }
   ],
   "source": [
    "# Plot the count of users that churned vs. users that stayed by operating system\n",
    "plt.figure(figsize=[10, 8])\n",
    "sns.countplot(data=df_opsys, x='os', hue='churn', order=os_order)\n",
    "plt.title('Count of Users that Churned vs. Users that Stayed by Operating System')\n",
    "plt.legend(loc=1, ncol=2, framealpha=1, title='Level')"
   ]
  },
  {
   "cell_type": "markdown",
   "metadata": {},
   "source": [
    "Windows was the most used. Linux users have the highest rate of churn. It is very few customers that this has affected therefore this won't be used in our model."
   ]
  },
  {
   "cell_type": "markdown",
   "metadata": {},
   "source": [
    "We can also look if browsers had an effect on churn using the same process."
   ]
  },
  {
   "cell_type": "code",
   "execution_count": 97,
   "metadata": {},
   "outputs": [],
   "source": [
    "browser_list = [\"Chrome\", \"Firefox\", \"Safari\", \"Trident\"]"
   ]
  },
  {
   "cell_type": "code",
   "execution_count": 98,
   "metadata": {},
   "outputs": [],
   "source": [
    "df_opsys['browser'] = df_opsys.userAgent.str.extract('(?i)({0})'.format('|'.join(browser_list)))"
   ]
  },
  {
   "cell_type": "code",
   "execution_count": 99,
   "metadata": {},
   "outputs": [
    {
     "data": {
      "text/plain": [
       "Chrome     117\n",
       "Firefox     50\n",
       "Safari      46\n",
       "Trident     12\n",
       "Name: browser, dtype: int64"
      ]
     },
     "execution_count": 99,
     "metadata": {},
     "output_type": "execute_result"
    }
   ],
   "source": [
    "df_opsys.browser.value_counts()"
   ]
  },
  {
   "cell_type": "markdown",
   "metadata": {},
   "source": [
    "Here Trident is Internet Explorer software. Let's change Trident to 'Internet Explorer' as it is better known."
   ]
  },
  {
   "cell_type": "code",
   "execution_count": 100,
   "metadata": {},
   "outputs": [],
   "source": [
    "df_opsys['browser'].replace({\"Trident\":\"Internet Explorer\"}, inplace = True)"
   ]
  },
  {
   "cell_type": "code",
   "execution_count": 101,
   "metadata": {},
   "outputs": [],
   "source": [
    "# order for the plot\n",
    "browser_order = df_opsys.browser.value_counts().index"
   ]
  },
  {
   "cell_type": "code",
   "execution_count": 102,
   "metadata": {},
   "outputs": [
    {
     "data": {
      "text/plain": [
       "<matplotlib.legend.Legend at 0x7fbe6b595b50>"
      ]
     },
     "execution_count": 102,
     "metadata": {},
     "output_type": "execute_result"
    },
    {
     "data": {
      "image/png": "[encoded data removed]",
      "text/plain": [
       "<Figure size 1000x800 with 1 Axes>"
      ]
     },
     "metadata": {},
     "output_type": "display_data"
    }
   ],
   "source": [
    "# Plot the count of users that churned vs. users that stayed by browser\n",
    "plt.figure(figsize=[10, 8])\n",
    "sns.countplot(data=df_opsys, x='browser', hue='churn', order=browser_order)\n",
    "plt.title('Count of Users that Churned vs. Users that Stayed by Browser')\n",
    "plt.legend(loc=1, ncol=2, framealpha=1, title='Level')"
   ]
  },
  {
   "cell_type": "markdown",
   "metadata": {},
   "source": [
    "Chrome was the most popular browser. Firefox users were most likely to churn. Internet Explorer had the fewest number of users that churned. There is no clear issue with browsers which is making users churn. Therefore this won't be used in our model."
   ]
  },
  {
   "cell_type": "markdown",
   "metadata": {},
   "source": [
    "### Days Since Registration for Sparkify"
   ]
  },
  {
   "cell_type": "markdown",
   "metadata": {},
   "source": [
    "Finally, we can look at the number of days since a user had registered."
   ]
  },
  {
   "cell_type": "code",
   "execution_count": 103,
   "metadata": {},
   "outputs": [],
   "source": [
    "df_days = df.select(['userId', 'registration', 'ts', 'churn']).dropDuplicates().sort('userId')"
   ]
  },
  {
   "cell_type": "code",
   "execution_count": 104,
   "metadata": {},
   "outputs": [],
   "source": [
    "# order by last timestamp\n",
    "w = Window.partitionBy(\"userId\").orderBy(desc(\"ts\"))"
   ]
  },
  {
   "cell_type": "code",
   "execution_count": 105,
   "metadata": {},
   "outputs": [],
   "source": [
    "# create a rank with the most recent timestamp as rank number 1\n",
    "df_days = df_days.withColumn(\"Rank\", dense_rank().over(w))"
   ]
  },
  {
   "cell_type": "code",
   "execution_count": 106,
   "metadata": {
    "scrolled": true
   },
   "outputs": [
    {
     "name": "stderr",
     "output_type": "stream",
     "text": [
      "                                                                                \r"
     ]
    },
    {
     "name": "stdout",
     "output_type": "stream",
     "text": [
      "+------+-------------+-------------+-----+----+\n",
      "|userId| registration|           ts|churn|Rank|\n",
      "+------+-------------+-------------+-----+----+\n",
      "|    10|1538159495000|1542631788000|    0|   1|\n",
      "|    10|1538159495000|1542631753000|    0|   2|\n",
      "|    10|1538159495000|1542631690000|    0|   3|\n",
      "|    10|1538159495000|1542631518000|    0|   4|\n",
      "|    10|1538159495000|1542631517000|    0|   5|\n",
      "|    10|1538159495000|1542631090000|    0|   6|\n",
      "|    10|1538159495000|1542630866000|    0|   7|\n",
      "|    10|1538159495000|1542630637000|    0|   8|\n",
      "|    10|1538159495000|1542630407000|    0|   9|\n",
      "|    10|1538159495000|1542630394000|    0|  10|\n",
      "|    10|1538159495000|1542630248000|    0|  11|\n",
      "|    10|1538159495000|1542630247000|    0|  12|\n",
      "|    10|1538159495000|1542630029000|    0|  13|\n",
      "|    10|1538159495000|1542629861000|    0|  14|\n",
      "|    10|1538159495000|1542629636000|    0|  15|\n",
      "|    10|1538159495000|1542629464000|    0|  16|\n",
      "|    10|1538159495000|1542629238000|    0|  17|\n",
      "|    10|1538159495000|1542629029000|    0|  18|\n",
      "|    10|1538159495000|1542629028000|    0|  19|\n",
      "|    10|1538159495000|1542628798000|    0|  20|\n",
      "+------+-------------+-------------+-----+----+\n",
      "only showing top 20 rows\n",
      "\n"
     ]
    }
   ],
   "source": [
    "df_days.show()"
   ]
  },
  {
   "cell_type": "code",
   "execution_count": 107,
   "metadata": {},
   "outputs": [],
   "source": [
    "# just get those with a rank of 1 i.e the first rows\n",
    "df_days = df_days.filter(df_days.Rank == 1).drop(df_days.Rank)"
   ]
  },
  {
   "cell_type": "code",
   "execution_count": 108,
   "metadata": {
    "scrolled": true
   },
   "outputs": [
    {
     "name": "stderr",
     "output_type": "stream",
     "text": [
      "                                                                                \r"
     ]
    },
    {
     "name": "stdout",
     "output_type": "stream",
     "text": [
      "+------+-------------+-------------+-----+\n",
      "|userId| registration|           ts|churn|\n",
      "+------+-------------+-------------+-----+\n",
      "|    10|1538159495000|1542631788000|    0|\n",
      "|   100|1537982255000|1543587349000|    0|\n",
      "|100001|1534627466000|1538498205000|    1|\n",
      "|100002|1529934689000|1543799476000|    0|\n",
      "|100003|1537309344000|1539274781000|    1|\n",
      "|100004|1528560242000|1543459065000|    0|\n",
      "|100005|1532610926000|1539971825000|    1|\n",
      "|100006|1537964483000|1538753070000|    1|\n",
      "|100007|1533522419000|1543491909000|    1|\n",
      "|100008|1537440271000|1543335219000|    0|\n",
      "|100009|1537376437000|1540611104000|    1|\n",
      "|100010|1538016340000|1542823952000|    0|\n",
      "|100011|1537970819000|1538417085000|    1|\n",
      "|100012|1537381154000|1541100900000|    1|\n",
      "|100013|1537367773000|1541184816000|    1|\n",
      "|100014|1535389443000|1542740649000|    1|\n",
      "|100015|1537208989000|1543073753000|    1|\n",
      "|100016|1536854322000|1543335647000|    0|\n",
      "|100017|1533247234000|1540062847000|    1|\n",
      "|100018|1533812833000|1543378360000|    0|\n",
      "+------+-------------+-------------+-----+\n",
      "only showing top 20 rows\n",
      "\n"
     ]
    }
   ],
   "source": [
    "df_days.show()"
   ]
  },
  {
   "cell_type": "markdown",
   "metadata": {},
   "source": [
    "Now need to minus these and work that out in days."
   ]
  },
  {
   "cell_type": "code",
   "execution_count": 109,
   "metadata": {},
   "outputs": [],
   "source": [
    "# need to minus the registration from ts \n",
    "df_days = df_days.withColumn(\"delta_days\", (df_days['ts']) - (df_days['registration']))"
   ]
  },
  {
   "cell_type": "code",
   "execution_count": 110,
   "metadata": {},
   "outputs": [
    {
     "name": "stderr",
     "output_type": "stream",
     "text": [
      "                                                                                \r"
     ]
    },
    {
     "name": "stdout",
     "output_type": "stream",
     "text": [
      "+------+-------------+-------------+-----+-----------+\n",
      "|userId| registration|           ts|churn| delta_days|\n",
      "+------+-------------+-------------+-----+-----------+\n",
      "|    10|1538159495000|1542631788000|    0| 4472293000|\n",
      "|   100|1537982255000|1543587349000|    0| 5605094000|\n",
      "|100001|1534627466000|1538498205000|    1| 3870739000|\n",
      "|100002|1529934689000|1543799476000|    0|13864787000|\n",
      "|100003|1537309344000|1539274781000|    1| 1965437000|\n",
      "|100004|1528560242000|1543459065000|    0|14898823000|\n",
      "|100005|1532610926000|1539971825000|    1| 7360899000|\n",
      "|100006|1537964483000|1538753070000|    1|  788587000|\n",
      "|100007|1533522419000|1543491909000|    1| 9969490000|\n",
      "|100008|1537440271000|1543335219000|    0| 5894948000|\n",
      "|100009|1537376437000|1540611104000|    1| 3234667000|\n",
      "|100010|1538016340000|1542823952000|    0| 4807612000|\n",
      "|100011|1537970819000|1538417085000|    1|  446266000|\n",
      "|100012|1537381154000|1541100900000|    1| 3719746000|\n",
      "|100013|1537367773000|1541184816000|    1| 3817043000|\n",
      "|100014|1535389443000|1542740649000|    1| 7351206000|\n",
      "|100015|1537208989000|1543073753000|    1| 5864764000|\n",
      "|100016|1536854322000|1543335647000|    0| 6481325000|\n",
      "|100017|1533247234000|1540062847000|    1| 6815613000|\n",
      "|100018|1533812833000|1543378360000|    0| 9565527000|\n",
      "+------+-------------+-------------+-----+-----------+\n",
      "only showing top 20 rows\n",
      "\n"
     ]
    }
   ],
   "source": [
    "df_days.show()"
   ]
  },
  {
   "cell_type": "code",
   "execution_count": 111,
   "metadata": {},
   "outputs": [],
   "source": [
    "df_days = df_days.withColumn('days',(df_days['delta_days']/1000/3600/24))"
   ]
  },
  {
   "cell_type": "code",
   "execution_count": 112,
   "metadata": {},
   "outputs": [
    {
     "name": "stderr",
     "output_type": "stream",
     "text": [
      "                                                                                \r"
     ]
    },
    {
     "name": "stdout",
     "output_type": "stream",
     "text": [
      "+------+-------------+-------------+-----+-----------+------------------+\n",
      "|userId| registration|           ts|churn| delta_days|              days|\n",
      "+------+-------------+-------------+-----+-----------+------------------+\n",
      "|    10|1538159495000|1542631788000|    0| 4472293000| 51.76265046296297|\n",
      "|   100|1537982255000|1543587349000|    0| 5605094000| 64.87377314814815|\n",
      "|100001|1534627466000|1538498205000|    1| 3870739000| 44.80021990740741|\n",
      "|100002|1529934689000|1543799476000|    0|13864787000|160.47207175925925|\n",
      "|100003|1537309344000|1539274781000|    1| 1965437000|22.748113425925926|\n",
      "|100004|1528560242000|1543459065000|    0|14898823000|172.44008101851853|\n",
      "|100005|1532610926000|1539971825000|    1| 7360899000| 85.19559027777778|\n",
      "|100006|1537964483000|1538753070000|    1|  788587000| 9.127164351851851|\n",
      "|100007|1533522419000|1543491909000|    1| 9969490000|115.38761574074074|\n",
      "|100008|1537440271000|1543335219000|    0| 5894948000| 68.22856481481482|\n",
      "|100009|1537376437000|1540611104000|    1| 3234667000| 37.43827546296296|\n",
      "|100010|1538016340000|1542823952000|    0| 4807612000|  55.6436574074074|\n",
      "|100011|1537970819000|1538417085000|    1|  446266000| 5.165115740740741|\n",
      "|100012|1537381154000|1541100900000|    1| 3719746000| 43.05261574074074|\n",
      "|100013|1537367773000|1541184816000|    1| 3817043000| 44.17873842592593|\n",
      "|100014|1535389443000|1542740649000|    1| 7351206000| 85.08340277777778|\n",
      "|100015|1537208989000|1543073753000|    1| 5864764000| 67.87921296296297|\n",
      "|100016|1536854322000|1543335647000|    0| 6481325000| 75.01533564814815|\n",
      "|100017|1533247234000|1540062847000|    1| 6815613000| 78.88440972222223|\n",
      "|100018|1533812833000|1543378360000|    0| 9565527000|110.71211805555555|\n",
      "+------+-------------+-------------+-----+-----------+------------------+\n",
      "only showing top 20 rows\n",
      "\n"
     ]
    }
   ],
   "source": [
    "df_days.show()"
   ]
  },
  {
   "cell_type": "code",
   "execution_count": 113,
   "metadata": {},
   "outputs": [],
   "source": [
    "# to Pandas for the plot\n",
    "df_days_pd = df_days.toPandas()"
   ]
  },
  {
   "cell_type": "code",
   "execution_count": 114,
   "metadata": {},
   "outputs": [
    {
     "data": {
      "text/html": [
       "<div>\n",
       "<style scoped>\n",
       "    .dataframe tbody tr th:only-of-type {\n",
       "        vertical-align: middle;\n",
       "    }\n",
       "\n",
       "    .dataframe tbody tr th {\n",
       "        vertical-align: top;\n",
       "    }\n",
       "\n",
       "    .dataframe thead th {\n",
       "        text-align: right;\n",
       "    }\n",
       "</style>\n",
       "<table border=\"1\" class=\"dataframe\">\n",
       "  <thead>\n",
       "    <tr style=\"text-align: right;\">\n",
       "      <th></th>\n",
       "      <th>userId</th>\n",
       "      <th>registration</th>\n",
       "      <th>ts</th>\n",
       "      <th>churn</th>\n",
       "      <th>delta_days</th>\n",
       "      <th>days</th>\n",
       "    </tr>\n",
       "  </thead>\n",
       "  <tbody>\n",
       "    <tr>\n",
       "      <th>0</th>\n",
       "      <td>10</td>\n",
       "      <td>1538159495000</td>\n",
       "      <td>1542631788000</td>\n",
       "      <td>0</td>\n",
       "      <td>4472293000</td>\n",
       "      <td>51.762650</td>\n",
       "    </tr>\n",
       "    <tr>\n",
       "      <th>1</th>\n",
       "      <td>100</td>\n",
       "      <td>1537982255000</td>\n",
       "      <td>1543587349000</td>\n",
       "      <td>0</td>\n",
       "      <td>5605094000</td>\n",
       "      <td>64.873773</td>\n",
       "    </tr>\n",
       "    <tr>\n",
       "      <th>2</th>\n",
       "      <td>100001</td>\n",
       "      <td>1534627466000</td>\n",
       "      <td>1538498205000</td>\n",
       "      <td>1</td>\n",
       "      <td>3870739000</td>\n",
       "      <td>44.800220</td>\n",
       "    </tr>\n",
       "    <tr>\n",
       "      <th>3</th>\n",
       "      <td>100002</td>\n",
       "      <td>1529934689000</td>\n",
       "      <td>1543799476000</td>\n",
       "      <td>0</td>\n",
       "      <td>13864787000</td>\n",
       "      <td>160.472072</td>\n",
       "    </tr>\n",
       "    <tr>\n",
       "      <th>4</th>\n",
       "      <td>100003</td>\n",
       "      <td>1537309344000</td>\n",
       "      <td>1539274781000</td>\n",
       "      <td>1</td>\n",
       "      <td>1965437000</td>\n",
       "      <td>22.748113</td>\n",
       "    </tr>\n",
       "    <tr>\n",
       "      <th>...</th>\n",
       "      <td>...</td>\n",
       "      <td>...</td>\n",
       "      <td>...</td>\n",
       "      <td>...</td>\n",
       "      <td>...</td>\n",
       "      <td>...</td>\n",
       "    </tr>\n",
       "    <tr>\n",
       "      <th>220</th>\n",
       "      <td>95</td>\n",
       "      <td>1538211832000</td>\n",
       "      <td>1543591644000</td>\n",
       "      <td>0</td>\n",
       "      <td>5379812000</td>\n",
       "      <td>62.266343</td>\n",
       "    </tr>\n",
       "    <tr>\n",
       "      <th>221</th>\n",
       "      <td>96</td>\n",
       "      <td>1537149749000</td>\n",
       "      <td>1543537879000</td>\n",
       "      <td>0</td>\n",
       "      <td>6388130000</td>\n",
       "      <td>73.936690</td>\n",
       "    </tr>\n",
       "    <tr>\n",
       "      <th>222</th>\n",
       "      <td>97</td>\n",
       "      <td>1536019842000</td>\n",
       "      <td>1543570634000</td>\n",
       "      <td>0</td>\n",
       "      <td>7550792000</td>\n",
       "      <td>87.393426</td>\n",
       "    </tr>\n",
       "    <tr>\n",
       "      <th>223</th>\n",
       "      <td>98</td>\n",
       "      <td>1538069638000</td>\n",
       "      <td>1543548229000</td>\n",
       "      <td>0</td>\n",
       "      <td>5478591000</td>\n",
       "      <td>63.409618</td>\n",
       "    </tr>\n",
       "    <tr>\n",
       "      <th>224</th>\n",
       "      <td>99</td>\n",
       "      <td>1531811983000</td>\n",
       "      <td>1543303277000</td>\n",
       "      <td>0</td>\n",
       "      <td>11491294000</td>\n",
       "      <td>133.001088</td>\n",
       "    </tr>\n",
       "  </tbody>\n",
       "</table>\n",
       "<p>225 rows × 6 columns</p>\n",
       "</div>"
      ],
      "text/plain": [
       "     userId   registration             ts  churn   delta_days        days\n",
       "0        10  1538159495000  1542631788000      0   4472293000   51.762650\n",
       "1       100  1537982255000  1543587349000      0   5605094000   64.873773\n",
       "2    100001  1534627466000  1538498205000      1   3870739000   44.800220\n",
       "3    100002  1529934689000  1543799476000      0  13864787000  160.472072\n",
       "4    100003  1537309344000  1539274781000      1   1965437000   22.748113\n",
       "..      ...            ...            ...    ...          ...         ...\n",
       "220      95  1538211832000  1543591644000      0   5379812000   62.266343\n",
       "221      96  1537149749000  1543537879000      0   6388130000   73.936690\n",
       "222      97  1536019842000  1543570634000      0   7550792000   87.393426\n",
       "223      98  1538069638000  1543548229000      0   5478591000   63.409618\n",
       "224      99  1531811983000  1543303277000      0  11491294000  133.001088\n",
       "\n",
       "[225 rows x 6 columns]"
      ]
     },
     "execution_count": 114,
     "metadata": {},
     "output_type": "execute_result"
    }
   ],
   "source": [
    "df_days_pd"
   ]
  },
  {
   "cell_type": "code",
   "execution_count": 115,
   "metadata": {},
   "outputs": [
    {
     "data": {
      "text/plain": [
       "Text(0, 0.5, 'Days Since Registered')"
      ]
     },
     "execution_count": 115,
     "metadata": {},
     "output_type": "execute_result"
    },
    {
     "data": {
      "image/png": "[encoded data removed]",
      "text/plain": [
       "<Figure size 800x600 with 1 Axes>"
      ]
     },
     "metadata": {},
     "output_type": "display_data"
    }
   ],
   "source": [
    "# Plot a boxplot for the count of users that churned vs. users that stayed by days since registering\n",
    "plt.figure(figsize=[8, 6])\n",
    "sns.boxplot(data=df_days_pd, x='churn', y='days')\n",
    "plt.title('Count of Users that Churned vs. Users that Stayed by Days Since Registering')\n",
    "plt.ylabel(\"Days Since Registered\")\n"
   ]
  },
  {
   "cell_type": "markdown",
   "metadata": {},
   "source": [
    "On average those who had been registered with Sparkify for longer were more likely to stay. Users who had registered more recently were more likely to churn."
   ]
  },
  {
   "cell_type": "markdown",
   "metadata": {},
   "source": [
    "# Feature Engineering\n",
    "<a class=\"anchor\" id=\"eng\"></a>\n",
    "\n",
    "Now that EDA has been performed, we can build out the features that seem most promising to train our model on."
   ]
  },
  {
   "cell_type": "markdown",
   "metadata": {},
   "source": [
    "The features we will build out are:\n",
    "\n",
    "### Categorical:\n",
    "- Gender\n",
    "- Level (Paid or Free)\n",
    "\n",
    "### Numerical:\n",
    "- Number of Songs per Session\n",
    "- Number of RollAds Actions\n",
    "- Number of Thumb Down Actions\n",
    "- Number of Thumbs Up Actions\n",
    "- Number of Friends Added\n",
    "- Number of Songs Added to Playlist\n",
    "- Number of Different Artists Listened to on Sparkify\n",
    "- Number of Days Since Registering\n",
    "\n",
    "We will also then add a churn\n"
   ]
  },
  {
   "cell_type": "markdown",
   "metadata": {},
   "source": [
    "First we will take our categorical variables and convert these into numeric variables, ready for our model."
   ]
  },
  {
   "cell_type": "markdown",
   "metadata": {},
   "source": [
    "### Gender"
   ]
  },
  {
   "cell_type": "markdown",
   "metadata": {},
   "source": [
    "Our first feature is gender which is a categorical one. We will assign a 1 for 'female' and a 0 for 'male'."
   ]
  },
  {
   "cell_type": "code",
   "execution_count": 116,
   "metadata": {},
   "outputs": [],
   "source": [
    "# Create a DataFrame for gender interactions, removing duplicates based on userId\n",
    "gender_f1 = df.select(['userId', 'gender']).dropDuplicates()"
   ]
  },
  {
   "cell_type": "code",
   "execution_count": 117,
   "metadata": {},
   "outputs": [],
   "source": [
    "# create gender column \n",
    "gender_f1 = gender_f1.withColumn('gender', when(col('gender') == 'F', 1).otherwise(0))"
   ]
  },
  {
   "cell_type": "code",
   "execution_count": 118,
   "metadata": {},
   "outputs": [
    {
     "name": "stderr",
     "output_type": "stream",
     "text": [
      "                                                                                \r"
     ]
    },
    {
     "data": {
      "text/plain": [
       "225"
      ]
     },
     "execution_count": 118,
     "metadata": {},
     "output_type": "execute_result"
    }
   ],
   "source": [
    "gender_f1.count()"
   ]
  },
  {
   "cell_type": "code",
   "execution_count": 119,
   "metadata": {},
   "outputs": [
    {
     "name": "stdout",
     "output_type": "stream",
     "text": [
      "+------+------+\n",
      "|userId|gender|\n",
      "+------+------+\n",
      "|    44|     1|\n",
      "|    46|     1|\n",
      "|    41|     1|\n",
      "|    39|     1|\n",
      "|    40|     1|\n",
      "|    94|     1|\n",
      "|    35|     1|\n",
      "|    75|     1|\n",
      "|   100|     0|\n",
      "|    25|     1|\n",
      "|    92|     1|\n",
      "|    52|     1|\n",
      "|   110|     0|\n",
      "|    33|     0|\n",
      "|    42|     1|\n",
      "|    67|     0|\n",
      "|    77|     1|\n",
      "|   136|     1|\n",
      "|    99|     1|\n",
      "|   114|     0|\n",
      "+------+------+\n",
      "only showing top 20 rows\n",
      "\n"
     ]
    }
   ],
   "source": [
    "# check\n",
    "gender_f1.show(20)"
   ]
  },
  {
   "cell_type": "markdown",
   "metadata": {},
   "source": [
    "### Level"
   ]
  },
  {
   "cell_type": "markdown",
   "metadata": {},
   "source": [
    "The next feature we will take is level. The level can change so we need to only take the most recent. We can use the rank trick from before."
   ]
  },
  {
   "cell_type": "code",
   "execution_count": 120,
   "metadata": {},
   "outputs": [],
   "source": [
    "# Create a DataFrame with userId, level, and timestamp, removing duplicates and sorting by userId\n",
    "df2 = df.select(['userId', 'level', 'ts']).dropDuplicates().sort('userId')"
   ]
  },
  {
   "cell_type": "code",
   "execution_count": 121,
   "metadata": {},
   "outputs": [],
   "source": [
    "w = Window.partitionBy(\"userId\").orderBy(desc(\"ts\"))"
   ]
  },
  {
   "cell_type": "code",
   "execution_count": 122,
   "metadata": {},
   "outputs": [],
   "source": [
    "df2 = df2.withColumn(\"Rank\", dense_rank().over(w))"
   ]
  },
  {
   "cell_type": "code",
   "execution_count": 123,
   "metadata": {},
   "outputs": [
    {
     "name": "stderr",
     "output_type": "stream",
     "text": [
      "                                                                                \r"
     ]
    },
    {
     "name": "stdout",
     "output_type": "stream",
     "text": [
      "+------+-----+-------------+----+\n",
      "|userId|level|           ts|Rank|\n",
      "+------+-----+-------------+----+\n",
      "|    10| paid|1542631788000|   1|\n",
      "|    10| paid|1542631753000|   2|\n",
      "|    10| paid|1542631690000|   3|\n",
      "|    10| paid|1542631518000|   4|\n",
      "|    10| paid|1542631517000|   5|\n",
      "|    10| paid|1542631090000|   6|\n",
      "|    10| paid|1542630866000|   7|\n",
      "|    10| paid|1542630637000|   8|\n",
      "|    10| paid|1542630407000|   9|\n",
      "|    10| paid|1542630394000|  10|\n",
      "|    10| paid|1542630248000|  11|\n",
      "|    10| paid|1542630247000|  12|\n",
      "|    10| paid|1542630029000|  13|\n",
      "|    10| paid|1542629861000|  14|\n",
      "|    10| paid|1542629636000|  15|\n",
      "|    10| paid|1542629464000|  16|\n",
      "|    10| paid|1542629238000|  17|\n",
      "|    10| paid|1542629029000|  18|\n",
      "|    10| paid|1542629028000|  19|\n",
      "|    10| paid|1542628798000|  20|\n",
      "+------+-----+-------------+----+\n",
      "only showing top 20 rows\n",
      "\n"
     ]
    }
   ],
   "source": [
    "df2.show()"
   ]
  },
  {
   "cell_type": "code",
   "execution_count": 124,
   "metadata": {},
   "outputs": [],
   "source": [
    "level_f2 = df2.filter(df2.Rank == 1).drop(df2.Rank)"
   ]
  },
  {
   "cell_type": "code",
   "execution_count": 125,
   "metadata": {},
   "outputs": [],
   "source": [
    "level_f2 = level_f2.drop('ts')"
   ]
  },
  {
   "cell_type": "code",
   "execution_count": 126,
   "metadata": {},
   "outputs": [],
   "source": [
    "level_f2 = level_f2.withColumn('level', when(col('level') == 'paid', 1).otherwise(0))"
   ]
  },
  {
   "cell_type": "code",
   "execution_count": 127,
   "metadata": {},
   "outputs": [
    {
     "name": "stderr",
     "output_type": "stream",
     "text": [
      "                                                                                \r"
     ]
    },
    {
     "data": {
      "text/plain": [
       "225"
      ]
     },
     "execution_count": 127,
     "metadata": {},
     "output_type": "execute_result"
    }
   ],
   "source": [
    "level_f2.count()"
   ]
  },
  {
   "cell_type": "code",
   "execution_count": 128,
   "metadata": {},
   "outputs": [
    {
     "name": "stderr",
     "output_type": "stream",
     "text": [
      "                                                                                \r"
     ]
    },
    {
     "name": "stdout",
     "output_type": "stream",
     "text": [
      "+------+-----+\n",
      "|userId|level|\n",
      "+------+-----+\n",
      "|    10|    1|\n",
      "|   100|    1|\n",
      "|100001|    0|\n",
      "|100002|    1|\n",
      "|100003|    0|\n",
      "|100004|    1|\n",
      "|100005|    0|\n",
      "|100006|    0|\n",
      "|100007|    1|\n",
      "|100008|    0|\n",
      "|100009|    0|\n",
      "|100010|    0|\n",
      "|100011|    0|\n",
      "|100012|    0|\n",
      "|100013|    1|\n",
      "|100014|    1|\n",
      "|100015|    1|\n",
      "|100016|    0|\n",
      "|100017|    0|\n",
      "|100018|    0|\n",
      "+------+-----+\n",
      "only showing top 20 rows\n",
      "\n"
     ]
    }
   ],
   "source": [
    "level_f2.show(20)"
   ]
  },
  {
   "cell_type": "markdown",
   "metadata": {},
   "source": [
    "### Average Number of songs per session"
   ]
  },
  {
   "cell_type": "markdown",
   "metadata": {},
   "source": [
    "Our third feature is average number of songs per session for each user."
   ]
  },
  {
   "cell_type": "code",
   "execution_count": 129,
   "metadata": {},
   "outputs": [],
   "source": [
    "# Create a DataFrame for song interactions, grouped by userId and sessionId\n",
    "song_f3 = df.filter(df.page == \"NextSong\").groupBy('userId', 'sessionId').count()"
   ]
  },
  {
   "cell_type": "code",
   "execution_count": 130,
   "metadata": {},
   "outputs": [
    {
     "name": "stderr",
     "output_type": "stream",
     "text": [
      "\r",
      "[Stage 264:====>                                                  (1 + 11) / 12]\r"
     ]
    },
    {
     "name": "stdout",
     "output_type": "stream",
     "text": [
      "+------+---------+-----+\n",
      "|userId|sessionId|count|\n",
      "+------+---------+-----+\n",
      "|    92|      358|   57|\n",
      "|    42|      433|   16|\n",
      "+------+---------+-----+\n",
      "only showing top 2 rows\n",
      "\n"
     ]
    },
    {
     "name": "stderr",
     "output_type": "stream",
     "text": [
      "\r",
      "                                                                                \r"
     ]
    }
   ],
   "source": [
    "# Show the first two rows of the DataFrame for song interactions\n",
    "df.filter(df.page == \"NextSong\").groupBy('userId', 'sessionId').count().show(2)"
   ]
  },
  {
   "cell_type": "code",
   "execution_count": 131,
   "metadata": {},
   "outputs": [],
   "source": [
    "song_f3 = song_f3.groupby('userId').agg({\"count\":\"avg\"})"
   ]
  },
  {
   "cell_type": "code",
   "execution_count": 132,
   "metadata": {},
   "outputs": [],
   "source": [
    "song_f3 = song_f3.withColumnRenamed(\"avg(count)\", \"avg_song\")"
   ]
  },
  {
   "cell_type": "code",
   "execution_count": 133,
   "metadata": {},
   "outputs": [
    {
     "data": {
      "text/plain": [
       "225"
      ]
     },
     "execution_count": 133,
     "metadata": {},
     "output_type": "execute_result"
    }
   ],
   "source": [
    "song_f3.count()"
   ]
  },
  {
   "cell_type": "code",
   "execution_count": 134,
   "metadata": {},
   "outputs": [
    {
     "name": "stdout",
     "output_type": "stream",
     "text": [
      "+------+------------------+\n",
      "|userId|          avg_song|\n",
      "+------+------------------+\n",
      "|100010|39.285714285714285|\n",
      "|200002|              64.5|\n",
      "+------+------------------+\n",
      "only showing top 2 rows\n",
      "\n"
     ]
    }
   ],
   "source": [
    "song_f3.show(2)"
   ]
  },
  {
   "cell_type": "markdown",
   "metadata": {},
   "source": [
    "### Number of rollads actions\n"
   ]
  },
  {
   "cell_type": "markdown",
   "metadata": {},
   "source": [
    "Next feature we can consider is number of roll advert actions. This had a higher number of roll ad count for those who churned since those who use the app for free are shown ads whereas paid subscribers aren't shown ads."
   ]
  },
  {
   "cell_type": "code",
   "execution_count": 135,
   "metadata": {},
   "outputs": [],
   "source": [
    "rollad_f4 = df.select([\"userId\", \"page\"])"
   ]
  },
  {
   "cell_type": "code",
   "execution_count": 136,
   "metadata": {},
   "outputs": [],
   "source": [
    "rollad_event = udf(lambda x: 1 if x == \"Roll Advert\" else 0, IntegerType())"
   ]
  },
  {
   "cell_type": "code",
   "execution_count": 137,
   "metadata": {},
   "outputs": [],
   "source": [
    "rollad_f4 = rollad_f4.withColumn(\"rollad\", rollad_event(\"page\"))"
   ]
  },
  {
   "cell_type": "code",
   "execution_count": 138,
   "metadata": {},
   "outputs": [],
   "source": [
    "rollad_f4 = rollad_f4.groupby('userId').sum(\"rollad\")"
   ]
  },
  {
   "cell_type": "code",
   "execution_count": 139,
   "metadata": {},
   "outputs": [],
   "source": [
    "rollad_f4 = rollad_f4.withColumnRenamed(\"sum(rollad)\", \"roll_ad\")"
   ]
  },
  {
   "cell_type": "code",
   "execution_count": 140,
   "metadata": {},
   "outputs": [
    {
     "data": {
      "text/plain": [
       "225"
      ]
     },
     "execution_count": 140,
     "metadata": {},
     "output_type": "execute_result"
    }
   ],
   "source": [
    "rollad_f4.count()"
   ]
  },
  {
   "cell_type": "code",
   "execution_count": 141,
   "metadata": {},
   "outputs": [
    {
     "name": "stderr",
     "output_type": "stream",
     "text": [
      "\r",
      "[Stage 285:====>                                                  (1 + 11) / 12]\r"
     ]
    },
    {
     "name": "stdout",
     "output_type": "stream",
     "text": [
      "+------+-------+\n",
      "|userId|roll_ad|\n",
      "+------+-------+\n",
      "|    51|      0|\n",
      "|   124|      4|\n",
      "+------+-------+\n",
      "only showing top 2 rows\n",
      "\n"
     ]
    },
    {
     "name": "stderr",
     "output_type": "stream",
     "text": [
      "\r",
      "[Stage 285:=======================>                                (5 + 7) / 12]\r",
      "\r",
      "                                                                                \r"
     ]
    }
   ],
   "source": [
    "rollad_f4.show(2)"
   ]
  },
  {
   "cell_type": "markdown",
   "metadata": {},
   "source": [
    "### Number of thumb down actions\n"
   ]
  },
  {
   "cell_type": "markdown",
   "metadata": {},
   "source": [
    "The fifth feature we can add to our feature dataframe is thumbs down. Users who had churned in the past had performed more thumbs down actions than those who stayed with the service. "
   ]
  },
  {
   "cell_type": "code",
   "execution_count": 142,
   "metadata": {},
   "outputs": [],
   "source": [
    "thumbdown_f5 = df.select([\"userId\", \"page\"])"
   ]
  },
  {
   "cell_type": "code",
   "execution_count": 143,
   "metadata": {},
   "outputs": [],
   "source": [
    "thumddown_event = udf(lambda x: 1 if x == \"Thumbs Down\" else 0, IntegerType())"
   ]
  },
  {
   "cell_type": "code",
   "execution_count": 144,
   "metadata": {},
   "outputs": [],
   "source": [
    "thumbdown_f5 = thumbdown_f5.withColumn(\"Thumbs Down\", thumddown_event(\"page\"))"
   ]
  },
  {
   "cell_type": "code",
   "execution_count": 145,
   "metadata": {},
   "outputs": [],
   "source": [
    "thumbdown_f5 = thumbdown_f5.groupby('userId').sum(\"Thumbs Down\")"
   ]
  },
  {
   "cell_type": "code",
   "execution_count": 146,
   "metadata": {},
   "outputs": [],
   "source": [
    "thumbdown_f5 = thumbdown_f5.withColumnRenamed(\"sum(Thumbs Down)\", \"thumbs_down\")"
   ]
  },
  {
   "cell_type": "code",
   "execution_count": 147,
   "metadata": {},
   "outputs": [
    {
     "data": {
      "text/plain": [
       "225"
      ]
     },
     "execution_count": 147,
     "metadata": {},
     "output_type": "execute_result"
    }
   ],
   "source": [
    "thumbdown_f5.count()"
   ]
  },
  {
   "cell_type": "code",
   "execution_count": 148,
   "metadata": {},
   "outputs": [
    {
     "name": "stdout",
     "output_type": "stream",
     "text": [
      "+------+-----------+\n",
      "|userId|thumbs_down|\n",
      "+------+-----------+\n",
      "|    51|         21|\n",
      "|   124|         41|\n",
      "+------+-----------+\n",
      "only showing top 2 rows\n",
      "\n"
     ]
    }
   ],
   "source": [
    "thumbdown_f5.show(2)"
   ]
  },
  {
   "cell_type": "markdown",
   "metadata": {},
   "source": [
    "### Number of thumbs up actions\n"
   ]
  },
  {
   "cell_type": "markdown",
   "metadata": {},
   "source": [
    "We can do the same for thumb up actions. Users who stayed with the service had performed more thumbs up actions in the past."
   ]
  },
  {
   "cell_type": "code",
   "execution_count": 149,
   "metadata": {},
   "outputs": [],
   "source": [
    "thumbup_f6 = df.select([\"userId\", \"page\"])"
   ]
  },
  {
   "cell_type": "code",
   "execution_count": 150,
   "metadata": {},
   "outputs": [],
   "source": [
    "thumbup_event = udf(lambda x: 1 if x == \"Thumbs Up\" else 0, IntegerType())"
   ]
  },
  {
   "cell_type": "code",
   "execution_count": 151,
   "metadata": {},
   "outputs": [],
   "source": [
    "thumbup_f6 = thumbup_f6.withColumn(\"Thumbs Up\", thumbup_event(\"page\"))"
   ]
  },
  {
   "cell_type": "code",
   "execution_count": 152,
   "metadata": {},
   "outputs": [],
   "source": [
    "thumbup_f6 = thumbup_f6.groupby('userId').sum(\"Thumbs Up\")"
   ]
  },
  {
   "cell_type": "code",
   "execution_count": 153,
   "metadata": {},
   "outputs": [],
   "source": [
    "thumbup_f6 = thumbup_f6.withColumnRenamed(\"sum(Thumbs Up)\", \"thumbs_up\")"
   ]
  },
  {
   "cell_type": "code",
   "execution_count": 154,
   "metadata": {},
   "outputs": [
    {
     "data": {
      "text/plain": [
       "225"
      ]
     },
     "execution_count": 154,
     "metadata": {},
     "output_type": "execute_result"
    }
   ],
   "source": [
    "thumbup_f6.count()"
   ]
  },
  {
   "cell_type": "code",
   "execution_count": 155,
   "metadata": {},
   "outputs": [
    {
     "name": "stdout",
     "output_type": "stream",
     "text": [
      "+------+---------+\n",
      "|userId|thumbs_up|\n",
      "+------+---------+\n",
      "|    51|      100|\n",
      "|   124|      171|\n",
      "+------+---------+\n",
      "only showing top 2 rows\n",
      "\n"
     ]
    },
    {
     "name": "stderr",
     "output_type": "stream",
     "text": [
      "\r",
      "[Stage 303:=====================================>                  (8 + 4) / 12]\r",
      "\r",
      "                                                                                \r"
     ]
    }
   ],
   "source": [
    "thumbup_f6.show(2)"
   ]
  },
  {
   "cell_type": "markdown",
   "metadata": {},
   "source": [
    "### Number of friends added\n"
   ]
  },
  {
   "cell_type": "markdown",
   "metadata": {},
   "source": [
    "Similarly, number of friends added can indicate if a user is likely to churn or not. In the past, those who added more friends stayed with the app."
   ]
  },
  {
   "cell_type": "code",
   "execution_count": 156,
   "metadata": {},
   "outputs": [],
   "source": [
    "friend_f7 = df.select([\"userId\", \"page\"])"
   ]
  },
  {
   "cell_type": "code",
   "execution_count": 157,
   "metadata": {},
   "outputs": [],
   "source": [
    "add_friend = udf(lambda x: 1 if x == \"Add Friend\" else 0, IntegerType())"
   ]
  },
  {
   "cell_type": "code",
   "execution_count": 158,
   "metadata": {},
   "outputs": [],
   "source": [
    "friend_f7 = friend_f7.withColumn(\"add_friend\", add_friend(\"page\"))"
   ]
  },
  {
   "cell_type": "code",
   "execution_count": 159,
   "metadata": {},
   "outputs": [],
   "source": [
    "friend_f7 = friend_f7.groupby('userId').sum(\"add_friend\")"
   ]
  },
  {
   "cell_type": "code",
   "execution_count": 160,
   "metadata": {},
   "outputs": [],
   "source": [
    "friend_f7 = friend_f7.withColumnRenamed(\"sum(add_friend)\", \"add_friend\")"
   ]
  },
  {
   "cell_type": "code",
   "execution_count": 161,
   "metadata": {},
   "outputs": [
    {
     "data": {
      "text/plain": [
       "225"
      ]
     },
     "execution_count": 161,
     "metadata": {},
     "output_type": "execute_result"
    }
   ],
   "source": [
    "friend_f7.count()"
   ]
  },
  {
   "cell_type": "code",
   "execution_count": 162,
   "metadata": {},
   "outputs": [
    {
     "name": "stdout",
     "output_type": "stream",
     "text": [
      "+------+----------+\n",
      "|userId|add_friend|\n",
      "+------+----------+\n",
      "|    51|        28|\n",
      "|   124|        74|\n",
      "+------+----------+\n",
      "only showing top 2 rows\n",
      "\n"
     ]
    }
   ],
   "source": [
    "friend_f7.show(2)"
   ]
  },
  {
   "cell_type": "markdown",
   "metadata": {},
   "source": [
    "### Number of songs added to playlist"
   ]
  },
  {
   "cell_type": "markdown",
   "metadata": {},
   "source": [
    "Again, those who added more songs to their playlists had stayed with the service so this can provide an indication of whether a user is likely to churn."
   ]
  },
  {
   "cell_type": "code",
   "execution_count": 163,
   "metadata": {},
   "outputs": [],
   "source": [
    "playlist_f8 = df.select([\"userId\", \"page\"])"
   ]
  },
  {
   "cell_type": "code",
   "execution_count": 164,
   "metadata": {},
   "outputs": [],
   "source": [
    "add_playlist = udf(lambda x: 1 if x == \"Add to Playlist\" else 0, IntegerType())"
   ]
  },
  {
   "cell_type": "code",
   "execution_count": 165,
   "metadata": {},
   "outputs": [],
   "source": [
    "playlist_f8 = playlist_f8.withColumn(\"Playlist\", add_playlist(\"page\"))"
   ]
  },
  {
   "cell_type": "code",
   "execution_count": 166,
   "metadata": {},
   "outputs": [],
   "source": [
    "playlist_f8 = playlist_f8.groupby('userId').sum(\"Playlist\")"
   ]
  },
  {
   "cell_type": "code",
   "execution_count": 167,
   "metadata": {},
   "outputs": [],
   "source": [
    "playlist_f8 = playlist_f8.withColumnRenamed(\"sum(Playlist)\", \"playlist\")"
   ]
  },
  {
   "cell_type": "code",
   "execution_count": 168,
   "metadata": {},
   "outputs": [
    {
     "data": {
      "text/plain": [
       "225"
      ]
     },
     "execution_count": 168,
     "metadata": {},
     "output_type": "execute_result"
    }
   ],
   "source": [
    "playlist_f8.count()"
   ]
  },
  {
   "cell_type": "code",
   "execution_count": 169,
   "metadata": {},
   "outputs": [
    {
     "name": "stdout",
     "output_type": "stream",
     "text": [
      "+------+--------+\n",
      "|userId|playlist|\n",
      "+------+--------+\n",
      "|    51|      52|\n",
      "|   124|     118|\n",
      "+------+--------+\n",
      "only showing top 2 rows\n",
      "\n"
     ]
    }
   ],
   "source": [
    "playlist_f8.show(2)"
   ]
  },
  {
   "cell_type": "markdown",
   "metadata": {},
   "source": [
    "### Number of different Artists Listened to on Sparkify"
   ]
  },
  {
   "cell_type": "markdown",
   "metadata": {},
   "source": [
    "As we discovered in EDA, users that listened to more diverse artists were less likely to churn."
   ]
  },
  {
   "cell_type": "code",
   "execution_count": 170,
   "metadata": {},
   "outputs": [],
   "source": [
    "artists_f9 = df.select(\"userId\", \"artist\").dropDuplicates().groupby(\"userId\").count()"
   ]
  },
  {
   "cell_type": "code",
   "execution_count": 171,
   "metadata": {},
   "outputs": [],
   "source": [
    "artists_f9 = artists_f9.withColumnRenamed(\"count\", \"num_artists\")"
   ]
  },
  {
   "cell_type": "code",
   "execution_count": 172,
   "metadata": {},
   "outputs": [
    {
     "data": {
      "text/plain": [
       "225"
      ]
     },
     "execution_count": 172,
     "metadata": {},
     "output_type": "execute_result"
    }
   ],
   "source": [
    "artists_f9.count()"
   ]
  },
  {
   "cell_type": "code",
   "execution_count": 173,
   "metadata": {},
   "outputs": [
    {
     "name": "stderr",
     "output_type": "stream",
     "text": [
      "\r",
      "[Stage 330:====>                                                  (1 + 11) / 12]\r",
      "\r",
      "[Stage 330:=====================================>                  (8 + 4) / 12]\r"
     ]
    },
    {
     "name": "stdout",
     "output_type": "stream",
     "text": [
      "+------+-----------+\n",
      "|userId|num_artists|\n",
      "+------+-----------+\n",
      "|100010|        253|\n",
      "|200002|        340|\n",
      "+------+-----------+\n",
      "only showing top 2 rows\n",
      "\n"
     ]
    },
    {
     "name": "stderr",
     "output_type": "stream",
     "text": [
      "\r",
      "                                                                                \r"
     ]
    }
   ],
   "source": [
    "artists_f9.show(2)"
   ]
  },
  {
   "cell_type": "markdown",
   "metadata": {},
   "source": [
    "### Number of Days Since Registering"
   ]
  },
  {
   "cell_type": "markdown",
   "metadata": {},
   "source": [
    "Number of days since registering also looked useful from our EDA. We saw that users who had a shorter number of days since registering churned more than those who had used the service for a longer time."
   ]
  },
  {
   "cell_type": "code",
   "execution_count": 174,
   "metadata": {},
   "outputs": [
    {
     "name": "stderr",
     "output_type": "stream",
     "text": [
      "                                                                                \r"
     ]
    },
    {
     "name": "stdout",
     "output_type": "stream",
     "text": [
      "+------+-------------+-------------+-----+-----------+------------------+\n",
      "|userId| registration|           ts|churn| delta_days|              days|\n",
      "+------+-------------+-------------+-----+-----------+------------------+\n",
      "|    10|1538159495000|1542631788000|    0| 4472293000| 51.76265046296297|\n",
      "|   100|1537982255000|1543587349000|    0| 5605094000| 64.87377314814815|\n",
      "|100001|1534627466000|1538498205000|    1| 3870739000| 44.80021990740741|\n",
      "|100002|1529934689000|1543799476000|    0|13864787000|160.47207175925925|\n",
      "|100003|1537309344000|1539274781000|    1| 1965437000|22.748113425925926|\n",
      "|100004|1528560242000|1543459065000|    0|14898823000|172.44008101851853|\n",
      "|100005|1532610926000|1539971825000|    1| 7360899000| 85.19559027777778|\n",
      "|100006|1537964483000|1538753070000|    1|  788587000| 9.127164351851851|\n",
      "|100007|1533522419000|1543491909000|    1| 9969490000|115.38761574074074|\n",
      "|100008|1537440271000|1543335219000|    0| 5894948000| 68.22856481481482|\n",
      "|100009|1537376437000|1540611104000|    1| 3234667000| 37.43827546296296|\n",
      "|100010|1538016340000|1542823952000|    0| 4807612000|  55.6436574074074|\n",
      "|100011|1537970819000|1538417085000|    1|  446266000| 5.165115740740741|\n",
      "|100012|1537381154000|1541100900000|    1| 3719746000| 43.05261574074074|\n",
      "|100013|1537367773000|1541184816000|    1| 3817043000| 44.17873842592593|\n",
      "|100014|1535389443000|1542740649000|    1| 7351206000| 85.08340277777778|\n",
      "|100015|1537208989000|1543073753000|    1| 5864764000| 67.87921296296297|\n",
      "|100016|1536854322000|1543335647000|    0| 6481325000| 75.01533564814815|\n",
      "|100017|1533247234000|1540062847000|    1| 6815613000| 78.88440972222223|\n",
      "|100018|1533812833000|1543378360000|    0| 9565527000|110.71211805555555|\n",
      "+------+-------------+-------------+-----+-----------+------------------+\n",
      "only showing top 20 rows\n",
      "\n"
     ]
    }
   ],
   "source": [
    "df_days.show()"
   ]
  },
  {
   "cell_type": "code",
   "execution_count": 175,
   "metadata": {},
   "outputs": [],
   "source": [
    "days_f10 = df_days.drop('registration', 'ts', 'churn', 'delta_days')"
   ]
  },
  {
   "cell_type": "code",
   "execution_count": 176,
   "metadata": {},
   "outputs": [
    {
     "name": "stderr",
     "output_type": "stream",
     "text": [
      "                                                                                \r"
     ]
    },
    {
     "data": {
      "text/plain": [
       "225"
      ]
     },
     "execution_count": 176,
     "metadata": {},
     "output_type": "execute_result"
    }
   ],
   "source": [
    "days_f10.count()"
   ]
  },
  {
   "cell_type": "code",
   "execution_count": 177,
   "metadata": {},
   "outputs": [
    {
     "name": "stderr",
     "output_type": "stream",
     "text": [
      "                                                                                \r"
     ]
    },
    {
     "name": "stdout",
     "output_type": "stream",
     "text": [
      "+------+------------------+\n",
      "|userId|              days|\n",
      "+------+------------------+\n",
      "|    10| 51.76265046296297|\n",
      "|   100| 64.87377314814815|\n",
      "|100001| 44.80021990740741|\n",
      "|100002|160.47207175925925|\n",
      "|100003|22.748113425925926|\n",
      "|100004|172.44008101851853|\n",
      "|100005| 85.19559027777778|\n",
      "|100006| 9.127164351851851|\n",
      "|100007|115.38761574074074|\n",
      "|100008| 68.22856481481482|\n",
      "|100009| 37.43827546296296|\n",
      "|100010|  55.6436574074074|\n",
      "|100011| 5.165115740740741|\n",
      "|100012| 43.05261574074074|\n",
      "|100013| 44.17873842592593|\n",
      "|100014| 85.08340277777778|\n",
      "|100015| 67.87921296296297|\n",
      "|100016| 75.01533564814815|\n",
      "|100017| 78.88440972222223|\n",
      "|100018|110.71211805555555|\n",
      "+------+------------------+\n",
      "only showing top 20 rows\n",
      "\n"
     ]
    }
   ],
   "source": [
    "days_f10.show()"
   ]
  },
  {
   "cell_type": "markdown",
   "metadata": {},
   "source": [
    "### Label"
   ]
  },
  {
   "cell_type": "markdown",
   "metadata": {},
   "source": [
    "Now we can create our label column indicating if the user churned (1) or not (0)."
   ]
  },
  {
   "cell_type": "code",
   "execution_count": 178,
   "metadata": {},
   "outputs": [],
   "source": [
    "label = df.select(\"userId\", \"churn\").dropDuplicates().groupby(\"userId\", \"churn\").count()"
   ]
  },
  {
   "cell_type": "code",
   "execution_count": 179,
   "metadata": {},
   "outputs": [],
   "source": [
    "label = label.drop('count')"
   ]
  },
  {
   "cell_type": "code",
   "execution_count": 180,
   "metadata": {},
   "outputs": [
    {
     "name": "stderr",
     "output_type": "stream",
     "text": [
      "                                                                                \r"
     ]
    },
    {
     "data": {
      "text/plain": [
       "225"
      ]
     },
     "execution_count": 180,
     "metadata": {},
     "output_type": "execute_result"
    }
   ],
   "source": [
    "label.count()"
   ]
  },
  {
   "cell_type": "code",
   "execution_count": 181,
   "metadata": {},
   "outputs": [],
   "source": [
    "label = label.withColumnRenamed(\"churn\", \"label\")"
   ]
  },
  {
   "cell_type": "code",
   "execution_count": 182,
   "metadata": {},
   "outputs": [
    {
     "name": "stdout",
     "output_type": "stream",
     "text": [
      "+------+-----+\n",
      "|userId|label|\n",
      "+------+-----+\n",
      "|    10|    0|\n",
      "|   100|    0|\n",
      "|100001|    1|\n",
      "|100002|    0|\n",
      "|100003|    1|\n",
      "|100004|    0|\n",
      "|100005|    1|\n",
      "|100006|    1|\n",
      "|100007|    1|\n",
      "|100008|    0|\n",
      "|100009|    1|\n",
      "|100010|    0|\n",
      "|100011|    1|\n",
      "|100012|    1|\n",
      "|100013|    1|\n",
      "|100014|    1|\n",
      "|100015|    1|\n",
      "|100016|    0|\n",
      "|100017|    1|\n",
      "|100018|    0|\n",
      "+------+-----+\n",
      "only showing top 20 rows\n",
      "\n"
     ]
    }
   ],
   "source": [
    "label.show()"
   ]
  },
  {
   "cell_type": "markdown",
   "metadata": {},
   "source": [
    "### Create Features Dataset"
   ]
  },
  {
   "cell_type": "markdown",
   "metadata": {},
   "source": [
    "Now that we have our features we need to join these together on `userId`."
   ]
  },
  {
   "cell_type": "code",
   "execution_count": 183,
   "metadata": {},
   "outputs": [],
   "source": [
    "feature_df = gender_f1.join(level_f2, [\"userId\"]).join(song_f3, [\"userId\"]).join(rollad_f4, [\"userId\"]).join(thumbdown_f5, [\"userId\"]).join(thumbup_f6, [\"userId\"]).join(friend_f7, [\"userId\"]).join(playlist_f8, [\"userId\"]).join(artists_f9, [\"userId\"]).join(days_f10, [\"userId\"]).join(label, [\"userId\"])"
   ]
  },
  {
   "cell_type": "code",
   "execution_count": 184,
   "metadata": {},
   "outputs": [
    {
     "name": "stderr",
     "output_type": "stream",
     "text": [
      "                                                                                \r"
     ]
    },
    {
     "name": "stdout",
     "output_type": "stream",
     "text": [
      "+------+------+-----+------------------+-------+-----------+---------+----------+--------+-----------+------------------+-----+\n",
      "|userId|gender|level|          avg_song|roll_ad|thumbs_down|thumbs_up|add_friend|playlist|num_artists|              days|label|\n",
      "+------+------+-----+------------------+-------+-----------+---------+----------+--------+-----------+------------------+-----+\n",
      "|    10|     0|    1|112.16666666666667|      1|          4|       37|        12|       9|        566| 51.76265046296297|    0|\n",
      "|   100|     0|    1| 78.88235294117646|     25|         27|      148|        49|      61|       1706| 64.87377314814815|    0|\n",
      "|100001|     1|    0|             33.25|     14|          2|        8|         2|       3|        126| 44.80021990740741|    1|\n",
      "|100002|     1|    1|             48.75|      3|          0|        5|         1|       5|        185|160.47207175925925|    0|\n",
      "|100003|     1|    0|              25.5|      9|          0|        3|         0|       2|         51|22.748113425925926|    1|\n",
      "|100004|     1|    1|              47.1|     86|         11|       35|        19|      23|        734|172.44008101851853|    0|\n",
      "|100005|     0|    0|              38.5|     18|          3|        7|         3|       3|        150| 85.19559027777778|    1|\n",
      "|100006|     1|    0|              26.0|      3|          2|        2|         4|       1|         27| 9.127164351851851|    1|\n",
      "|100007|     1|    1|              47.0|      5|          6|       19|        17|       9|        358|115.38761574074074|    1|\n",
      "|100008|     1|    0|128.66666666666666|     20|          6|       37|        17|      30|        624| 68.22856481481482|    0|\n",
      "|100009|     0|    0|              51.8|     42|          8|       23|         7|      12|        443| 37.43827546296296|    1|\n",
      "|100010|     1|    0|39.285714285714285|     52|          5|       17|         4|       7|        253|  55.6436574074074|    0|\n",
      "|100011|     0|    0|              11.0|      2|          1|        0|         0|       2|         12| 5.165115740740741|    1|\n",
      "|100012|     0|    0| 79.33333333333333|     38|          9|       18|         2|      12|        398| 43.05261574074074|    1|\n",
      "|100013|     1|    1|              87.0|     39|         15|       39|        28|      31|        827| 44.17873842592593|    1|\n",
      "|100014|     0|    1|42.833333333333336|      2|          3|       17|         6|       7|        234| 85.08340277777778|    1|\n",
      "|100015|     1|    1| 66.66666666666667|     69|          8|       35|        14|      22|        628| 67.87921296296297|    1|\n",
      "|100016|     0|    0|             66.25|     16|          5|       25|        13|       6|        432| 75.01533564814815|    0|\n",
      "|100017|     0|    0|              52.0|     14|          1|        2|         0|       1|         52| 78.88440972222223|    1|\n",
      "|100018|     0|    0|              50.1|     80|          9|       46|        23|      31|        781|110.71211805555555|    0|\n",
      "+------+------+-----+------------------+-------+-----------+---------+----------+--------+-----------+------------------+-----+\n",
      "only showing top 20 rows\n",
      "\n"
     ]
    }
   ],
   "source": [
    "feature_df.show()"
   ]
  },
  {
   "cell_type": "markdown",
   "metadata": {},
   "source": [
    "Now we can drop the userId."
   ]
  },
  {
   "cell_type": "code",
   "execution_count": 185,
   "metadata": {},
   "outputs": [],
   "source": [
    "feature_df = feature_df.drop('userId')"
   ]
  },
  {
   "cell_type": "code",
   "execution_count": 186,
   "metadata": {},
   "outputs": [
    {
     "name": "stderr",
     "output_type": "stream",
     "text": [
      "                                                                                \r"
     ]
    },
    {
     "name": "stdout",
     "output_type": "stream",
     "text": [
      "+------+-----+------------------+-------+-----------+---------+----------+--------+-----------+------------------+-----+\n",
      "|gender|level|          avg_song|roll_ad|thumbs_down|thumbs_up|add_friend|playlist|num_artists|              days|label|\n",
      "+------+-----+------------------+-------+-----------+---------+----------+--------+-----------+------------------+-----+\n",
      "|     0|    1|112.16666666666667|      1|          4|       37|        12|       9|        566| 51.76265046296297|    0|\n",
      "|     0|    1| 78.88235294117646|     25|         27|      148|        49|      61|       1706| 64.87377314814815|    0|\n",
      "|     1|    0|             33.25|     14|          2|        8|         2|       3|        126| 44.80021990740741|    1|\n",
      "|     1|    1|             48.75|      3|          0|        5|         1|       5|        185|160.47207175925925|    0|\n",
      "|     1|    0|              25.5|      9|          0|        3|         0|       2|         51|22.748113425925926|    1|\n",
      "|     1|    1|              47.1|     86|         11|       35|        19|      23|        734|172.44008101851853|    0|\n",
      "|     0|    0|              38.5|     18|          3|        7|         3|       3|        150| 85.19559027777778|    1|\n",
      "|     1|    0|              26.0|      3|          2|        2|         4|       1|         27| 9.127164351851851|    1|\n",
      "|     1|    1|              47.0|      5|          6|       19|        17|       9|        358|115.38761574074074|    1|\n",
      "|     1|    0|128.66666666666666|     20|          6|       37|        17|      30|        624| 68.22856481481482|    0|\n",
      "|     0|    0|              51.8|     42|          8|       23|         7|      12|        443| 37.43827546296296|    1|\n",
      "|     1|    0|39.285714285714285|     52|          5|       17|         4|       7|        253|  55.6436574074074|    0|\n",
      "|     0|    0|              11.0|      2|          1|        0|         0|       2|         12| 5.165115740740741|    1|\n",
      "|     0|    0| 79.33333333333333|     38|          9|       18|         2|      12|        398| 43.05261574074074|    1|\n",
      "|     1|    1|              87.0|     39|         15|       39|        28|      31|        827| 44.17873842592593|    1|\n",
      "|     0|    1|42.833333333333336|      2|          3|       17|         6|       7|        234| 85.08340277777778|    1|\n",
      "|     1|    1| 66.66666666666667|     69|          8|       35|        14|      22|        628| 67.87921296296297|    1|\n",
      "|     0|    0|             66.25|     16|          5|       25|        13|       6|        432| 75.01533564814815|    0|\n",
      "|     0|    0|              52.0|     14|          1|        2|         0|       1|         52| 78.88440972222223|    1|\n",
      "|     0|    0|              50.1|     80|          9|       46|        23|      31|        781|110.71211805555555|    0|\n",
      "+------+-----+------------------+-------+-----------+---------+----------+--------+-----------+------------------+-----+\n",
      "only showing top 20 rows\n",
      "\n"
     ]
    }
   ],
   "source": [
    "feature_df.show()"
   ]
  },
  {
   "cell_type": "markdown",
   "metadata": {},
   "source": [
    "Now we have a dataframe with all the features we can into our model where each row represents a user.However first we need to do some preprocessing."
   ]
  },
  {
   "cell_type": "markdown",
   "metadata": {},
   "source": [
    "## Preprocessing"
   ]
  },
  {
   "cell_type": "code",
   "execution_count": 187,
   "metadata": {},
   "outputs": [
    {
     "name": "stdout",
     "output_type": "stream",
     "text": [
      "root\n",
      " |-- gender: integer (nullable = false)\n",
      " |-- level: integer (nullable = false)\n",
      " |-- avg_song: double (nullable = true)\n",
      " |-- roll_ad: long (nullable = true)\n",
      " |-- thumbs_down: long (nullable = true)\n",
      " |-- thumbs_up: long (nullable = true)\n",
      " |-- add_friend: long (nullable = true)\n",
      " |-- playlist: long (nullable = true)\n",
      " |-- num_artists: long (nullable = false)\n",
      " |-- days: double (nullable = true)\n",
      " |-- label: long (nullable = true)\n",
      "\n"
     ]
    }
   ],
   "source": [
    "# print schema\n",
    "feature_df.printSchema()"
   ]
  },
  {
   "cell_type": "markdown",
   "metadata": {},
   "source": [
    "Now we need to take these columns and convert them into the numerical datatypes that will be used in our model: integers and floats. To adhere to DRY (Don't Repeat Yourself) principles, we can write a function for this purpose"
   ]
  },
  {
   "cell_type": "code",
   "execution_count": 188,
   "metadata": {},
   "outputs": [],
   "source": [
    "# Loop through each column in feature_df\n",
    "for feature in feature_df.columns:\n",
    "    # Cast the column to float data type\n",
    "    feature_df = feature_df.withColumn(feature, col(feature).cast('float'))"
   ]
  },
  {
   "cell_type": "code",
   "execution_count": 189,
   "metadata": {},
   "outputs": [
    {
     "name": "stdout",
     "output_type": "stream",
     "text": [
      "root\n",
      " |-- gender: float (nullable = false)\n",
      " |-- level: float (nullable = false)\n",
      " |-- avg_song: float (nullable = true)\n",
      " |-- roll_ad: float (nullable = true)\n",
      " |-- thumbs_down: float (nullable = true)\n",
      " |-- thumbs_up: float (nullable = true)\n",
      " |-- add_friend: float (nullable = true)\n",
      " |-- playlist: float (nullable = true)\n",
      " |-- num_artists: float (nullable = false)\n",
      " |-- days: float (nullable = true)\n",
      " |-- label: float (nullable = true)\n",
      "\n"
     ]
    }
   ],
   "source": [
    "#check this works\n",
    "feature_df.printSchema()"
   ]
  },
  {
   "cell_type": "markdown",
   "metadata": {},
   "source": [
    "The next stage of preprocessing is to vectorise our features."
   ]
  },
  {
   "cell_type": "markdown",
   "metadata": {},
   "source": [
    "### Vector Assembler"
   ]
  },
  {
   "cell_type": "markdown",
   "metadata": {},
   "source": [
    "The purpose of vector assembler is to tranform our features into a vector. The vector can then be standardised and fed into our chosen algorithms."
   ]
  },
  {
   "cell_type": "code",
   "execution_count": 190,
   "metadata": {},
   "outputs": [],
   "source": [
    "# Create a VectorAssembler with specified input and output columns\n",
    "assembler = VectorAssembler(\n",
    "    inputCols=[\"gender\", \"level\", \"avg_song\", \"roll_ad\", \"thumbs_down\", \"thumbs_up\", \"add_friend\", \"playlist\", \"num_artists\", \"days\"],\n",
    "    outputCol=\"vec_features\"\n",
    ")"
   ]
  },
  {
   "cell_type": "code",
   "execution_count": 191,
   "metadata": {},
   "outputs": [],
   "source": [
    "feature_df = assembler.transform(feature_df)"
   ]
  },
  {
   "cell_type": "code",
   "execution_count": 192,
   "metadata": {},
   "outputs": [
    {
     "name": "stderr",
     "output_type": "stream",
     "text": [
      "                                                                                \r"
     ]
    },
    {
     "name": "stdout",
     "output_type": "stream",
     "text": [
      "+------+-----+----------+-------+-----------+---------+----------+--------+-----------+---------+-----+--------------------+\n",
      "|gender|level|  avg_song|roll_ad|thumbs_down|thumbs_up|add_friend|playlist|num_artists|     days|label|        vec_features|\n",
      "+------+-----+----------+-------+-----------+---------+----------+--------+-----------+---------+-----+--------------------+\n",
      "|   0.0|  1.0|112.166664|    1.0|        4.0|     37.0|      12.0|     9.0|      566.0| 51.76265|  0.0|[0.0,1.0,112.1666...|\n",
      "|   0.0|  1.0| 78.882355|   25.0|       27.0|    148.0|      49.0|    61.0|     1706.0| 64.87377|  0.0|[0.0,1.0,78.88235...|\n",
      "|   1.0|  0.0|     33.25|   14.0|        2.0|      8.0|       2.0|     3.0|      126.0| 44.80022|  1.0|[1.0,0.0,33.25,14...|\n",
      "|   1.0|  1.0|     48.75|    3.0|        0.0|      5.0|       1.0|     5.0|      185.0|160.47208|  0.0|[1.0,1.0,48.75,3....|\n",
      "|   1.0|  0.0|      25.5|    9.0|        0.0|      3.0|       0.0|     2.0|       51.0|22.748114|  1.0|[1.0,0.0,25.5,9.0...|\n",
      "|   1.0|  1.0|      47.1|   86.0|       11.0|     35.0|      19.0|    23.0|      734.0|172.44008|  0.0|[1.0,1.0,47.09999...|\n",
      "|   0.0|  0.0|      38.5|   18.0|        3.0|      7.0|       3.0|     3.0|      150.0| 85.19559|  1.0|[0.0,0.0,38.5,18....|\n",
      "|   1.0|  0.0|      26.0|    3.0|        2.0|      2.0|       4.0|     1.0|       27.0| 9.127164|  1.0|[1.0,0.0,26.0,3.0...|\n",
      "|   1.0|  1.0|      47.0|    5.0|        6.0|     19.0|      17.0|     9.0|      358.0|115.38762|  1.0|[1.0,1.0,47.0,5.0...|\n",
      "|   1.0|  0.0| 128.66667|   20.0|        6.0|     37.0|      17.0|    30.0|      624.0| 68.22856|  0.0|[1.0,0.0,128.6666...|\n",
      "|   0.0|  0.0|      51.8|   42.0|        8.0|     23.0|       7.0|    12.0|      443.0|37.438274|  1.0|[0.0,0.0,51.79999...|\n",
      "|   1.0|  0.0| 39.285713|   52.0|        5.0|     17.0|       4.0|     7.0|      253.0|55.643658|  0.0|[1.0,0.0,39.28571...|\n",
      "|   0.0|  0.0|      11.0|    2.0|        1.0|      0.0|       0.0|     2.0|       12.0| 5.165116|  1.0|[0.0,0.0,11.0,2.0...|\n",
      "|   0.0|  0.0| 79.333336|   38.0|        9.0|     18.0|       2.0|    12.0|      398.0|43.052616|  1.0|[0.0,0.0,79.33333...|\n",
      "|   1.0|  1.0|      87.0|   39.0|       15.0|     39.0|      28.0|    31.0|      827.0|44.178738|  1.0|[1.0,1.0,87.0,39....|\n",
      "|   0.0|  1.0| 42.833332|    2.0|        3.0|     17.0|       6.0|     7.0|      234.0|85.083405|  1.0|[0.0,1.0,42.83333...|\n",
      "|   1.0|  1.0| 66.666664|   69.0|        8.0|     35.0|      14.0|    22.0|      628.0| 67.87921|  1.0|[1.0,1.0,66.66666...|\n",
      "|   0.0|  0.0|     66.25|   16.0|        5.0|     25.0|      13.0|     6.0|      432.0|75.015335|  0.0|[0.0,0.0,66.25,16...|\n",
      "|   0.0|  0.0|      52.0|   14.0|        1.0|      2.0|       0.0|     1.0|       52.0| 78.88441|  1.0|[0.0,0.0,52.0,14....|\n",
      "|   0.0|  0.0|      50.1|   80.0|        9.0|     46.0|      23.0|    31.0|      781.0|110.71212|  0.0|[0.0,0.0,50.09999...|\n",
      "+------+-----+----------+-------+-----------+---------+----------+--------+-----------+---------+-----+--------------------+\n",
      "only showing top 20 rows\n",
      "\n"
     ]
    }
   ],
   "source": [
    "feature_df.show()"
   ]
  },
  {
   "cell_type": "markdown",
   "metadata": {},
   "source": [
    "### Standardisation"
   ]
  },
  {
   "cell_type": "markdown",
   "metadata": {},
   "source": [
    "Now that we have our vectors we can standardise our values. This is important for our machine learning model so that those features with the highest values don't dominate the results and so that we can make the individual features look like standard normally distributed data."
   ]
  },
  {
   "cell_type": "code",
   "execution_count": 193,
   "metadata": {},
   "outputs": [],
   "source": [
    "# Create a StandardScaler with specified input and output columns\n",
    "scaler = StandardScaler(inputCol=\"vec_features\", outputCol=\"features\", withStd=True)"
   ]
  },
  {
   "cell_type": "code",
   "execution_count": 194,
   "metadata": {},
   "outputs": [
    {
     "name": "stderr",
     "output_type": "stream",
     "text": [
      "                                                                                \r"
     ]
    }
   ],
   "source": [
    "scaler_model = scaler.fit(feature_df)"
   ]
  },
  {
   "cell_type": "code",
   "execution_count": 195,
   "metadata": {},
   "outputs": [],
   "source": [
    "feature_df = scaler_model.transform(feature_df)"
   ]
  },
  {
   "cell_type": "code",
   "execution_count": 196,
   "metadata": {},
   "outputs": [
    {
     "name": "stderr",
     "output_type": "stream",
     "text": [
      "                                                                                \r"
     ]
    },
    {
     "data": {
      "text/plain": [
       "[Row(gender=0.0, level=1.0, avg_song=112.16666412353516, roll_ad=1.0, thumbs_down=4.0, thumbs_up=37.0, add_friend=12.0, playlist=9.0, num_artists=566.0, days=51.76264953613281, label=0.0, vec_features=DenseVector([0.0, 1.0, 112.1667, 1.0, 4.0, 37.0, 12.0, 9.0, 566.0, 51.7626]), features=DenseVector([0.0, 2.0844, 2.6321, 0.0464, 0.3059, 0.5651, 0.583, 0.2751, 0.9372, 1.3744])),\n",
       " Row(gender=0.0, level=1.0, avg_song=78.88235473632812, roll_ad=25.0, thumbs_down=27.0, thumbs_up=148.0, add_friend=49.0, playlist=61.0, num_artists=1706.0, days=64.87377166748047, label=0.0, vec_features=DenseVector([0.0, 1.0, 78.8824, 25.0, 27.0, 148.0, 49.0, 61.0, 1706.0, 64.8738]), features=DenseVector([0.0, 2.0844, 1.851, 1.1601, 2.0646, 2.2603, 2.3808, 1.8645, 2.8247, 1.7226]))]"
      ]
     },
     "execution_count": 196,
     "metadata": {},
     "output_type": "execute_result"
    }
   ],
   "source": [
    "feature_df.head(2)"
   ]
  },
  {
   "cell_type": "markdown",
   "metadata": {},
   "source": [
    "We can observe that standardization has been successfully applied:\n",
    "\n",
    "- Original `vec_features`: `[0.0, 1.0, 64.5, 7.0, 6.0, 21.0, 4.0, 8.0, 340.0, 70.0746]`\n",
    "- Scaled `features`: `[0.0, 2.0844, 1.5135, 0.3248, 0.4588, 0.3207, 0.1943, 0.2445, 0.563, 1.8606]`\n"
   ]
  },
  {
   "cell_type": "markdown",
   "metadata": {},
   "source": [
    "## Train / Test / Validation Split"
   ]
  },
  {
   "cell_type": "markdown",
   "metadata": {},
   "source": [
    "Let's check how many records we have in total is 225 as it should be."
   ]
  },
  {
   "cell_type": "code",
   "execution_count": 197,
   "metadata": {},
   "outputs": [
    {
     "name": "stderr",
     "output_type": "stream",
     "text": [
      "                                                                                \r"
     ]
    },
    {
     "name": "stdout",
     "output_type": "stream",
     "text": [
      "+-----+-----+\n",
      "|label|count|\n",
      "+-----+-----+\n",
      "|  1.0|   52|\n",
      "|  0.0|  173|\n",
      "+-----+-----+\n",
      "\n"
     ]
    }
   ],
   "source": [
    "feature_df.groupby('label').count().show()"
   ]
  },
  {
   "cell_type": "markdown",
   "metadata": {},
   "source": [
    "This count is what we would expect, now we can split our data into train, test and validation sets. Here we will do a 60:20:20 split and include a seed so we can reproduce the result. I've included the same seed for the different machine learning models so that my results can be reproduced."
   ]
  },
  {
   "cell_type": "code",
   "execution_count": 198,
   "metadata": {},
   "outputs": [
    {
     "name": "stderr",
     "output_type": "stream",
     "text": [
      "                                                                                \r"
     ]
    },
    {
     "name": "stdout",
     "output_type": "stream",
     "text": [
      "Training Dataset: 133\n"
     ]
    },
    {
     "name": "stderr",
     "output_type": "stream",
     "text": [
      "                                                                                \r"
     ]
    },
    {
     "name": "stdout",
     "output_type": "stream",
     "text": [
      "Test Dataset: 42\n"
     ]
    },
    {
     "name": "stderr",
     "output_type": "stream",
     "text": [
      "                                                                                \r"
     ]
    },
    {
     "name": "stdout",
     "output_type": "stream",
     "text": [
      "Validation Dataset: 50\n"
     ]
    }
   ],
   "source": [
    "# Split the dataset into training, testing, and validation sets\n",
    "train, test, valid = feature_df.randomSplit([0.6, 0.2, 0.2], seed=1996)\n",
    "\n",
    "# Print the counts for each dataset\n",
    "print(\"Training Dataset:\", train.count())\n",
    "print(\"Test Dataset:\", test.count())\n",
    "print(\"Validation Dataset:\", valid.count())"
   ]
  },
  {
   "cell_type": "markdown",
   "metadata": {},
   "source": [
    "# Modelling\n",
    "\n",
    "Now that we have created our features DataFrame with only numeric variables, we can split the full dataset into train, test, and validation sets. We will test out different machine learning classification algorithms including:\n",
    "\n",
    "- Logistic Regression\n",
    "- Random Forest Classifier\n",
    "- Gradient-Boosted Tree Classifier\n",
    "- Linear Support Vector Machine\n",
    "- Naive Bayes\n",
    "\n",
    "We will use these classification algorithms since churn prediction is a binary classification problem, meaning that customers will either churn (1) or they will stay (0) in a certain period of time.\n",
    "\n",
    "### Metrics\n",
    "\n",
    "We will evaluate the accuracy of the various models, tuning parameters as necessary. We will finally determine our winning model based on test accuracy and report results on the validation set. Since the churned users are a fairly small subset, I will use F1 score as the metric to optimize. \n",
    "\n",
    "F1 is a measure of the model's accuracy on a dataset and is used to evaluate binary classification systems like we have here. F1-score is a way of combining the precision and recall of the model and gives a better measure of the incorrectly classified cases than accuracy metric. F1 is also better for dealing with imbalanced classes like we have here.\n"
   ]
  },
  {
   "cell_type": "markdown",
   "metadata": {},
   "source": [
    "Now we can start modelling. When we identify the model with the best F1 score, accuracy and time we will then tune the model."
   ]
  },
  {
   "cell_type": "markdown",
   "metadata": {},
   "source": [
    "### Training the Models & Evaluating the Model Performance\n",
    "Steps:\n",
    " - Instantiate \n",
    " - Fit Models on Train\n",
    " - Predicting\n",
    " - Evaluating\n"
   ]
  },
  {
   "cell_type": "code",
   "execution_count": 199,
   "metadata": {},
   "outputs": [],
   "source": [
    "# Model Instantiation\n",
    "\n",
    "# Logistic Regression\n",
    "lr = LogisticRegression(featuresCol='features', labelCol='label', maxIter=10)\n",
    "\n",
    "# Random Forest Classifier\n",
    "rf = RandomForestClassifier(featuresCol='features', labelCol='label', seed=1996)\n",
    "\n",
    "# Gradient-Boosted Tree Classifier\n",
    "gbt = GBTClassifier(featuresCol='features', labelCol='label', maxIter=10, seed=1996)\n",
    "\n",
    "# Linear Support Vector Machine\n",
    "lsvc = LinearSVC(featuresCol='features', labelCol='label')\n",
    "\n",
    "# Naive Bayes\n",
    "nb = NaiveBayes(featuresCol='features', labelCol='label')"
   ]
  },
  {
   "cell_type": "code",
   "execution_count": 200,
   "metadata": {},
   "outputs": [],
   "source": [
    "# List of Models\n",
    "model_list = [lr, rf, gbt, lsvc, nb]"
   ]
  },
  {
   "cell_type": "code",
   "execution_count": 201,
   "metadata": {},
   "outputs": [],
   "source": [
    "# Evaluator\n",
    "evaluator = MulticlassClassificationEvaluator(labelCol='label', predictionCol='prediction')"
   ]
  },
  {
   "cell_type": "code",
   "execution_count": 202,
   "metadata": {},
   "outputs": [
    {
     "name": "stdout",
     "output_type": "stream",
     "text": [
      "LogisticRegression training started\n"
     ]
    },
    {
     "name": "stderr",
     "output_type": "stream",
     "text": [
      "23/09/22 21:11:34 WARN InstanceBuilder: Failed to load implementation from:dev.ludovic.netlib.blas.JNIBLAS\n",
      "                                                                                \r"
     ]
    },
    {
     "name": "stdout",
     "output_type": "stream",
     "text": [
      "LogisticRegression training ended\n",
      "Time taken for LogisticRegression is: 35.766321897506714 seconds\n",
      "LogisticRegression predicting started\n",
      "LogisticRegression predicting ended\n"
     ]
    },
    {
     "name": "stderr",
     "output_type": "stream",
     "text": [
      "                                                                                \r"
     ]
    },
    {
     "name": "stdout",
     "output_type": "stream",
     "text": [
      "F1 for LogisticRegression is: 0.8075\n"
     ]
    },
    {
     "name": "stderr",
     "output_type": "stream",
     "text": [
      "                                                                                \r"
     ]
    },
    {
     "name": "stdout",
     "output_type": "stream",
     "text": [
      "The accuracy of the LogisticRegression model is: 0.8\n",
      "RandomForestClassifier training started\n"
     ]
    },
    {
     "name": "stderr",
     "output_type": "stream",
     "text": [
      "                                                                                \r"
     ]
    },
    {
     "name": "stdout",
     "output_type": "stream",
     "text": [
      "RandomForestClassifier training ended\n",
      "Time taken for RandomForestClassifier is: 41.3046190738678 seconds\n",
      "RandomForestClassifier predicting started\n",
      "RandomForestClassifier predicting ended\n"
     ]
    },
    {
     "name": "stderr",
     "output_type": "stream",
     "text": [
      "                                                                                \r"
     ]
    },
    {
     "name": "stdout",
     "output_type": "stream",
     "text": [
      "F1 for RandomForestClassifier is: 0.8319047619047617\n"
     ]
    },
    {
     "name": "stderr",
     "output_type": "stream",
     "text": [
      "                                                                                \r"
     ]
    },
    {
     "name": "stdout",
     "output_type": "stream",
     "text": [
      "The accuracy of the RandomForestClassifier model is: 0.84\n",
      "GBTClassifier training started\n"
     ]
    },
    {
     "name": "stderr",
     "output_type": "stream",
     "text": [
      "                                                                                \r"
     ]
    },
    {
     "name": "stdout",
     "output_type": "stream",
     "text": [
      "GBTClassifier training ended\n",
      "Time taken for GBTClassifier is: 18.934036016464233 seconds\n",
      "GBTClassifier predicting started\n",
      "GBTClassifier predicting ended\n"
     ]
    },
    {
     "name": "stderr",
     "output_type": "stream",
     "text": [
      "                                                                                \r"
     ]
    },
    {
     "name": "stdout",
     "output_type": "stream",
     "text": [
      "F1 for GBTClassifier is: 0.8075\n"
     ]
    },
    {
     "name": "stderr",
     "output_type": "stream",
     "text": [
      "                                                                                \r"
     ]
    },
    {
     "name": "stdout",
     "output_type": "stream",
     "text": [
      "The accuracy of the GBTClassifier model is: 0.8\n",
      "LinearSVC training started\n"
     ]
    },
    {
     "name": "stderr",
     "output_type": "stream",
     "text": [
      "                                                                                \r"
     ]
    },
    {
     "name": "stdout",
     "output_type": "stream",
     "text": [
      "LinearSVC training ended\n",
      "Time taken for LinearSVC is: 42.326855182647705 seconds\n",
      "LinearSVC predicting started\n",
      "LinearSVC predicting ended\n"
     ]
    },
    {
     "name": "stderr",
     "output_type": "stream",
     "text": [
      "                                                                                \r"
     ]
    },
    {
     "name": "stdout",
     "output_type": "stream",
     "text": [
      "F1 for LinearSVC is: 0.8294394213381556\n"
     ]
    },
    {
     "name": "stderr",
     "output_type": "stream",
     "text": [
      "                                                                                \r"
     ]
    },
    {
     "name": "stdout",
     "output_type": "stream",
     "text": [
      "The accuracy of the LinearSVC model is: 0.82\n",
      "NaiveBayes training started\n"
     ]
    },
    {
     "name": "stderr",
     "output_type": "stream",
     "text": [
      "                                                                                \r"
     ]
    },
    {
     "name": "stdout",
     "output_type": "stream",
     "text": [
      "NaiveBayes training ended\n",
      "Time taken for NaiveBayes is: 16.405883073806763 seconds\n",
      "NaiveBayes predicting started\n",
      "NaiveBayes predicting ended\n"
     ]
    },
    {
     "name": "stderr",
     "output_type": "stream",
     "text": [
      "                                                                                \r"
     ]
    },
    {
     "name": "stdout",
     "output_type": "stream",
     "text": [
      "F1 for NaiveBayes is: 0.7186516853932585\n"
     ]
    },
    {
     "name": "stderr",
     "output_type": "stream",
     "text": [
      "                                                                                \r"
     ]
    },
    {
     "name": "stdout",
     "output_type": "stream",
     "text": [
      "The accuracy of the NaiveBayes model is: 0.78\n"
     ]
    }
   ],
   "source": [
    "# Model Training and Evaluation Loop\n",
    "for model in model_list:\n",
    "    model_name = model.__class__.__name__\n",
    "    \n",
    "    print(model_name, 'training started')\n",
    "    \n",
    "    start = time.time()\n",
    "    model = model.fit(train)\n",
    "    end = time.time()\n",
    "    \n",
    "    print(model_name, 'training ended')\n",
    "    print('Time taken for {} is:'.format(model_name),(end-start),'seconds')\n",
    "    \n",
    "    print(model_name, 'predicting started')\n",
    "    predictions = model.transform(valid)\n",
    "    print(model_name, 'predicting ended')\n",
    "    \n",
    "    print('F1 for {} is:'.format(model_name), evaluator.evaluate(predictions, {evaluator.metricName: \"f1\"}))\n",
    "    accuracy = predictions.filter(predictions.label == predictions.prediction).count() / (predictions.count())\n",
    "    print(\"The accuracy of the {} model is:\".format(model_name), accuracy)"
   ]
  },
  {
   "cell_type": "markdown",
   "metadata": {},
   "source": [
    "Now that we have our results we can choose our best model. Random Forest and Gradient Boosted Trees performed well but random forest was faster so I will choose this one to tune. "
   ]
  },
  {
   "cell_type": "markdown",
   "metadata": {},
   "source": [
    "## Model Tuning for Best Models:"
   ]
  },
  {
   "cell_type": "markdown",
   "metadata": {},
   "source": [
    "### Random Forest"
   ]
  },
  {
   "cell_type": "markdown",
   "metadata": {},
   "source": [
    "### Best Model Performance Results:"
   ]
  },
  {
   "cell_type": "markdown",
   "metadata": {},
   "source": [
    "## Parameters\n",
    "\n",
    "For tuning our Random Forest model, I focused on `numTrees` and `maxDepth`:\n",
    "\n",
    "- **NumTrees**: I explored values from 20, 50, to 100 to strike a balance between performance and avoiding overfitting. Ensembles like Random Forest benefit from more trees, up to a point.\n",
    "\n",
    "- **MaxDepth**: I limited the depth to 5, 10, and 15 to control the complexity of individual trees and mitigate overfitting. A deeper tree can potentially capture more complex relationships but may lead to overfitting.\n",
    "\n",
    "- **NumFolds**: Initially set to 5 for robust cross-validation, I adjusted it to 3 to expedite the process. This is a trade-off between thorough evaluation and computational efficiency."
   ]
  },
  {
   "cell_type": "code",
   "execution_count": 205,
   "metadata": {},
   "outputs": [],
   "source": [
    "# Parameter Grid\n",
    "paramGrid = ParamGridBuilder() \\\n",
    "    .addGrid(rf.numTrees,[20, 50, 100]) \\\n",
    "    .addGrid(rf.maxDepth,[5, 10, 15]) \\\n",
    "    .build()\n",
    "\n",
    "# Cross-Validation\n",
    "crossval = CrossValidator(estimator=rf,\n",
    "                          estimatorParamMaps=paramGrid,\n",
    "                          evaluator=MulticlassClassificationEvaluator(metricName = \"f1\"),\n",
    "                          numFolds=3)"
   ]
  },
  {
   "cell_type": "code",
   "execution_count": 206,
   "metadata": {},
   "outputs": [
    {
     "name": "stderr",
     "output_type": "stream",
     "text": [
      "                                                                                ]]\r"
     ]
    },
    {
     "name": "stdout",
     "output_type": "stream",
     "text": [
      "CPU times: user 6.68 s, sys: 3.21 s, total: 9.88 s\n",
      "Wall time: 8min 39s\n"
     ]
    }
   ],
   "source": [
    "%%time\n",
    "cvModel = crossval.fit(train)"
   ]
  },
  {
   "cell_type": "code",
   "execution_count": 207,
   "metadata": {},
   "outputs": [
    {
     "data": {
      "text/plain": [
       "[0.7917010619114406,\n",
       " 0.7813463409933394,\n",
       " 0.7813463409933394,\n",
       " 0.7962844654770119,\n",
       " 0.783049171359365,\n",
       " 0.783049171359365,\n",
       " 0.7849097018448408,\n",
       " 0.7849097018448408,\n",
       " 0.7849097018448408]"
      ]
     },
     "execution_count": 207,
     "metadata": {},
     "output_type": "execute_result"
    }
   ],
   "source": [
    "cvModel.avgMetrics"
   ]
  },
  {
   "cell_type": "markdown",
   "metadata": {},
   "source": [
    "We can now get the final results for our random forest model."
   ]
  },
  {
   "cell_type": "code",
   "execution_count": 208,
   "metadata": {},
   "outputs": [],
   "source": [
    "results = cvModel.transform(valid)"
   ]
  },
  {
   "cell_type": "code",
   "execution_count": 209,
   "metadata": {},
   "outputs": [
    {
     "name": "stderr",
     "output_type": "stream",
     "text": [
      "                                                                                \r"
     ]
    }
   ],
   "source": [
    "accuracy = results.filter(results.label == results.prediction).count() / (results.count())"
   ]
  },
  {
   "cell_type": "code",
   "execution_count": 210,
   "metadata": {},
   "outputs": [],
   "source": [
    "best_model = cvModel.bestModel"
   ]
  },
  {
   "cell_type": "code",
   "execution_count": 211,
   "metadata": {},
   "outputs": [
    {
     "name": "stdout",
     "output_type": "stream",
     "text": [
      "Best Param (numTrees):  50\n",
      "Best Param (MaxDepth):  5\n"
     ]
    }
   ],
   "source": [
    "print (\"Best Param (numTrees): \", best_model._java_obj.getNumTrees())\n",
    "print (\"Best Param (MaxDepth): \", best_model._java_obj.getMaxDepth())"
   ]
  },
  {
   "cell_type": "code",
   "execution_count": 212,
   "metadata": {},
   "outputs": [
    {
     "name": "stderr",
     "output_type": "stream",
     "text": [
      "                                                                                \r"
     ]
    },
    {
     "name": "stdout",
     "output_type": "stream",
     "text": [
      "F1 for our best model is: 0.7186516853932585\n"
     ]
    }
   ],
   "source": [
    "print('F1 for our best model is:', evaluator.evaluate(predictions, {evaluator.metricName: \"f1\"}))"
   ]
  },
  {
   "cell_type": "code",
   "execution_count": 213,
   "metadata": {},
   "outputs": [
    {
     "name": "stderr",
     "output_type": "stream",
     "text": [
      "                                                                                \r"
     ]
    },
    {
     "name": "stdout",
     "output_type": "stream",
     "text": [
      "Accuracy for our best model is: 0.78\n"
     ]
    }
   ],
   "source": [
    "print('Accuracy for our best model is:', evaluator.evaluate(predictions, {evaluator.metricName: \"accuracy\"}))"
   ]
  },
  {
   "cell_type": "markdown",
   "metadata": {},
   "source": [
    "## Model Evaluation\n",
    "\n",
    "After training and fine-tuning our Random Forest model using cross-validation, we achieved an F1 score of 0.78 and an accuracy of 78%.\n",
    "\n",
    "The accuracy measures the proportion of correctly predicted data points out of all predictions made. In this case, we have 78 correct predictions out of 100 total predictions.\n",
    "\n",
    "To get a more detailed understanding of the model's performance, we can use a confusion matrix:\n"
   ]
  },
  {
   "cell_type": "markdown",
   "metadata": {},
   "source": [
    "#### Feature Importance:"
   ]
  },
  {
   "cell_type": "markdown",
   "metadata": {},
   "source": [
    "Finally, we can check the feature importance for our best model and plot this in a chart."
   ]
  },
  {
   "cell_type": "code",
   "execution_count": 214,
   "metadata": {},
   "outputs": [],
   "source": [
    "importances = best_model.featureImportances"
   ]
  },
  {
   "cell_type": "code",
   "execution_count": 215,
   "metadata": {},
   "outputs": [],
   "source": [
    "x_values = list(range(len(importances)))"
   ]
  },
  {
   "cell_type": "code",
   "execution_count": 216,
   "metadata": {},
   "outputs": [],
   "source": [
    "feature_list = list([\"gender\", \"level\", \"avg_song\", \"roll_ad\", \"thumbs_down\", \"thumbs_up\", \"add_friend\", \"playlist\", \"num_artists\", \"days\"])"
   ]
  },
  {
   "cell_type": "code",
   "execution_count": 217,
   "metadata": {},
   "outputs": [
    {
     "data": {
      "text/plain": [
       "Text(0.5, 1.0, 'Feature Importances')"
      ]
     },
     "execution_count": 217,
     "metadata": {},
     "output_type": "execute_result"
    },
    {
     "data": {
      "image/png": "[encoded data removed]",
      "text/plain": [
       "<Figure size 800x600 with 1 Axes>"
      ]
     },
     "metadata": {},
     "output_type": "display_data"
    }
   ],
   "source": [
    "plt.figure(figsize=[8,6])\n",
    "plt.bar(x_values, importances, orientation='vertical')\n",
    "plt.xticks(x_values, feature_list, rotation=40)\n",
    "plt.ylabel('Importance')\n",
    "plt.xlabel('Feature')\n",
    "plt.title('Feature Importances')"
   ]
  },
  {
   "cell_type": "markdown",
   "metadata": {},
   "source": [
    "Here we can see that the feature with the highest importance was days since registered. Gender and level were the least important features."
   ]
  },
  {
   "cell_type": "markdown",
   "metadata": {},
   "source": [
    "# Conclusion\n",
    "\n",
    "Throughout this project, we undertook a detailed analysis of Sparkify's user interactions with the aim of predicting customer churn. The dataset, though small in size, provided valuable insights into user behavior. After thorough data cleaning and feature engineering, we constructed a set of features including user demographics, activity metrics, and engagement patterns.\n",
    "\n",
    "Utilizing machine learning models, we evaluated various classifiers including Logistic Regression, Random Forest, Gradient-Boosted Tree, Linear Support Vector Machine, and Naive Bayes. Among these, the Random Forest Classifier stood out as the best performer, achieving an accuracy of 0.78 on the validation set. This model was further fine-tuned using hyperparameter optimization to ensure optimal performance.\n",
    "\n",
    "### Business Impact\n",
    "\n",
    "The application of this predictive model holds significant business value for Sparkify. Armed with the ability to identify potential churners, the company can proactively engage with these customers, offering tailored incentives or personalized experiences to encourage retention. By focusing on newer customers, Sparkify may particularly mitigate the risk of early churn.\n",
    "\n",
    "### Project Reflection\n",
    "\n",
    "This project not only honed my skills in data preprocessing and machine learning modeling with PySpark but also deepened my understanding of churn prediction in a real-world context. The Random Forest algorithm emerged as the most effective in this scenario, showcasing its power in handling imbalanced classes.\n",
    "\n",
    "### Future Work\n",
    "\n",
    "For future enhancements, it would be beneficial to conduct more comprehensive feature engineering, giving priority to those features that exhibit the highest predictive power. Additionally, addressing potential overfitting concerns and conducting a thorough analysis of misclassified instances could further refine the model's performance.\n"
   ]
  }
 ],
 "metadata": {
  "kernelspec": {
   "display_name": "Python 3 (ipykernel)",
   "language": "python",
   "name": "python3"
  },
  "language_info": {
   "codemirror_mode": {
    "name": "ipython",
    "version": 3
   },
   "file_extension": ".py",
   "mimetype": "text/x-python",
   "name": "python",
   "nbconvert_exporter": "python",
   "pygments_lexer": "ipython3",
   "version": "3.9.16"
  }
 },
 "nbformat": 4,
 "nbformat_minor": 2
}
